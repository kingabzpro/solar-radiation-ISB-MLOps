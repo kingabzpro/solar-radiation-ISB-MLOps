{
 "cells": [
  {
   "cell_type": "markdown",
   "metadata": {
    "cell_id": "00000-332c8c84-22d7-4583-b963-0ce5a0b3beb8",
    "deepnote_cell_type": "markdown"
   },
   "source": [
    "# Model Dev"
   ]
  },
  {
   "cell_type": "code",
   "execution_count": null,
   "metadata": {
    "cell_id": "00001-0a53a279-5a2d-472f-a61b-361b4eda5429",
    "deepnote_cell_type": "code",
    "deepnote_to_be_reexecuted": false,
    "execution_millis": 6914,
    "execution_start": 1640539824574,
    "source_hash": "dcda2df3"
   },
   "outputs": [],
   "source": [
    "# import libraries\n",
    "import numpy as np\n",
    "import pandas as pd\n",
    "import seaborn as sns\n",
    "import matplotlib.pyplot as plt\n",
    "sns.set() # revert to matplotlib defaults\n",
    "plt.rcParams['figure.figsize']= (16, 12)"
   ]
  },
  {
   "cell_type": "code",
   "execution_count": null,
   "metadata": {
    "cell_id": "00002-cf241373-65cb-4b1b-9217-531cecc4a870",
    "deepnote_cell_type": "code",
    "deepnote_output_heights": [
     177
    ],
    "deepnote_to_be_reexecuted": false,
    "execution_millis": 465,
    "execution_start": 1640539831567,
    "source_hash": "439a6292"
   },
   "outputs": [
    {
     "data": {
      "application/vnd.deepnote.dataframe.v3+json": {
       "column_count": 12,
       "columns": [
        {
         "dtype": "object",
         "name": "Unnamed: 0",
         "stats": {
          "categories": [
           {
            "count": 1,
            "name": "2018-12-31"
           },
           {
            "count": 1,
            "name": "2019-01-01"
           },
           {
            "count": 3,
            "name": "3 others"
           }
          ],
          "nan_count": 0,
          "unique_count": 5
         }
        },
        {
         "dtype": "int64",
         "name": "MonthPE",
         "stats": {
          "histogram": [
           {
            "bin_end": 2.1,
            "bin_start": 1,
            "count": 4
           },
           {
            "bin_end": 3.2,
            "bin_start": 2.1,
            "count": 0
           },
           {
            "bin_end": 4.300000000000001,
            "bin_start": 3.2,
            "count": 0
           },
           {
            "bin_end": 5.4,
            "bin_start": 4.300000000000001,
            "count": 0
           },
           {
            "bin_end": 6.5,
            "bin_start": 5.4,
            "count": 0
           },
           {
            "bin_end": 7.6000000000000005,
            "bin_start": 6.5,
            "count": 0
           },
           {
            "bin_end": 8.700000000000001,
            "bin_start": 7.6000000000000005,
            "count": 0
           },
           {
            "bin_end": 9.8,
            "bin_start": 8.700000000000001,
            "count": 0
           },
           {
            "bin_end": 10.9,
            "bin_start": 9.8,
            "count": 0
           },
           {
            "bin_end": 12,
            "bin_start": 10.9,
            "count": 1
           }
          ],
          "max": "12",
          "min": "1",
          "nan_count": 0,
          "unique_count": 2
         }
        },
        {
         "dtype": "object",
         "name": "Date",
         "stats": {
          "categories": [
           {
            "count": 1,
            "name": "2018-12-31"
           },
           {
            "count": 1,
            "name": "2019-01-01"
           },
           {
            "count": 3,
            "name": "3 others"
           }
          ],
          "nan_count": 0,
          "unique_count": 5
         }
        },
        {
         "dtype": "float64",
         "name": "Daily_Temp",
         "stats": {
          "histogram": [
           {
            "bin_end": 7.874999999999999,
            "bin_start": 7.529999999999999,
            "count": 1
           },
           {
            "bin_end": 8.219999999999999,
            "bin_start": 7.874999999999999,
            "count": 0
           },
           {
            "bin_end": 8.565,
            "bin_start": 8.219999999999999,
            "count": 1
           },
           {
            "bin_end": 8.91,
            "bin_start": 8.565,
            "count": 0
           },
           {
            "bin_end": 9.254999999999999,
            "bin_start": 8.91,
            "count": 0
           },
           {
            "bin_end": 9.6,
            "bin_start": 9.254999999999999,
            "count": 1
           },
           {
            "bin_end": 9.945,
            "bin_start": 9.6,
            "count": 0
           },
           {
            "bin_end": 10.29,
            "bin_start": 9.945,
            "count": 0
           },
           {
            "bin_end": 10.635,
            "bin_start": 10.29,
            "count": 1
           },
           {
            "bin_end": 10.98,
            "bin_start": 10.635,
            "count": 1
           }
          ],
          "max": "10.98",
          "min": "7.529999999999999",
          "nan_count": 0,
          "unique_count": 5
         }
        },
        {
         "dtype": "float64",
         "name": "Daily_Precip",
         "stats": {
          "histogram": [
           {
            "bin_end": 8.129545454545454,
            "bin_start": 7.427272727272728,
            "count": 1
           },
           {
            "bin_end": 8.831818181818182,
            "bin_start": 8.129545454545454,
            "count": 0
           },
           {
            "bin_end": 9.53409090909091,
            "bin_start": 8.831818181818182,
            "count": 1
           },
           {
            "bin_end": 10.236363636363636,
            "bin_start": 9.53409090909091,
            "count": 0
           },
           {
            "bin_end": 10.938636363636363,
            "bin_start": 10.236363636363636,
            "count": 0
           },
           {
            "bin_end": 11.64090909090909,
            "bin_start": 10.938636363636363,
            "count": 0
           },
           {
            "bin_end": 12.343181818181819,
            "bin_start": 11.64090909090909,
            "count": 0
           },
           {
            "bin_end": 13.045454545454545,
            "bin_start": 12.343181818181819,
            "count": 0
           },
           {
            "bin_end": 13.747727272727271,
            "bin_start": 13.045454545454545,
            "count": 1
           },
           {
            "bin_end": 14.45,
            "bin_start": 13.747727272727271,
            "count": 2
           }
          ],
          "max": "14.45",
          "min": "7.427272727272728",
          "nan_count": 0,
          "unique_count": 5
         }
        },
        {
         "dtype": "float64",
         "name": "Daily_Humidity",
         "stats": {
          "histogram": [
           {
            "bin_end": 62.42,
            "bin_start": 59.2,
            "count": 1
           },
           {
            "bin_end": 65.64,
            "bin_start": 62.42,
            "count": 1
           },
           {
            "bin_end": 68.86,
            "bin_start": 65.64,
            "count": 0
           },
           {
            "bin_end": 72.08,
            "bin_start": 68.86,
            "count": 2
           },
           {
            "bin_end": 75.30000000000001,
            "bin_start": 72.08,
            "count": 0
           },
           {
            "bin_end": 78.52000000000001,
            "bin_start": 75.30000000000001,
            "count": 0
           },
           {
            "bin_end": 81.74000000000001,
            "bin_start": 78.52000000000001,
            "count": 0
           },
           {
            "bin_end": 84.96000000000001,
            "bin_start": 81.74000000000001,
            "count": 0
           },
           {
            "bin_end": 88.18,
            "bin_start": 84.96000000000001,
            "count": 0
           },
           {
            "bin_end": 91.4,
            "bin_start": 88.18,
            "count": 1
           }
          ],
          "max": "91.4",
          "min": "59.2",
          "nan_count": 0,
          "unique_count": 5
         }
        },
        {
         "dtype": "float64",
         "name": "Daily_Pressure",
         "stats": {
          "histogram": [
           {
            "bin_end": 926.2429999999999,
            "bin_start": 925.93,
            "count": 1
           },
           {
            "bin_end": 926.5559999999999,
            "bin_start": 926.2429999999999,
            "count": 0
           },
           {
            "bin_end": 926.8689999999999,
            "bin_start": 926.5559999999999,
            "count": 1
           },
           {
            "bin_end": 927.1819999999999,
            "bin_start": 926.8689999999999,
            "count": 0
           },
           {
            "bin_end": 927.4949999999999,
            "bin_start": 927.1819999999999,
            "count": 1
           },
           {
            "bin_end": 927.808,
            "bin_start": 927.4949999999999,
            "count": 0
           },
           {
            "bin_end": 928.121,
            "bin_start": 927.808,
            "count": 0
           },
           {
            "bin_end": 928.434,
            "bin_start": 928.121,
            "count": 0
           },
           {
            "bin_end": 928.747,
            "bin_start": 928.434,
            "count": 0
           },
           {
            "bin_end": 929.06,
            "bin_start": 928.747,
            "count": 2
           }
          ],
          "max": "929.06",
          "min": "925.93",
          "nan_count": 0,
          "unique_count": 5
         }
        },
        {
         "dtype": "float64",
         "name": "Daily_WindDir",
         "stats": {
          "histogram": [
           {
            "bin_end": 45.266363636363636,
            "bin_start": 31.7,
            "count": 1
           },
           {
            "bin_end": 58.832727272727276,
            "bin_start": 45.266363636363636,
            "count": 0
           },
           {
            "bin_end": 72.39909090909092,
            "bin_start": 58.832727272727276,
            "count": 0
           },
           {
            "bin_end": 85.96545454545455,
            "bin_start": 72.39909090909092,
            "count": 1
           },
           {
            "bin_end": 99.5318181818182,
            "bin_start": 85.96545454545455,
            "count": 0
           },
           {
            "bin_end": 113.09818181818183,
            "bin_start": 99.5318181818182,
            "count": 1
           },
           {
            "bin_end": 126.66454545454548,
            "bin_start": 113.09818181818183,
            "count": 0
           },
           {
            "bin_end": 140.2309090909091,
            "bin_start": 126.66454545454548,
            "count": 0
           },
           {
            "bin_end": 153.79727272727274,
            "bin_start": 140.2309090909091,
            "count": 0
           },
           {
            "bin_end": 167.36363636363637,
            "bin_start": 153.79727272727274,
            "count": 2
           }
          ],
          "max": "167.36363636363637",
          "min": "31.7",
          "nan_count": 0,
          "unique_count": 5
         }
        },
        {
         "dtype": "float64",
         "name": "Daily_WindSpeed",
         "stats": {
          "histogram": [
           {
            "bin_end": 1.629,
            "bin_start": 1.52,
            "count": 1
           },
           {
            "bin_end": 1.738,
            "bin_start": 1.629,
            "count": 2
           },
           {
            "bin_end": 1.847,
            "bin_start": 1.738,
            "count": 0
           },
           {
            "bin_end": 1.9560000000000002,
            "bin_start": 1.847,
            "count": 1
           },
           {
            "bin_end": 2.0650000000000004,
            "bin_start": 1.9560000000000002,
            "count": 0
           },
           {
            "bin_end": 2.1740000000000004,
            "bin_start": 2.0650000000000004,
            "count": 0
           },
           {
            "bin_end": 2.2830000000000004,
            "bin_start": 2.1740000000000004,
            "count": 0
           },
           {
            "bin_end": 2.3920000000000003,
            "bin_start": 2.2830000000000004,
            "count": 0
           },
           {
            "bin_end": 2.5010000000000003,
            "bin_start": 2.3920000000000003,
            "count": 0
           },
           {
            "bin_end": 2.6100000000000003,
            "bin_start": 2.5010000000000003,
            "count": 1
           }
          ],
          "max": "2.6100000000000003",
          "min": "1.52",
          "nan_count": 0,
          "unique_count": 5
         }
        },
        {
         "dtype": "float64",
         "name": "Daily_DNI",
         "stats": {
          "histogram": [
           {
            "bin_end": 53.21,
            "bin_start": 1.1,
            "count": 2
           },
           {
            "bin_end": 105.32,
            "bin_start": 53.21,
            "count": 0
           },
           {
            "bin_end": 157.42999999999998,
            "bin_start": 105.32,
            "count": 0
           },
           {
            "bin_end": 209.54,
            "bin_start": 157.42999999999998,
            "count": 0
           },
           {
            "bin_end": 261.65000000000003,
            "bin_start": 209.54,
            "count": 0
           },
           {
            "bin_end": 313.76,
            "bin_start": 261.65000000000003,
            "count": 1
           },
           {
            "bin_end": 365.87,
            "bin_start": 313.76,
            "count": 0
           },
           {
            "bin_end": 417.98,
            "bin_start": 365.87,
            "count": 0
           },
           {
            "bin_end": 470.09000000000003,
            "bin_start": 417.98,
            "count": 0
           },
           {
            "bin_end": 522.2,
            "bin_start": 470.09000000000003,
            "count": 2
           }
          ],
          "max": "522.2",
          "min": "1.1",
          "nan_count": 0,
          "unique_count": 5
         }
        },
        {
         "dtype": "float64",
         "name": "Daily_GHI",
         "stats": {
          "histogram": [
           {
            "bin_end": 119.13,
            "bin_start": 96.3,
            "count": 2
           },
           {
            "bin_end": 141.96,
            "bin_start": 119.13,
            "count": 0
           },
           {
            "bin_end": 164.79000000000002,
            "bin_start": 141.96,
            "count": 0
           },
           {
            "bin_end": 187.62,
            "bin_start": 164.79000000000002,
            "count": 0
           },
           {
            "bin_end": 210.45,
            "bin_start": 187.62,
            "count": 0
           },
           {
            "bin_end": 233.28000000000003,
            "bin_start": 210.45,
            "count": 0
           },
           {
            "bin_end": 256.11,
            "bin_start": 233.28000000000003,
            "count": 0
           },
           {
            "bin_end": 278.94,
            "bin_start": 256.11,
            "count": 1
           },
           {
            "bin_end": 301.77000000000004,
            "bin_start": 278.94,
            "count": 1
           },
           {
            "bin_end": 324.6,
            "bin_start": 301.77000000000004,
            "count": 1
           }
          ],
          "max": "324.6",
          "min": "96.3",
          "nan_count": 0,
          "unique_count": 5
         }
        },
        {
         "dtype": "float64",
         "name": "Daily_radiation",
         "stats": {
          "histogram": [
           {
            "bin_end": 94.05545454545454,
            "bin_start": 88.27272727272727,
            "count": 2
           },
           {
            "bin_end": 99.83818181818181,
            "bin_start": 94.05545454545454,
            "count": 2
           },
           {
            "bin_end": 105.6209090909091,
            "bin_start": 99.83818181818181,
            "count": 0
           },
           {
            "bin_end": 111.40363636363637,
            "bin_start": 105.6209090909091,
            "count": 0
           },
           {
            "bin_end": 117.18636363636364,
            "bin_start": 111.40363636363637,
            "count": 0
           },
           {
            "bin_end": 122.96909090909091,
            "bin_start": 117.18636363636364,
            "count": 0
           },
           {
            "bin_end": 128.75181818181818,
            "bin_start": 122.96909090909091,
            "count": 0
           },
           {
            "bin_end": 134.53454545454545,
            "bin_start": 128.75181818181818,
            "count": 0
           },
           {
            "bin_end": 140.31727272727272,
            "bin_start": 134.53454545454545,
            "count": 0
           },
           {
            "bin_end": 146.1,
            "bin_start": 140.31727272727272,
            "count": 1
           }
          ],
          "max": "146.1",
          "min": "88.27272727272727",
          "nan_count": 0,
          "unique_count": 4
         }
        },
        {
         "dtype": "int64",
         "name": "_deepnote_index_column"
        }
       ],
       "row_count": 5,
       "rows": [
        {
         "Daily_DNI": 522.2,
         "Daily_GHI": 324.6,
         "Daily_Humidity": 59.2,
         "Daily_Precip": 9.07,
         "Daily_Pressure": 929.06,
         "Daily_Temp": 10.98,
         "Daily_WindDir": 167.3,
         "Daily_WindSpeed": 1.86,
         "Daily_radiation": 96.2,
         "Date": "2018-12-31",
         "MonthPE": 12,
         "Unnamed: 0": "2018-12-31",
         "_deepnote_index_column": 0
        },
        {
         "Daily_DNI": 1.1,
         "Daily_GHI": 96.3,
         "Daily_Humidity": 62.5,
         "Daily_Precip": 14.419999999999998,
         "Daily_Pressure": 925.93,
         "Daily_Temp": 10.57,
         "Daily_WindDir": 84.8,
         "Daily_WindSpeed": 1.52,
         "Daily_radiation": 96.2,
         "Date": "2019-01-01",
         "MonthPE": 1,
         "Unnamed: 0": "2019-01-01",
         "_deepnote_index_column": 1
        },
        {
         "Daily_DNI": 275.8,
         "Daily_GHI": 259.5,
         "Daily_Humidity": 91.4,
         "Daily_Precip": 14.45,
         "Daily_Pressure": 927.23,
         "Daily_Temp": 8.41,
         "Daily_WindDir": 109.4,
         "Daily_WindSpeed": 1.64,
         "Daily_radiation": 146.1,
         "Date": "2019-01-02",
         "MonthPE": 1,
         "Unnamed: 0": "2019-01-02",
         "_deepnote_index_column": 2
        },
        {
         "Daily_DNI": 471,
         "Daily_GHI": 294.3636363636364,
         "Daily_Humidity": 70,
         "Daily_Precip": 7.427272727272728,
         "Daily_Pressure": 928.7909090909088,
         "Daily_Temp": 9.318181818181818,
         "Daily_WindDir": 167.36363636363637,
         "Daily_WindSpeed": 1.7363636363636366,
         "Daily_radiation": 88.27272727272727,
         "Date": "2019-01-03",
         "MonthPE": 1,
         "Unnamed: 0": "2019-01-03",
         "_deepnote_index_column": 3
        },
        {
         "Daily_DNI": 9.1,
         "Daily_GHI": 96.7,
         "Daily_Humidity": 69,
         "Daily_Precip": 13.65,
         "Daily_Pressure": 926.66,
         "Daily_Temp": 7.529999999999999,
         "Daily_WindDir": 31.7,
         "Daily_WindSpeed": 2.6100000000000003,
         "Daily_radiation": 92.3,
         "Date": "2019-01-04",
         "MonthPE": 1,
         "Unnamed: 0": "2019-01-04",
         "_deepnote_index_column": 4
        }
       ]
      },
      "text/html": [
       "<div>\n",
       "<style scoped>\n",
       "    .dataframe tbody tr th:only-of-type {\n",
       "        vertical-align: middle;\n",
       "    }\n",
       "\n",
       "    .dataframe tbody tr th {\n",
       "        vertical-align: top;\n",
       "    }\n",
       "\n",
       "    .dataframe thead th {\n",
       "        text-align: right;\n",
       "    }\n",
       "</style>\n",
       "<table border=\"1\" class=\"dataframe\">\n",
       "  <thead>\n",
       "    <tr style=\"text-align: right;\">\n",
       "      <th></th>\n",
       "      <th>Unnamed: 0</th>\n",
       "      <th>MonthPE</th>\n",
       "      <th>Date</th>\n",
       "      <th>Daily_Temp</th>\n",
       "      <th>Daily_Precip</th>\n",
       "      <th>Daily_Humidity</th>\n",
       "      <th>Daily_Pressure</th>\n",
       "      <th>Daily_WindDir</th>\n",
       "      <th>Daily_WindSpeed</th>\n",
       "      <th>Daily_DNI</th>\n",
       "      <th>Daily_GHI</th>\n",
       "      <th>Daily_radiation</th>\n",
       "    </tr>\n",
       "  </thead>\n",
       "  <tbody>\n",
       "    <tr>\n",
       "      <th>0</th>\n",
       "      <td>2018-12-31</td>\n",
       "      <td>12</td>\n",
       "      <td>2018-12-31</td>\n",
       "      <td>10.980000</td>\n",
       "      <td>9.070000</td>\n",
       "      <td>59.2</td>\n",
       "      <td>929.060000</td>\n",
       "      <td>167.300000</td>\n",
       "      <td>1.860000</td>\n",
       "      <td>522.2</td>\n",
       "      <td>324.600000</td>\n",
       "      <td>96.200000</td>\n",
       "    </tr>\n",
       "    <tr>\n",
       "      <th>1</th>\n",
       "      <td>2019-01-01</td>\n",
       "      <td>1</td>\n",
       "      <td>2019-01-01</td>\n",
       "      <td>10.570000</td>\n",
       "      <td>14.420000</td>\n",
       "      <td>62.5</td>\n",
       "      <td>925.930000</td>\n",
       "      <td>84.800000</td>\n",
       "      <td>1.520000</td>\n",
       "      <td>1.1</td>\n",
       "      <td>96.300000</td>\n",
       "      <td>96.200000</td>\n",
       "    </tr>\n",
       "    <tr>\n",
       "      <th>2</th>\n",
       "      <td>2019-01-02</td>\n",
       "      <td>1</td>\n",
       "      <td>2019-01-02</td>\n",
       "      <td>8.410000</td>\n",
       "      <td>14.450000</td>\n",
       "      <td>91.4</td>\n",
       "      <td>927.230000</td>\n",
       "      <td>109.400000</td>\n",
       "      <td>1.640000</td>\n",
       "      <td>275.8</td>\n",
       "      <td>259.500000</td>\n",
       "      <td>146.100000</td>\n",
       "    </tr>\n",
       "    <tr>\n",
       "      <th>3</th>\n",
       "      <td>2019-01-03</td>\n",
       "      <td>1</td>\n",
       "      <td>2019-01-03</td>\n",
       "      <td>9.318182</td>\n",
       "      <td>7.427273</td>\n",
       "      <td>70.0</td>\n",
       "      <td>928.790909</td>\n",
       "      <td>167.363636</td>\n",
       "      <td>1.736364</td>\n",
       "      <td>471.0</td>\n",
       "      <td>294.363636</td>\n",
       "      <td>88.272727</td>\n",
       "    </tr>\n",
       "    <tr>\n",
       "      <th>4</th>\n",
       "      <td>2019-01-04</td>\n",
       "      <td>1</td>\n",
       "      <td>2019-01-04</td>\n",
       "      <td>7.530000</td>\n",
       "      <td>13.650000</td>\n",
       "      <td>69.0</td>\n",
       "      <td>926.660000</td>\n",
       "      <td>31.700000</td>\n",
       "      <td>2.610000</td>\n",
       "      <td>9.1</td>\n",
       "      <td>96.700000</td>\n",
       "      <td>92.300000</td>\n",
       "    </tr>\n",
       "  </tbody>\n",
       "</table>\n",
       "</div>"
      ],
      "text/plain": [
       "   Unnamed: 0  MonthPE        Date  Daily_Temp  Daily_Precip  Daily_Humidity  \\\n",
       "0  2018-12-31       12  2018-12-31   10.980000      9.070000            59.2   \n",
       "1  2019-01-01        1  2019-01-01   10.570000     14.420000            62.5   \n",
       "2  2019-01-02        1  2019-01-02    8.410000     14.450000            91.4   \n",
       "3  2019-01-03        1  2019-01-03    9.318182      7.427273            70.0   \n",
       "4  2019-01-04        1  2019-01-04    7.530000     13.650000            69.0   \n",
       "\n",
       "   Daily_Pressure  Daily_WindDir  Daily_WindSpeed  Daily_DNI   Daily_GHI  \\\n",
       "0      929.060000     167.300000         1.860000      522.2  324.600000   \n",
       "1      925.930000      84.800000         1.520000        1.1   96.300000   \n",
       "2      927.230000     109.400000         1.640000      275.8  259.500000   \n",
       "3      928.790909     167.363636         1.736364      471.0  294.363636   \n",
       "4      926.660000      31.700000         2.610000        9.1   96.700000   \n",
       "\n",
       "   Daily_radiation  \n",
       "0        96.200000  \n",
       "1        96.200000  \n",
       "2       146.100000  \n",
       "3        88.272727  \n",
       "4        92.300000  "
      ]
     },
     "execution_count": 2,
     "metadata": {},
     "output_type": "execute_result"
    }
   ],
   "source": [
    "# load clean dataset\n",
    "cleaned_df= pd.read_csv('./Data/ISB-solcast-clean.csv')\n",
    "cleaned_df.head()"
   ]
  },
  {
   "cell_type": "code",
   "execution_count": null,
   "metadata": {
    "cell_id": "00003-2381227a-daba-4e10-887b-db7765a250ec",
    "deepnote_cell_type": "code",
    "deepnote_output_heights": [
     78.75
    ],
    "deepnote_to_be_reexecuted": false,
    "execution_millis": 2,
    "execution_start": 1640539832088,
    "source_hash": "4646216b"
   },
   "outputs": [
    {
     "data": {
      "text/plain": [
       "Index(['Unnamed: 0', 'MonthPE', 'Date', 'Daily_Temp', 'Daily_Precip',\n",
       "       'Daily_Humidity', 'Daily_Pressure', 'Daily_WindDir', 'Daily_WindSpeed',\n",
       "       'Daily_DNI', 'Daily_GHI', 'Daily_radiation'],\n",
       "      dtype='object')"
      ]
     },
     "execution_count": 3,
     "metadata": {},
     "output_type": "execute_result"
    }
   ],
   "source": [
    "# display column names\n",
    "cleaned_df.columns"
   ]
  },
  {
   "cell_type": "code",
   "execution_count": null,
   "metadata": {
    "cell_id": "00004-0f8c433f-7245-439c-ba93-dfa61bd47b81",
    "deepnote_cell_type": "code",
    "deepnote_to_be_reexecuted": false,
    "execution_start": 1640539832154,
    "source_hash": "225a9cb6"
   },
   "outputs": [],
   "source": [
    "# select features\n",
    "cleaned_df= cleaned_df[['MonthPE', 'Date', 'Daily_Temp', 'Daily_Precip', 'Daily_Humidity', 'Daily_Pressure',\\\n",
    "                        'Daily_WindDir', 'Daily_WindSpeed', 'Daily_DNI', 'Daily_GHI', 'Daily_radiation']]"
   ]
  },
  {
   "cell_type": "code",
   "execution_count": null,
   "metadata": {
    "cell_id": "00005-3b645a13-e34d-4184-b206-43cf6aa61b0f",
    "deepnote_cell_type": "code",
    "deepnote_to_be_reexecuted": false,
    "execution_millis": 0,
    "execution_start": 1640539832221,
    "source_hash": "47e587a5"
   },
   "outputs": [],
   "source": [
    "# feature engineering of time series column\n",
    "cleaned_df['Date'] = pd.to_datetime(cleaned_df['Date'], format='%Y-%m-%d')\n",
    "cleaned_df['year']= cleaned_df['Date'].dt.year\n",
    "cleaned_df['month']= cleaned_df['Date'].dt.month\n",
    "cleaned_df['day']= cleaned_df['Date'].dt.day"
   ]
  },
  {
   "cell_type": "code",
   "execution_count": null,
   "metadata": {
    "cell_id": "00006-8e708068-b1c3-4c42-b41f-8e3f298a0cc2",
    "deepnote_cell_type": "code",
    "deepnote_output_heights": [
     78.75
    ],
    "deepnote_to_be_reexecuted": false,
    "execution_start": 1640539832284,
    "source_hash": "4646216b"
   },
   "outputs": [
    {
     "data": {
      "text/plain": [
       "Index(['MonthPE', 'Date', 'Daily_Temp', 'Daily_Precip', 'Daily_Humidity',\n",
       "       'Daily_Pressure', 'Daily_WindDir', 'Daily_WindSpeed', 'Daily_DNI',\n",
       "       'Daily_GHI', 'Daily_radiation', 'year', 'month', 'day'],\n",
       "      dtype='object')"
      ]
     },
     "execution_count": 6,
     "metadata": {},
     "output_type": "execute_result"
    }
   ],
   "source": [
    "# display column names\n",
    "cleaned_df.columns"
   ]
  },
  {
   "cell_type": "code",
   "execution_count": null,
   "metadata": {
    "cell_id": "00007-94580b34-56d4-4e76-b335-833533ff462e",
    "deepnote_cell_type": "code",
    "deepnote_output_heights": [
     177
    ],
    "deepnote_to_be_reexecuted": false,
    "execution_millis": 246,
    "execution_start": 1640539832382,
    "source_hash": "da123cc9"
   },
   "outputs": [
    {
     "data": {
      "application/vnd.deepnote.dataframe.v3+json": {
       "column_count": 11,
       "columns": [
        {
         "dtype": "int64",
         "name": "month",
         "stats": {
          "histogram": [
           {
            "bin_end": 2.1,
            "bin_start": 1,
            "count": 4
           },
           {
            "bin_end": 3.2,
            "bin_start": 2.1,
            "count": 0
           },
           {
            "bin_end": 4.300000000000001,
            "bin_start": 3.2,
            "count": 0
           },
           {
            "bin_end": 5.4,
            "bin_start": 4.300000000000001,
            "count": 0
           },
           {
            "bin_end": 6.5,
            "bin_start": 5.4,
            "count": 0
           },
           {
            "bin_end": 7.6000000000000005,
            "bin_start": 6.5,
            "count": 0
           },
           {
            "bin_end": 8.700000000000001,
            "bin_start": 7.6000000000000005,
            "count": 0
           },
           {
            "bin_end": 9.8,
            "bin_start": 8.700000000000001,
            "count": 0
           },
           {
            "bin_end": 10.9,
            "bin_start": 9.8,
            "count": 0
           },
           {
            "bin_end": 12,
            "bin_start": 10.9,
            "count": 1
           }
          ],
          "max": "12",
          "min": "1",
          "nan_count": 0,
          "unique_count": 2
         }
        },
        {
         "dtype": "int64",
         "name": "day",
         "stats": {
          "histogram": [
           {
            "bin_end": 4,
            "bin_start": 1,
            "count": 3
           },
           {
            "bin_end": 7,
            "bin_start": 4,
            "count": 1
           },
           {
            "bin_end": 10,
            "bin_start": 7,
            "count": 0
           },
           {
            "bin_end": 13,
            "bin_start": 10,
            "count": 0
           },
           {
            "bin_end": 16,
            "bin_start": 13,
            "count": 0
           },
           {
            "bin_end": 19,
            "bin_start": 16,
            "count": 0
           },
           {
            "bin_end": 22,
            "bin_start": 19,
            "count": 0
           },
           {
            "bin_end": 25,
            "bin_start": 22,
            "count": 0
           },
           {
            "bin_end": 28,
            "bin_start": 25,
            "count": 0
           },
           {
            "bin_end": 31,
            "bin_start": 28,
            "count": 1
           }
          ],
          "max": "31",
          "min": "1",
          "nan_count": 0,
          "unique_count": 5
         }
        },
        {
         "dtype": "float64",
         "name": "Daily_Temp",
         "stats": {
          "histogram": [
           {
            "bin_end": 7.874999999999999,
            "bin_start": 7.529999999999999,
            "count": 1
           },
           {
            "bin_end": 8.219999999999999,
            "bin_start": 7.874999999999999,
            "count": 0
           },
           {
            "bin_end": 8.565,
            "bin_start": 8.219999999999999,
            "count": 1
           },
           {
            "bin_end": 8.91,
            "bin_start": 8.565,
            "count": 0
           },
           {
            "bin_end": 9.254999999999999,
            "bin_start": 8.91,
            "count": 0
           },
           {
            "bin_end": 9.6,
            "bin_start": 9.254999999999999,
            "count": 1
           },
           {
            "bin_end": 9.945,
            "bin_start": 9.6,
            "count": 0
           },
           {
            "bin_end": 10.29,
            "bin_start": 9.945,
            "count": 0
           },
           {
            "bin_end": 10.635,
            "bin_start": 10.29,
            "count": 1
           },
           {
            "bin_end": 10.98,
            "bin_start": 10.635,
            "count": 1
           }
          ],
          "max": "10.98",
          "min": "7.529999999999999",
          "nan_count": 0,
          "unique_count": 5
         }
        },
        {
         "dtype": "float64",
         "name": "Daily_Precip",
         "stats": {
          "histogram": [
           {
            "bin_end": 8.129545454545454,
            "bin_start": 7.427272727272728,
            "count": 1
           },
           {
            "bin_end": 8.831818181818182,
            "bin_start": 8.129545454545454,
            "count": 0
           },
           {
            "bin_end": 9.53409090909091,
            "bin_start": 8.831818181818182,
            "count": 1
           },
           {
            "bin_end": 10.236363636363636,
            "bin_start": 9.53409090909091,
            "count": 0
           },
           {
            "bin_end": 10.938636363636363,
            "bin_start": 10.236363636363636,
            "count": 0
           },
           {
            "bin_end": 11.64090909090909,
            "bin_start": 10.938636363636363,
            "count": 0
           },
           {
            "bin_end": 12.343181818181819,
            "bin_start": 11.64090909090909,
            "count": 0
           },
           {
            "bin_end": 13.045454545454545,
            "bin_start": 12.343181818181819,
            "count": 0
           },
           {
            "bin_end": 13.747727272727271,
            "bin_start": 13.045454545454545,
            "count": 1
           },
           {
            "bin_end": 14.45,
            "bin_start": 13.747727272727271,
            "count": 2
           }
          ],
          "max": "14.45",
          "min": "7.427272727272728",
          "nan_count": 0,
          "unique_count": 5
         }
        },
        {
         "dtype": "float64",
         "name": "Daily_Humidity",
         "stats": {
          "histogram": [
           {
            "bin_end": 62.42,
            "bin_start": 59.2,
            "count": 1
           },
           {
            "bin_end": 65.64,
            "bin_start": 62.42,
            "count": 1
           },
           {
            "bin_end": 68.86,
            "bin_start": 65.64,
            "count": 0
           },
           {
            "bin_end": 72.08,
            "bin_start": 68.86,
            "count": 2
           },
           {
            "bin_end": 75.30000000000001,
            "bin_start": 72.08,
            "count": 0
           },
           {
            "bin_end": 78.52000000000001,
            "bin_start": 75.30000000000001,
            "count": 0
           },
           {
            "bin_end": 81.74000000000001,
            "bin_start": 78.52000000000001,
            "count": 0
           },
           {
            "bin_end": 84.96000000000001,
            "bin_start": 81.74000000000001,
            "count": 0
           },
           {
            "bin_end": 88.18,
            "bin_start": 84.96000000000001,
            "count": 0
           },
           {
            "bin_end": 91.4,
            "bin_start": 88.18,
            "count": 1
           }
          ],
          "max": "91.4",
          "min": "59.2",
          "nan_count": 0,
          "unique_count": 5
         }
        },
        {
         "dtype": "float64",
         "name": "Daily_Pressure",
         "stats": {
          "histogram": [
           {
            "bin_end": 926.2429999999999,
            "bin_start": 925.93,
            "count": 1
           },
           {
            "bin_end": 926.5559999999999,
            "bin_start": 926.2429999999999,
            "count": 0
           },
           {
            "bin_end": 926.8689999999999,
            "bin_start": 926.5559999999999,
            "count": 1
           },
           {
            "bin_end": 927.1819999999999,
            "bin_start": 926.8689999999999,
            "count": 0
           },
           {
            "bin_end": 927.4949999999999,
            "bin_start": 927.1819999999999,
            "count": 1
           },
           {
            "bin_end": 927.808,
            "bin_start": 927.4949999999999,
            "count": 0
           },
           {
            "bin_end": 928.121,
            "bin_start": 927.808,
            "count": 0
           },
           {
            "bin_end": 928.434,
            "bin_start": 928.121,
            "count": 0
           },
           {
            "bin_end": 928.747,
            "bin_start": 928.434,
            "count": 0
           },
           {
            "bin_end": 929.06,
            "bin_start": 928.747,
            "count": 2
           }
          ],
          "max": "929.06",
          "min": "925.93",
          "nan_count": 0,
          "unique_count": 5
         }
        },
        {
         "dtype": "float64",
         "name": "Daily_WindDir",
         "stats": {
          "histogram": [
           {
            "bin_end": 45.266363636363636,
            "bin_start": 31.7,
            "count": 1
           },
           {
            "bin_end": 58.832727272727276,
            "bin_start": 45.266363636363636,
            "count": 0
           },
           {
            "bin_end": 72.39909090909092,
            "bin_start": 58.832727272727276,
            "count": 0
           },
           {
            "bin_end": 85.96545454545455,
            "bin_start": 72.39909090909092,
            "count": 1
           },
           {
            "bin_end": 99.5318181818182,
            "bin_start": 85.96545454545455,
            "count": 0
           },
           {
            "bin_end": 113.09818181818183,
            "bin_start": 99.5318181818182,
            "count": 1
           },
           {
            "bin_end": 126.66454545454548,
            "bin_start": 113.09818181818183,
            "count": 0
           },
           {
            "bin_end": 140.2309090909091,
            "bin_start": 126.66454545454548,
            "count": 0
           },
           {
            "bin_end": 153.79727272727274,
            "bin_start": 140.2309090909091,
            "count": 0
           },
           {
            "bin_end": 167.36363636363637,
            "bin_start": 153.79727272727274,
            "count": 2
           }
          ],
          "max": "167.36363636363637",
          "min": "31.7",
          "nan_count": 0,
          "unique_count": 5
         }
        },
        {
         "dtype": "float64",
         "name": "Daily_WindSpeed",
         "stats": {
          "histogram": [
           {
            "bin_end": 1.629,
            "bin_start": 1.52,
            "count": 1
           },
           {
            "bin_end": 1.738,
            "bin_start": 1.629,
            "count": 2
           },
           {
            "bin_end": 1.847,
            "bin_start": 1.738,
            "count": 0
           },
           {
            "bin_end": 1.9560000000000002,
            "bin_start": 1.847,
            "count": 1
           },
           {
            "bin_end": 2.0650000000000004,
            "bin_start": 1.9560000000000002,
            "count": 0
           },
           {
            "bin_end": 2.1740000000000004,
            "bin_start": 2.0650000000000004,
            "count": 0
           },
           {
            "bin_end": 2.2830000000000004,
            "bin_start": 2.1740000000000004,
            "count": 0
           },
           {
            "bin_end": 2.3920000000000003,
            "bin_start": 2.2830000000000004,
            "count": 0
           },
           {
            "bin_end": 2.5010000000000003,
            "bin_start": 2.3920000000000003,
            "count": 0
           },
           {
            "bin_end": 2.6100000000000003,
            "bin_start": 2.5010000000000003,
            "count": 1
           }
          ],
          "max": "2.6100000000000003",
          "min": "1.52",
          "nan_count": 0,
          "unique_count": 5
         }
        },
        {
         "dtype": "float64",
         "name": "Daily_DNI",
         "stats": {
          "histogram": [
           {
            "bin_end": 53.21,
            "bin_start": 1.1,
            "count": 2
           },
           {
            "bin_end": 105.32,
            "bin_start": 53.21,
            "count": 0
           },
           {
            "bin_end": 157.42999999999998,
            "bin_start": 105.32,
            "count": 0
           },
           {
            "bin_end": 209.54,
            "bin_start": 157.42999999999998,
            "count": 0
           },
           {
            "bin_end": 261.65000000000003,
            "bin_start": 209.54,
            "count": 0
           },
           {
            "bin_end": 313.76,
            "bin_start": 261.65000000000003,
            "count": 1
           },
           {
            "bin_end": 365.87,
            "bin_start": 313.76,
            "count": 0
           },
           {
            "bin_end": 417.98,
            "bin_start": 365.87,
            "count": 0
           },
           {
            "bin_end": 470.09000000000003,
            "bin_start": 417.98,
            "count": 0
           },
           {
            "bin_end": 522.2,
            "bin_start": 470.09000000000003,
            "count": 2
           }
          ],
          "max": "522.2",
          "min": "1.1",
          "nan_count": 0,
          "unique_count": 5
         }
        },
        {
         "dtype": "float64",
         "name": "Daily_GHI",
         "stats": {
          "histogram": [
           {
            "bin_end": 119.13,
            "bin_start": 96.3,
            "count": 2
           },
           {
            "bin_end": 141.96,
            "bin_start": 119.13,
            "count": 0
           },
           {
            "bin_end": 164.79000000000002,
            "bin_start": 141.96,
            "count": 0
           },
           {
            "bin_end": 187.62,
            "bin_start": 164.79000000000002,
            "count": 0
           },
           {
            "bin_end": 210.45,
            "bin_start": 187.62,
            "count": 0
           },
           {
            "bin_end": 233.28000000000003,
            "bin_start": 210.45,
            "count": 0
           },
           {
            "bin_end": 256.11,
            "bin_start": 233.28000000000003,
            "count": 0
           },
           {
            "bin_end": 278.94,
            "bin_start": 256.11,
            "count": 1
           },
           {
            "bin_end": 301.77000000000004,
            "bin_start": 278.94,
            "count": 1
           },
           {
            "bin_end": 324.6,
            "bin_start": 301.77000000000004,
            "count": 1
           }
          ],
          "max": "324.6",
          "min": "96.3",
          "nan_count": 0,
          "unique_count": 5
         }
        },
        {
         "dtype": "float64",
         "name": "Daily_radiation",
         "stats": {
          "histogram": [
           {
            "bin_end": 94.05545454545454,
            "bin_start": 88.27272727272727,
            "count": 2
           },
           {
            "bin_end": 99.83818181818181,
            "bin_start": 94.05545454545454,
            "count": 2
           },
           {
            "bin_end": 105.6209090909091,
            "bin_start": 99.83818181818181,
            "count": 0
           },
           {
            "bin_end": 111.40363636363637,
            "bin_start": 105.6209090909091,
            "count": 0
           },
           {
            "bin_end": 117.18636363636364,
            "bin_start": 111.40363636363637,
            "count": 0
           },
           {
            "bin_end": 122.96909090909091,
            "bin_start": 117.18636363636364,
            "count": 0
           },
           {
            "bin_end": 128.75181818181818,
            "bin_start": 122.96909090909091,
            "count": 0
           },
           {
            "bin_end": 134.53454545454545,
            "bin_start": 128.75181818181818,
            "count": 0
           },
           {
            "bin_end": 140.31727272727272,
            "bin_start": 134.53454545454545,
            "count": 0
           },
           {
            "bin_end": 146.1,
            "bin_start": 140.31727272727272,
            "count": 1
           }
          ],
          "max": "146.1",
          "min": "88.27272727272727",
          "nan_count": 0,
          "unique_count": 4
         }
        },
        {
         "dtype": "int64",
         "name": "_deepnote_index_column"
        }
       ],
       "row_count": 5,
       "rows": [
        {
         "Daily_DNI": 522.2,
         "Daily_GHI": 324.6,
         "Daily_Humidity": 59.2,
         "Daily_Precip": 9.07,
         "Daily_Pressure": 929.06,
         "Daily_Temp": 10.98,
         "Daily_WindDir": 167.3,
         "Daily_WindSpeed": 1.86,
         "Daily_radiation": 96.2,
         "_deepnote_index_column": 0,
         "day": 31,
         "month": 12
        },
        {
         "Daily_DNI": 1.1,
         "Daily_GHI": 96.3,
         "Daily_Humidity": 62.5,
         "Daily_Precip": 14.419999999999998,
         "Daily_Pressure": 925.93,
         "Daily_Temp": 10.57,
         "Daily_WindDir": 84.8,
         "Daily_WindSpeed": 1.52,
         "Daily_radiation": 96.2,
         "_deepnote_index_column": 1,
         "day": 1,
         "month": 1
        },
        {
         "Daily_DNI": 275.8,
         "Daily_GHI": 259.5,
         "Daily_Humidity": 91.4,
         "Daily_Precip": 14.45,
         "Daily_Pressure": 927.23,
         "Daily_Temp": 8.41,
         "Daily_WindDir": 109.4,
         "Daily_WindSpeed": 1.64,
         "Daily_radiation": 146.1,
         "_deepnote_index_column": 2,
         "day": 2,
         "month": 1
        },
        {
         "Daily_DNI": 471,
         "Daily_GHI": 294.3636363636364,
         "Daily_Humidity": 70,
         "Daily_Precip": 7.427272727272728,
         "Daily_Pressure": 928.7909090909088,
         "Daily_Temp": 9.318181818181818,
         "Daily_WindDir": 167.36363636363637,
         "Daily_WindSpeed": 1.7363636363636366,
         "Daily_radiation": 88.27272727272727,
         "_deepnote_index_column": 3,
         "day": 3,
         "month": 1
        },
        {
         "Daily_DNI": 9.1,
         "Daily_GHI": 96.7,
         "Daily_Humidity": 69,
         "Daily_Precip": 13.65,
         "Daily_Pressure": 926.66,
         "Daily_Temp": 7.529999999999999,
         "Daily_WindDir": 31.7,
         "Daily_WindSpeed": 2.6100000000000003,
         "Daily_radiation": 92.3,
         "_deepnote_index_column": 4,
         "day": 4,
         "month": 1
        }
       ]
      },
      "text/html": [
       "<div>\n",
       "<style scoped>\n",
       "    .dataframe tbody tr th:only-of-type {\n",
       "        vertical-align: middle;\n",
       "    }\n",
       "\n",
       "    .dataframe tbody tr th {\n",
       "        vertical-align: top;\n",
       "    }\n",
       "\n",
       "    .dataframe thead th {\n",
       "        text-align: right;\n",
       "    }\n",
       "</style>\n",
       "<table border=\"1\" class=\"dataframe\">\n",
       "  <thead>\n",
       "    <tr style=\"text-align: right;\">\n",
       "      <th></th>\n",
       "      <th>month</th>\n",
       "      <th>day</th>\n",
       "      <th>Daily_Temp</th>\n",
       "      <th>Daily_Precip</th>\n",
       "      <th>Daily_Humidity</th>\n",
       "      <th>Daily_Pressure</th>\n",
       "      <th>Daily_WindDir</th>\n",
       "      <th>Daily_WindSpeed</th>\n",
       "      <th>Daily_DNI</th>\n",
       "      <th>Daily_GHI</th>\n",
       "      <th>Daily_radiation</th>\n",
       "    </tr>\n",
       "  </thead>\n",
       "  <tbody>\n",
       "    <tr>\n",
       "      <th>0</th>\n",
       "      <td>12</td>\n",
       "      <td>31</td>\n",
       "      <td>10.980000</td>\n",
       "      <td>9.070000</td>\n",
       "      <td>59.2</td>\n",
       "      <td>929.060000</td>\n",
       "      <td>167.300000</td>\n",
       "      <td>1.860000</td>\n",
       "      <td>522.2</td>\n",
       "      <td>324.600000</td>\n",
       "      <td>96.200000</td>\n",
       "    </tr>\n",
       "    <tr>\n",
       "      <th>1</th>\n",
       "      <td>1</td>\n",
       "      <td>1</td>\n",
       "      <td>10.570000</td>\n",
       "      <td>14.420000</td>\n",
       "      <td>62.5</td>\n",
       "      <td>925.930000</td>\n",
       "      <td>84.800000</td>\n",
       "      <td>1.520000</td>\n",
       "      <td>1.1</td>\n",
       "      <td>96.300000</td>\n",
       "      <td>96.200000</td>\n",
       "    </tr>\n",
       "    <tr>\n",
       "      <th>2</th>\n",
       "      <td>1</td>\n",
       "      <td>2</td>\n",
       "      <td>8.410000</td>\n",
       "      <td>14.450000</td>\n",
       "      <td>91.4</td>\n",
       "      <td>927.230000</td>\n",
       "      <td>109.400000</td>\n",
       "      <td>1.640000</td>\n",
       "      <td>275.8</td>\n",
       "      <td>259.500000</td>\n",
       "      <td>146.100000</td>\n",
       "    </tr>\n",
       "    <tr>\n",
       "      <th>3</th>\n",
       "      <td>1</td>\n",
       "      <td>3</td>\n",
       "      <td>9.318182</td>\n",
       "      <td>7.427273</td>\n",
       "      <td>70.0</td>\n",
       "      <td>928.790909</td>\n",
       "      <td>167.363636</td>\n",
       "      <td>1.736364</td>\n",
       "      <td>471.0</td>\n",
       "      <td>294.363636</td>\n",
       "      <td>88.272727</td>\n",
       "    </tr>\n",
       "    <tr>\n",
       "      <th>4</th>\n",
       "      <td>1</td>\n",
       "      <td>4</td>\n",
       "      <td>7.530000</td>\n",
       "      <td>13.650000</td>\n",
       "      <td>69.0</td>\n",
       "      <td>926.660000</td>\n",
       "      <td>31.700000</td>\n",
       "      <td>2.610000</td>\n",
       "      <td>9.1</td>\n",
       "      <td>96.700000</td>\n",
       "      <td>92.300000</td>\n",
       "    </tr>\n",
       "  </tbody>\n",
       "</table>\n",
       "</div>"
      ],
      "text/plain": [
       "   month  day  Daily_Temp  Daily_Precip  Daily_Humidity  Daily_Pressure  \\\n",
       "0     12   31   10.980000      9.070000            59.2      929.060000   \n",
       "1      1    1   10.570000     14.420000            62.5      925.930000   \n",
       "2      1    2    8.410000     14.450000            91.4      927.230000   \n",
       "3      1    3    9.318182      7.427273            70.0      928.790909   \n",
       "4      1    4    7.530000     13.650000            69.0      926.660000   \n",
       "\n",
       "   Daily_WindDir  Daily_WindSpeed  Daily_DNI   Daily_GHI  Daily_radiation  \n",
       "0     167.300000         1.860000      522.2  324.600000        96.200000  \n",
       "1      84.800000         1.520000        1.1   96.300000        96.200000  \n",
       "2     109.400000         1.640000      275.8  259.500000       146.100000  \n",
       "3     167.363636         1.736364      471.0  294.363636        88.272727  \n",
       "4      31.700000         2.610000        9.1   96.700000        92.300000  "
      ]
     },
     "execution_count": 7,
     "metadata": {},
     "output_type": "execute_result"
    }
   ],
   "source": [
    "# select features\n",
    "cleaned_df= cleaned_df[['month', 'day', 'Daily_Temp', 'Daily_Precip', 'Daily_Humidity',\n",
    "       'Daily_Pressure', 'Daily_WindDir', 'Daily_WindSpeed', 'Daily_DNI',\n",
    "       'Daily_GHI', 'Daily_radiation']]\n",
    "cleaned_df.head()"
   ]
  },
  {
   "cell_type": "code",
   "execution_count": null,
   "metadata": {
    "cell_id": "00008-f6acae86-1b60-4bdf-bec5-9303cb48c3eb",
    "deepnote_cell_type": "code",
    "deepnote_to_be_reexecuted": false,
    "execution_millis": 0,
    "execution_start": 1640539832671,
    "source_hash": "c089d60b"
   },
   "outputs": [],
   "source": [
    "# select target feature\n",
    "X = cleaned_df.drop(['Daily_radiation'], axis=1)\n",
    "y = cleaned_df['Daily_radiation']"
   ]
  },
  {
   "cell_type": "markdown",
   "metadata": {
    "cell_id": "00009-add0f234-74e1-4571-bb16-0f91164f6d3b",
    "deepnote_cell_type": "markdown"
   },
   "source": [
    "## Model Training and Testing"
   ]
  },
  {
   "cell_type": "code",
   "execution_count": null,
   "metadata": {
    "cell_id": "00010-c1c2431e-e6cc-464d-9889-b9609b3a395f",
    "deepnote_cell_type": "code",
    "deepnote_to_be_reexecuted": false,
    "execution_millis": 1680,
    "execution_start": 1640539832715,
    "source_hash": "c4d32df2"
   },
   "outputs": [],
   "source": [
    "# import libraries for algorithms traininng, and metrics to judge performance\n",
    "from sklearn.pipeline import Pipeline\n",
    "from sklearn.preprocessing import StandardScaler\n",
    "from sklearn.linear_model import LinearRegression\n",
    "from sklearn.ensemble import RandomForestRegressor\n",
    "from sklearn.ensemble import GradientBoostingRegressor\n",
    "from sklearn.model_selection import train_test_split\n",
    "from sklearn.metrics import mean_squared_error, mean_absolute_error, r2_score"
   ]
  },
  {
   "cell_type": "code",
   "execution_count": null,
   "metadata": {
    "cell_id": "00011-6698483f-9f7c-44ac-8350-b3fa362671a8",
    "deepnote_cell_type": "code",
    "deepnote_to_be_reexecuted": false,
    "execution_millis": 19,
    "execution_start": 1640539834409,
    "source_hash": "eafbd288"
   },
   "outputs": [],
   "source": [
    "X_train, X_test, y_train, y_test = train_test_split(X, y, test_size = 0.3, random_state = 42)"
   ]
  },
  {
   "cell_type": "markdown",
   "metadata": {
    "cell_id": "00012-89ce8807-e712-4269-8773-5a33fa7a19b1",
    "deepnote_cell_type": "markdown"
   },
   "source": [
    "### Linear Regression"
   ]
  },
  {
   "cell_type": "code",
   "execution_count": null,
   "metadata": {
    "cell_id": "00013-0c408b50-5f9c-4983-bba4-ee152ab9f473",
    "deepnote_cell_type": "code",
    "deepnote_to_be_reexecuted": false,
    "execution_millis": 103,
    "execution_start": 1640539834471,
    "source_hash": "5b9d492a"
   },
   "outputs": [],
   "source": [
    "# setup the pipeline steps\n",
    "steps = [('scaler', StandardScaler()), ('lr', LinearRegression())]\n",
    "\n",
    "# create the pipeline\n",
    "pipeline_lr = Pipeline(steps)\n",
    "\n",
    "# fit the pipeline to the train set\n",
    "pipeline_lr.fit(X_train, y_train)\n",
    "\n",
    "# predict the labels of the test set\n",
    "y_pred_lr = pipeline_lr.predict(X_test)"
   ]
  },
  {
   "cell_type": "code",
   "execution_count": null,
   "metadata": {
    "cell_id": "00014-cbea4a84-72e7-4306-b407-070af9e3f6d7",
    "deepnote_cell_type": "code",
    "deepnote_to_be_reexecuted": false,
    "execution_millis": 12,
    "execution_start": 1640539834612,
    "source_hash": "26820d25"
   },
   "outputs": [
    {
     "name": "stdout",
     "output_type": "stream",
     "text": [
      "r2_score 0.8191972501670012\n",
      "Root Mean Squared Error: 4.78\n",
      "Root Mean Absolute Error: 4.26\n"
     ]
    }
   ],
   "source": [
    "# evaluating algorithm performance\n",
    "mse = mean_squared_error(y_test, y_pred_lr, squared=False)\n",
    "\n",
    "mae = mean_absolute_error(y_test, y_pred_lr)\n",
    "\n",
    "print('r2_score', r2_score(y_test, y_pred_lr))\n",
    "\n",
    "print('Root Mean Squared Error: %.2f' % np.sqrt(mse))\n",
    "\n",
    "print('Root Mean Absolute Error: %.2f' % np.sqrt(mae))"
   ]
  },
  {
   "cell_type": "code",
   "execution_count": null,
   "metadata": {
    "cell_id": "00015-d8a36dc5-90c0-4ed1-9228-959f86330d5f",
    "deepnote_cell_type": "code",
    "deepnote_output_heights": [
     568.75
    ],
    "deepnote_to_be_reexecuted": false,
    "execution_millis": 1868,
    "execution_start": 1640539834691,
    "source_hash": "1f0946ac"
   },
   "outputs": [
    {
     "data": {
      "image/png": "[encoded data removed]",
      "text/plain": [
       "<Figure size 1152x864 with 1 Axes>"
      ]
     },
     "metadata": {
      "image/png": {
       "height": 719,
       "width": 954
      }
     },
     "output_type": "display_data"
    }
   ],
   "source": [
    "# run the model against the test data presented through a plot\n",
    "fig, pX = plt.subplots()\n",
    "\n",
    "pX.scatter(y_test, y_pred_lr, edgecolors=(0, 0, 0))\n",
    "pX.plot([y_test.min(), y_test.max()], [y_test.min(), y_test.max()], 'm--', lw=3)\n",
    "pX.set_xlabel('Actual solar irradiation')\n",
    "pX.set_ylabel('Predicted solar irradiation')\n",
    "pX.set_title(\" Linear regression: Actual vs Predicted Solar Irradiation\")\n",
    "plt.show() "
   ]
  },
  {
   "cell_type": "code",
   "execution_count": null,
   "metadata": {
    "cell_id": "00016-ad7a49d8-93f7-4b61-b7a7-0f304f123c01",
    "deepnote_cell_type": "code",
    "deepnote_output_heights": [
     422,
     422
    ],
    "deepnote_to_be_reexecuted": false,
    "execution_millis": 3246,
    "execution_start": 1640539836559,
    "source_hash": "a456950f"
   },
   "outputs": [
    {
     "name": "stderr",
     "output_type": "stream",
     "text": [
      "/shared-libs/python3.7/py/lib/python3.7/site-packages/seaborn/_decorators.py:43: FutureWarning: Pass the following variables as keyword args: x, y. From version 0.12, the only valid positional argument will be `data`, and passing other arguments without an explicit keyword will result in an error or misinterpretation.\n",
      "  FutureWarning\n"
     ]
    },
    {
     "data": {
      "image/png": "[encoded data removed]",
      "text/plain": [
       "<Figure size 432x432 with 3 Axes>"
      ]
     },
     "metadata": {
      "image/png": {
       "height": 420,
       "width": 424
      }
     },
     "output_type": "display_data"
    }
   ],
   "source": [
    "sns.jointplot(y_test, y_pred_lr, kind='reg')\n",
    "plt.show()"
   ]
  },
  {
   "cell_type": "markdown",
   "metadata": {
    "cell_id": "00017-2e477ace-3fc5-4f74-86e8-8cf826ea797c",
    "deepnote_cell_type": "markdown"
   },
   "source": [
    "### Random Forest Regressor"
   ]
  },
  {
   "cell_type": "code",
   "execution_count": null,
   "metadata": {
    "cell_id": "00018-4d37f8e0-8326-43fa-a921-8a562c2fd915",
    "deepnote_cell_type": "code",
    "deepnote_to_be_reexecuted": false,
    "execution_millis": 1939,
    "execution_start": 1640539839715,
    "source_hash": "3a50094"
   },
   "outputs": [],
   "source": [
    "# setup the pipeline steps: steps\n",
    "steps = [('scaler', StandardScaler()), ('rfr', RandomForestRegressor())]\n",
    "\n",
    "# create the pipeline: pipeline\n",
    "pipeline_rfr = Pipeline(steps)\n",
    "\n",
    "# fit the pipeline to the train set\n",
    "pipeline_rfr.fit(X_train, y_train)\n",
    "\n",
    "# predict the labels of the test set\n",
    "y_pred_rfr = pipeline_rfr.predict(X_test)"
   ]
  },
  {
   "cell_type": "code",
   "execution_count": null,
   "metadata": {
    "cell_id": "00019-fc8acf77-06c0-49a6-a6b9-d96488628a4d",
    "deepnote_cell_type": "code",
    "deepnote_to_be_reexecuted": false,
    "execution_millis": 42,
    "execution_start": 1640539841663,
    "source_hash": "9ad7f78f"
   },
   "outputs": [
    {
     "name": "stdout",
     "output_type": "stream",
     "text": [
      "r2_score 0.9353606412969058\n",
      "Root Mean Squared Error: 3.70\n",
      "Root Mean Absolute Error: 3.19\n"
     ]
    }
   ],
   "source": [
    "# evaluating algorithm performance\n",
    "mse_rf = mean_squared_error(y_test, y_pred_rfr, squared=False)\n",
    "\n",
    "mae_rf = mean_absolute_error(y_test, y_pred_rfr)\n",
    "\n",
    "print('r2_score', r2_score(y_test, y_pred_rfr))\n",
    "\n",
    "print('Root Mean Squared Error: %.2f' % np.sqrt(mse_rf))\n",
    "\n",
    "print('Root Mean Absolute Error: %.2f' % np.sqrt(mae_rf))"
   ]
  },
  {
   "cell_type": "code",
   "execution_count": null,
   "metadata": {
    "cell_id": "00020-40606a67-93e8-473d-aadf-1bf98c51123e",
    "deepnote_cell_type": "code",
    "deepnote_output_heights": [
     568.75
    ],
    "deepnote_to_be_reexecuted": false,
    "execution_millis": 1564,
    "execution_start": 1640539841741,
    "source_hash": "87cc2ea0"
   },
   "outputs": [
    {
     "data": {
      "image/png": "[encoded data removed]",
      "text/plain": [
       "<Figure size 1152x864 with 1 Axes>"
      ]
     },
     "metadata": {
      "image/png": {
       "height": 719,
       "width": 954
      }
     },
     "output_type": "display_data"
    }
   ],
   "source": [
    "# run the model against the test data presented through a plot\n",
    "fig, pX = plt.subplots()\n",
    "\n",
    "pX.scatter(y_test, y_pred_rfr, edgecolors=(0, 0, 0))\n",
    "pX.plot([y_test.min(), y_test.max()], [y_test.min(), y_test.max()], 'm--', lw=3)\n",
    "pX.set_xlabel('Actual solar irradiation')\n",
    "pX.set_ylabel('Predicted solar irradiation')\n",
    "pX.set_title(\" Random Forest: Verified vs Predicted solar irradiation\")\n",
    "plt.show()"
   ]
  },
  {
   "cell_type": "code",
   "execution_count": null,
   "metadata": {
    "cell_id": "00021-20723f0a-7773-40d0-a2fd-50afefe7bf0e",
    "deepnote_cell_type": "code",
    "deepnote_output_heights": [
     422,
     422
    ],
    "deepnote_to_be_reexecuted": false,
    "execution_millis": 3453,
    "execution_start": 1640539843313,
    "source_hash": "d4179d66"
   },
   "outputs": [
    {
     "name": "stderr",
     "output_type": "stream",
     "text": [
      "/shared-libs/python3.7/py/lib/python3.7/site-packages/seaborn/_decorators.py:43: FutureWarning: Pass the following variables as keyword args: x, y. From version 0.12, the only valid positional argument will be `data`, and passing other arguments without an explicit keyword will result in an error or misinterpretation.\n",
      "  FutureWarning\n"
     ]
    },
    {
     "data": {
      "image/png": "[encoded data removed]",
      "text/plain": [
       "<Figure size 432x432 with 3 Axes>"
      ]
     },
     "metadata": {
      "image/png": {
       "height": 420,
       "width": 424
      }
     },
     "output_type": "display_data"
    }
   ],
   "source": [
    "sns.jointplot(y_test, y_pred_rfr, kind='reg')\n",
    "plt.show()"
   ]
  },
  {
   "cell_type": "markdown",
   "metadata": {
    "cell_id": "00022-07b8e9bd-8157-4972-b6ad-9c83724dc13a",
    "deepnote_cell_type": "markdown"
   },
   "source": [
    "### GradientBoosting Regressor"
   ]
  },
  {
   "cell_type": "code",
   "execution_count": null,
   "metadata": {
    "cell_id": "00023-f6b6b023-319e-44f4-8c7f-c11c037633be",
    "deepnote_cell_type": "code",
    "deepnote_to_be_reexecuted": false,
    "execution_millis": 991,
    "execution_start": 1640539846502,
    "source_hash": "3c9f002a"
   },
   "outputs": [],
   "source": [
    "# setup the pipeline steps: steps\n",
    "steps = [('scaler', StandardScaler()), ('gbr', GradientBoostingRegressor())]\n",
    "\n",
    "# create the pipeline: pipeline\n",
    "pipeline_gbr = Pipeline(steps)\n",
    "\n",
    "# fit the pipeline to the train set\n",
    "pipeline_gbr.fit(X_train, y_train)\n",
    "\n",
    "# predict the labels of the test set\n",
    "y_pred_gbr = pipeline_gbr.predict(X_test)"
   ]
  },
  {
   "cell_type": "code",
   "execution_count": null,
   "metadata": {
    "cell_id": "00024-2b561bdd-a866-4bd1-a4a8-e56f72971fa4",
    "deepnote_cell_type": "code",
    "deepnote_to_be_reexecuted": false,
    "execution_millis": 55,
    "execution_start": 1640539847513,
    "source_hash": "b9fe2037"
   },
   "outputs": [
    {
     "name": "stdout",
     "output_type": "stream",
     "text": [
      "r2_score 0.9345652036137702\n",
      "Root Mean Squared Error: 3.71\n",
      "Root Mean Absolute Error: 3.22\n"
     ]
    }
   ],
   "source": [
    "# evaluating algorithm performance\n",
    "mse_gr = mean_squared_error(y_test, y_pred_gbr, squared=False)\n",
    "\n",
    "mae_gr = mean_absolute_error(y_test, y_pred_gbr)\n",
    "\n",
    "print('r2_score', r2_score(y_test, y_pred_gbr))\n",
    "\n",
    "print('Root Mean Squared Error: %.2f' % np.sqrt(mse_gr))\n",
    "\n",
    "print('Root Mean Absolute Error: %.2f' % np.sqrt(mae_gr))"
   ]
  },
  {
   "cell_type": "code",
   "execution_count": null,
   "metadata": {
    "cell_id": "00025-2d3a2170-7318-4631-a350-449ebe8f861d",
    "deepnote_cell_type": "code",
    "deepnote_output_heights": [
     568.75
    ],
    "deepnote_to_be_reexecuted": false,
    "execution_millis": 1515,
    "execution_start": 1640539847573,
    "source_hash": "cb833f59"
   },
   "outputs": [
    {
     "data": {
      "image/png": "[encoded data removed]",
      "text/plain": [
       "<Figure size 1152x864 with 1 Axes>"
      ]
     },
     "metadata": {
      "image/png": {
       "height": 719,
       "width": 954
      }
     },
     "output_type": "display_data"
    }
   ],
   "source": [
    "# run the model against the test data presented through a plot\n",
    "fig, pX = plt.subplots()\n",
    "\n",
    "pX.scatter(y_test, y_pred_gbr, edgecolors=(0, 0, 0))\n",
    "pX.plot([y_test.min(), y_test.max()], [y_test.min(), y_test.max()], 'm--', lw=3)\n",
    "pX.set_xlabel('Actual solar irradiation')\n",
    "pX.set_ylabel('Predicted solar irradiation')\n",
    "pX.set_title(\" Gradient Boost: Verified vs Predicted solar irradiation\")\n",
    "plt.show()"
   ]
  },
  {
   "cell_type": "code",
   "execution_count": null,
   "metadata": {
    "cell_id": "00026-849ed1e8-739b-4884-aeff-3867f272d371",
    "deepnote_cell_type": "code",
    "deepnote_output_heights": [
     422,
     422
    ],
    "deepnote_to_be_reexecuted": false,
    "execution_millis": 2937,
    "execution_start": 1640539848955,
    "source_hash": "f8367612"
   },
   "outputs": [
    {
     "name": "stderr",
     "output_type": "stream",
     "text": [
      "/shared-libs/python3.7/py/lib/python3.7/site-packages/seaborn/_decorators.py:43: FutureWarning: Pass the following variables as keyword args: x, y. From version 0.12, the only valid positional argument will be `data`, and passing other arguments without an explicit keyword will result in an error or misinterpretation.\n",
      "  FutureWarning\n"
     ]
    },
    {
     "data": {
      "image/png": "[encoded data removed]",
      "text/plain": [
       "<Figure size 432x432 with 3 Axes>"
      ]
     },
     "metadata": {
      "image/png": {
       "height": 420,
       "width": 424
      }
     },
     "output_type": "display_data"
    }
   ],
   "source": [
    "sns.jointplot(y_test, y_pred_gbr, kind='reg')\n",
    "plt.show()"
   ]
  },
  {
   "cell_type": "markdown",
   "metadata": {
    "cell_id": "00027-b98af88a-4282-419e-b871-5358be059753",
    "deepnote_cell_type": "markdown"
   },
   "source": [
    "| model                      | r2_score |\n",
    "|----------------------------|----------|\n",
    "| Random Forest Regressor    | 0.935    |\n",
    "| GradientBoosting Regressor | 0.934    |\n",
    "| Linear Regression          | 0.819    |"
   ]
  },
  {
   "cell_type": "markdown",
   "metadata": {
    "created_in_deepnote_cell": true,
    "deepnote_cell_type": "markdown",
    "tags": []
   },
   "source": [
    "<a style='text-decoration:none;line-height:16px;display:flex;color:#5B5B62;padding:10px;justify-content:end;' href='https://deepnote.com?utm_source=created-in-deepnote-cell&projectId=199a8a8b-03c7-4eee-a882-65187822afb3' target=\"_blank\">\n",
    "<img alt='Created in deepnote.com' style='display:inline;max-height:16px;margin:0px;margin-right:7.5px;' src='data:image/svg+xml;base64,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' > </img>\n",
    "Created in <span style='font-weight:600;margin-left:4px;'>Deepnote</span></a>"
   ]
  }
 ],
 "metadata": {
  "deepnote": {},
  "deepnote_execution_queue": [],
  "deepnote_notebook_id": "a90148d4-d3d1-4422-ac83-b6f41b63be6a",
  "kernelspec": {
   "display_name": "Python 3",
   "language": "python",
   "name": "python3"
  },
  "language_info": {
   "codemirror_mode": {
    "name": "ipython",
    "version": 3
   },
   "file_extension": ".py",
   "mimetype": "text/x-python",
   "name": "python",
   "nbconvert_exporter": "python",
   "pygments_lexer": "ipython3",
   "version": "3.8.8"
  }
 },
 "nbformat": 4,
 "nbformat_minor": 5
}
