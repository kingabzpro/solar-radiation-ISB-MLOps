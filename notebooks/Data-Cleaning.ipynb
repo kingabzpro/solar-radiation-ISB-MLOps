{
 "cells": [
  {
   "cell_type": "markdown",
   "source": "# Data Cleaning",
   "metadata": {
    "tags": [],
    "cell_id": "00000-e9615e73-0bca-47c8-ae6c-e63a226e5771",
    "deepnote_cell_type": "markdown"
   }
  },
  {
   "cell_type": "code",
   "metadata": {
    "tags": [],
    "cell_id": "00000-88b14347-0d08-4c66-b529-3a11c2acb2b5",
    "deepnote_to_be_reexecuted": false,
    "source_hash": "b7dcc9c8",
    "execution_start": 1640539266424,
    "execution_millis": 2087391,
    "deepnote_cell_type": "code"
   },
   "source": "import numpy as np\nimport pandas as pd",
   "outputs": [],
   "execution_count": null
  },
  {
   "cell_type": "code",
   "metadata": {
    "tags": [],
    "cell_id": "00001-bdca6008-80d7-45e0-afaa-f0148eeea350",
    "deepnote_to_be_reexecuted": false,
    "source_hash": "c0caeee2",
    "execution_start": 1640539266425,
    "execution_millis": 58,
    "deepnote_cell_type": "code"
   },
   "source": "df = pd.read_csv(\"Data/ISB_Solcast.csv\")",
   "outputs": [],
   "execution_count": null
  },
  {
   "cell_type": "code",
   "metadata": {
    "tags": [],
    "cell_id": "00002-2c65d98c-6d51-4856-a49c-6b808f42f806",
    "deepnote_to_be_reexecuted": false,
    "source_hash": "25d43fa0",
    "execution_start": 1640539266532,
    "deepnote_output_heights": [
     78.75
    ],
    "execution_millis": 2,
    "deepnote_cell_type": "code"
   },
   "source": "df.columns",
   "outputs": [
    {
     "output_type": "execute_result",
     "execution_count": 3,
     "data": {
      "text/plain": "Index(['PeriodEnd', 'PeriodStart', 'Period', 'AirTemp', 'CloudOpacity', 'Dhi',\n       'Dni', 'Ghi', 'PrecipitableWater', 'RelativeHumidity',\n       'SurfacePressure', 'WindDirection10m', 'WindSpeed10m', 'Zenith'],\n      dtype='object')"
     },
     "metadata": {}
    }
   ],
   "execution_count": null
  },
  {
   "cell_type": "code",
   "metadata": {
    "tags": [],
    "cell_id": "00003-ca1fbdca-a612-490e-84b9-8db0132a8c73",
    "deepnote_to_be_reexecuted": false,
    "source_hash": "3e740676",
    "execution_start": 1640539266584,
    "execution_millis": 1,
    "deepnote_cell_type": "code"
   },
   "source": "df.drop('Period', axis=1, inplace=True)",
   "outputs": [],
   "execution_count": null
  },
  {
   "cell_type": "code",
   "metadata": {
    "tags": [],
    "cell_id": "00003-929a7fe0-f294-4598-9339-4a1fc4a5650b",
    "deepnote_to_be_reexecuted": false,
    "source_hash": "c085b6ba",
    "execution_start": 1640539266585,
    "execution_millis": 114,
    "deepnote_cell_type": "code"
   },
   "source": "df.head()",
   "outputs": [
    {
     "output_type": "execute_result",
     "execution_count": 5,
     "data": {
      "application/vnd.deepnote.dataframe.v3+json": {
       "column_count": 13,
       "row_count": 5,
       "columns": [
        {
         "name": "PeriodEnd",
         "dtype": "object",
         "stats": {
          "unique_count": 5,
          "nan_count": 0,
          "categories": [
           {
            "name": "2018-12-31T02:00:00Z",
            "count": 1
           },
           {
            "name": "2018-12-31T03:00:00Z",
            "count": 1
           },
           {
            "name": "3 others",
            "count": 3
           }
          ]
         }
        },
        {
         "name": "PeriodStart",
         "dtype": "object",
         "stats": {
          "unique_count": 5,
          "nan_count": 0,
          "categories": [
           {
            "name": "2018-12-31T01:00:00Z",
            "count": 1
           },
           {
            "name": "2018-12-31T02:00:00Z",
            "count": 1
           },
           {
            "name": "3 others",
            "count": 3
           }
          ]
         }
        },
        {
         "name": "AirTemp",
         "dtype": "float64",
         "stats": {
          "unique_count": 5,
          "nan_count": 0,
          "min": "1.5",
          "max": "10.7",
          "histogram": [
           {
            "bin_start": 1.5,
            "bin_end": 2.42,
            "count": 2
           },
           {
            "bin_start": 2.42,
            "bin_end": 3.34,
            "count": 0
           },
           {
            "bin_start": 3.34,
            "bin_end": 4.26,
            "count": 1
           },
           {
            "bin_start": 4.26,
            "bin_end": 5.18,
            "count": 0
           },
           {
            "bin_start": 5.18,
            "bin_end": 6.1,
            "count": 0
           },
           {
            "bin_start": 6.1,
            "bin_end": 7.02,
            "count": 0
           },
           {
            "bin_start": 7.02,
            "bin_end": 7.9399999999999995,
            "count": 1
           },
           {
            "bin_start": 7.9399999999999995,
            "bin_end": 8.86,
            "count": 0
           },
           {
            "bin_start": 8.86,
            "bin_end": 9.78,
            "count": 0
           },
           {
            "bin_start": 9.78,
            "bin_end": 10.7,
            "count": 1
           }
          ]
         }
        },
        {
         "name": "CloudOpacity",
         "dtype": "float64",
         "stats": {
          "unique_count": 3,
          "nan_count": 0,
          "min": "0.0",
          "max": "15.4",
          "histogram": [
           {
            "bin_start": 0,
            "bin_end": 1.54,
            "count": 3
           },
           {
            "bin_start": 1.54,
            "bin_end": 3.08,
            "count": 0
           },
           {
            "bin_start": 3.08,
            "bin_end": 4.62,
            "count": 0
           },
           {
            "bin_start": 4.62,
            "bin_end": 6.16,
            "count": 0
           },
           {
            "bin_start": 6.16,
            "bin_end": 7.7,
            "count": 0
           },
           {
            "bin_start": 7.7,
            "bin_end": 9.24,
            "count": 1
           },
           {
            "bin_start": 9.24,
            "bin_end": 10.780000000000001,
            "count": 0
           },
           {
            "bin_start": 10.780000000000001,
            "bin_end": 12.32,
            "count": 0
           },
           {
            "bin_start": 12.32,
            "bin_end": 13.86,
            "count": 0
           },
           {
            "bin_start": 13.86,
            "bin_end": 15.4,
            "count": 1
           }
          ]
         }
        },
        {
         "name": "Dhi",
         "dtype": "int64",
         "stats": {
          "unique_count": 5,
          "nan_count": 0,
          "min": "0",
          "max": "129",
          "histogram": [
           {
            "bin_start": 0,
            "bin_end": 12.9,
            "count": 1
           },
           {
            "bin_start": 12.9,
            "bin_end": 25.8,
            "count": 1
           },
           {
            "bin_start": 25.8,
            "bin_end": 38.7,
            "count": 0
           },
           {
            "bin_start": 38.7,
            "bin_end": 51.6,
            "count": 0
           },
           {
            "bin_start": 51.6,
            "bin_end": 64.5,
            "count": 0
           },
           {
            "bin_start": 64.5,
            "bin_end": 77.4,
            "count": 0
           },
           {
            "bin_start": 77.4,
            "bin_end": 90.3,
            "count": 0
           },
           {
            "bin_start": 90.3,
            "bin_end": 103.2,
            "count": 1
           },
           {
            "bin_start": 103.2,
            "bin_end": 116.10000000000001,
            "count": 1
           },
           {
            "bin_start": 116.10000000000001,
            "bin_end": 129,
            "count": 1
           }
          ]
         }
        },
        {
         "name": "Dni",
         "dtype": "int64",
         "stats": {
          "unique_count": 5,
          "nan_count": 0,
          "min": "0",
          "max": "707",
          "histogram": [
           {
            "bin_start": 0,
            "bin_end": 70.7,
            "count": 2
           },
           {
            "bin_start": 70.7,
            "bin_end": 141.4,
            "count": 0
           },
           {
            "bin_start": 141.4,
            "bin_end": 212.10000000000002,
            "count": 1
           },
           {
            "bin_start": 212.10000000000002,
            "bin_end": 282.8,
            "count": 0
           },
           {
            "bin_start": 282.8,
            "bin_end": 353.5,
            "count": 0
           },
           {
            "bin_start": 353.5,
            "bin_end": 424.20000000000005,
            "count": 0
           },
           {
            "bin_start": 424.20000000000005,
            "bin_end": 494.90000000000003,
            "count": 0
           },
           {
            "bin_start": 494.90000000000003,
            "bin_end": 565.6,
            "count": 0
           },
           {
            "bin_start": 565.6,
            "bin_end": 636.3000000000001,
            "count": 1
           },
           {
            "bin_start": 636.3000000000001,
            "bin_end": 707,
            "count": 1
           }
          ]
         }
        },
        {
         "name": "Ghi",
         "dtype": "int64",
         "stats": {
          "unique_count": 5,
          "nan_count": 0,
          "min": "0",
          "max": "464",
          "histogram": [
           {
            "bin_start": 0,
            "bin_end": 46.4,
            "count": 2
           },
           {
            "bin_start": 46.4,
            "bin_end": 92.8,
            "count": 0
           },
           {
            "bin_start": 92.8,
            "bin_end": 139.2,
            "count": 0
           },
           {
            "bin_start": 139.2,
            "bin_end": 185.6,
            "count": 1
           },
           {
            "bin_start": 185.6,
            "bin_end": 232,
            "count": 0
           },
           {
            "bin_start": 232,
            "bin_end": 278.4,
            "count": 0
           },
           {
            "bin_start": 278.4,
            "bin_end": 324.8,
            "count": 0
           },
           {
            "bin_start": 324.8,
            "bin_end": 371.2,
            "count": 1
           },
           {
            "bin_start": 371.2,
            "bin_end": 417.59999999999997,
            "count": 0
           },
           {
            "bin_start": 417.59999999999997,
            "bin_end": 464,
            "count": 1
           }
          ]
         }
        },
        {
         "name": "PrecipitableWater",
         "dtype": "float64",
         "stats": {
          "unique_count": 4,
          "nan_count": 0,
          "min": "8.8",
          "max": "9.3",
          "histogram": [
           {
            "bin_start": 8.8,
            "bin_end": 8.850000000000001,
            "count": 1
           },
           {
            "bin_start": 8.850000000000001,
            "bin_end": 8.9,
            "count": 0
           },
           {
            "bin_start": 8.9,
            "bin_end": 8.950000000000001,
            "count": 2
           },
           {
            "bin_start": 8.950000000000001,
            "bin_end": 9,
            "count": 0
           },
           {
            "bin_start": 9,
            "bin_end": 9.05,
            "count": 0
           },
           {
            "bin_start": 9.05,
            "bin_end": 9.100000000000001,
            "count": 1
           },
           {
            "bin_start": 9.100000000000001,
            "bin_end": 9.15,
            "count": 0
           },
           {
            "bin_start": 9.15,
            "bin_end": 9.200000000000001,
            "count": 0
           },
           {
            "bin_start": 9.200000000000001,
            "bin_end": 9.25,
            "count": 0
           },
           {
            "bin_start": 9.25,
            "bin_end": 9.3,
            "count": 1
           }
          ]
         }
        },
        {
         "name": "RelativeHumidity",
         "dtype": "float64",
         "stats": {
          "unique_count": 5,
          "nan_count": 0,
          "min": "62.6",
          "max": "83.1",
          "histogram": [
           {
            "bin_start": 62.6,
            "bin_end": 64.65,
            "count": 1
           },
           {
            "bin_start": 64.65,
            "bin_end": 66.7,
            "count": 0
           },
           {
            "bin_start": 66.7,
            "bin_end": 68.75,
            "count": 0
           },
           {
            "bin_start": 68.75,
            "bin_end": 70.8,
            "count": 1
           },
           {
            "bin_start": 70.8,
            "bin_end": 72.85,
            "count": 0
           },
           {
            "bin_start": 72.85,
            "bin_end": 74.9,
            "count": 0
           },
           {
            "bin_start": 74.9,
            "bin_end": 76.95,
            "count": 1
           },
           {
            "bin_start": 76.95,
            "bin_end": 79,
            "count": 0
           },
           {
            "bin_start": 79,
            "bin_end": 81.05,
            "count": 1
           },
           {
            "bin_start": 81.05,
            "bin_end": 83.1,
            "count": 1
           }
          ]
         }
        },
        {
         "name": "SurfacePressure",
         "dtype": "float64",
         "stats": {
          "unique_count": 5,
          "nan_count": 0,
          "min": "929.6",
          "max": "930.3",
          "histogram": [
           {
            "bin_start": 929.6,
            "bin_end": 929.6700000000001,
            "count": 1
           },
           {
            "bin_start": 929.6700000000001,
            "bin_end": 929.74,
            "count": 0
           },
           {
            "bin_start": 929.74,
            "bin_end": 929.81,
            "count": 0
           },
           {
            "bin_start": 929.81,
            "bin_end": 929.88,
            "count": 0
           },
           {
            "bin_start": 929.88,
            "bin_end": 929.95,
            "count": 1
           },
           {
            "bin_start": 929.95,
            "bin_end": 930.02,
            "count": 0
           },
           {
            "bin_start": 930.02,
            "bin_end": 930.0899999999999,
            "count": 0
           },
           {
            "bin_start": 930.0899999999999,
            "bin_end": 930.16,
            "count": 1
           },
           {
            "bin_start": 930.16,
            "bin_end": 930.23,
            "count": 1
           },
           {
            "bin_start": 930.23,
            "bin_end": 930.3,
            "count": 1
           }
          ]
         }
        },
        {
         "name": "WindDirection10m",
         "dtype": "int64",
         "stats": {
          "unique_count": 4,
          "nan_count": 0,
          "min": "15",
          "max": "31",
          "histogram": [
           {
            "bin_start": 15,
            "bin_end": 16.6,
            "count": 1
           },
           {
            "bin_start": 16.6,
            "bin_end": 18.2,
            "count": 0
           },
           {
            "bin_start": 18.2,
            "bin_end": 19.8,
            "count": 0
           },
           {
            "bin_start": 19.8,
            "bin_end": 21.4,
            "count": 0
           },
           {
            "bin_start": 21.4,
            "bin_end": 23,
            "count": 0
           },
           {
            "bin_start": 23,
            "bin_end": 24.6,
            "count": 1
           },
           {
            "bin_start": 24.6,
            "bin_end": 26.200000000000003,
            "count": 0
           },
           {
            "bin_start": 26.200000000000003,
            "bin_end": 27.8,
            "count": 0
           },
           {
            "bin_start": 27.8,
            "bin_end": 29.4,
            "count": 1
           },
           {
            "bin_start": 29.4,
            "bin_end": 31,
            "count": 2
           }
          ]
         }
        },
        {
         "name": "WindSpeed10m",
         "dtype": "float64",
         "stats": {
          "unique_count": 4,
          "nan_count": 0,
          "min": "1.8",
          "max": "2.2",
          "histogram": [
           {
            "bin_start": 1.8,
            "bin_end": 1.84,
            "count": 1
           },
           {
            "bin_start": 1.84,
            "bin_end": 1.8800000000000001,
            "count": 0
           },
           {
            "bin_start": 1.8800000000000001,
            "bin_end": 1.9200000000000002,
            "count": 0
           },
           {
            "bin_start": 1.9200000000000002,
            "bin_end": 1.9600000000000002,
            "count": 0
           },
           {
            "bin_start": 1.9600000000000002,
            "bin_end": 2,
            "count": 0
           },
           {
            "bin_start": 2,
            "bin_end": 2.04,
            "count": 1
           },
           {
            "bin_start": 2.04,
            "bin_end": 2.08,
            "count": 0
           },
           {
            "bin_start": 2.08,
            "bin_end": 2.12,
            "count": 1
           },
           {
            "bin_start": 2.12,
            "bin_end": 2.16,
            "count": 0
           },
           {
            "bin_start": 2.16,
            "bin_end": 2.2,
            "count": 2
           }
          ]
         }
        },
        {
         "name": "Zenith",
         "dtype": "int64",
         "stats": {
          "unique_count": 5,
          "nan_count": 0,
          "min": "62",
          "max": "99",
          "histogram": [
           {
            "bin_start": 62,
            "bin_end": 65.7,
            "count": 1
           },
           {
            "bin_start": 65.7,
            "bin_end": 69.4,
            "count": 1
           },
           {
            "bin_start": 69.4,
            "bin_end": 73.1,
            "count": 0
           },
           {
            "bin_start": 73.1,
            "bin_end": 76.8,
            "count": 0
           },
           {
            "bin_start": 76.8,
            "bin_end": 80.5,
            "count": 1
           },
           {
            "bin_start": 80.5,
            "bin_end": 84.2,
            "count": 0
           },
           {
            "bin_start": 84.2,
            "bin_end": 87.9,
            "count": 0
           },
           {
            "bin_start": 87.9,
            "bin_end": 91.6,
            "count": 1
           },
           {
            "bin_start": 91.6,
            "bin_end": 95.30000000000001,
            "count": 0
           },
           {
            "bin_start": 95.30000000000001,
            "bin_end": 99,
            "count": 1
           }
          ]
         }
        },
        {
         "name": "_deepnote_index_column",
         "dtype": "int64"
        }
       ],
       "rows": [
        {
         "PeriodEnd": "2018-12-31T02:00:00Z",
         "PeriodStart": "2018-12-31T01:00:00Z",
         "AirTemp": 1.5,
         "CloudOpacity": 0,
         "Dhi": 0,
         "Dni": 0,
         "Ghi": 0,
         "PrecipitableWater": 9.3,
         "RelativeHumidity": 83.1,
         "SurfacePressure": 929.6,
         "WindDirection10m": 31,
         "WindSpeed10m": 2.1,
         "Zenith": 99,
         "_deepnote_index_column": 0
        },
        {
         "PeriodEnd": "2018-12-31T03:00:00Z",
         "PeriodStart": "2018-12-31T02:00:00Z",
         "AirTemp": 1.6,
         "CloudOpacity": 8.1,
         "Dhi": 21,
         "Dni": 16,
         "Ghi": 23,
         "PrecipitableWater": 9.1,
         "RelativeHumidity": 80.9,
         "SurfacePressure": 929.9,
         "WindDirection10m": 31,
         "WindSpeed10m": 2.2,
         "Zenith": 88,
         "_deepnote_index_column": 1
        },
        {
         "PeriodEnd": "2018-12-31T04:00:00Z",
         "PeriodStart": "2018-12-31T03:00:00Z",
         "AirTemp": 3.5,
         "CloudOpacity": 15.4,
         "Dhi": 99,
         "Dni": 178,
         "Ghi": 148,
         "PrecipitableWater": 8.9,
         "RelativeHumidity": 75.9,
         "SurfacePressure": 930.1,
         "WindDirection10m": 28,
         "WindSpeed10m": 2.2,
         "Zenith": 77,
         "_deepnote_index_column": 2
        },
        {
         "PeriodEnd": "2018-12-31T05:00:00Z",
         "PeriodStart": "2018-12-31T04:00:00Z",
         "AirTemp": 7.1,
         "CloudOpacity": 0,
         "Dhi": 112,
         "Dni": 599,
         "Ghi": 333,
         "PrecipitableWater": 8.9,
         "RelativeHumidity": 68.8,
         "SurfacePressure": 930.2,
         "WindDirection10m": 23,
         "WindSpeed10m": 2,
         "Zenith": 68,
         "_deepnote_index_column": 3
        },
        {
         "PeriodEnd": "2018-12-31T06:00:00Z",
         "PeriodStart": "2018-12-31T05:00:00Z",
         "AirTemp": 10.7,
         "CloudOpacity": 0,
         "Dhi": 129,
         "Dni": 707,
         "Ghi": 464,
         "PrecipitableWater": 8.8,
         "RelativeHumidity": 62.6,
         "SurfacePressure": 930.3,
         "WindDirection10m": 15,
         "WindSpeed10m": 1.8,
         "Zenith": 62,
         "_deepnote_index_column": 4
        }
       ]
      },
      "text/plain": "              PeriodEnd           PeriodStart  AirTemp  CloudOpacity  Dhi  \\\n0  2018-12-31T02:00:00Z  2018-12-31T01:00:00Z      1.5           0.0    0   \n1  2018-12-31T03:00:00Z  2018-12-31T02:00:00Z      1.6           8.1   21   \n2  2018-12-31T04:00:00Z  2018-12-31T03:00:00Z      3.5          15.4   99   \n3  2018-12-31T05:00:00Z  2018-12-31T04:00:00Z      7.1           0.0  112   \n4  2018-12-31T06:00:00Z  2018-12-31T05:00:00Z     10.7           0.0  129   \n\n   Dni  Ghi  PrecipitableWater  RelativeHumidity  SurfacePressure  \\\n0    0    0                9.3              83.1            929.6   \n1   16   23                9.1              80.9            929.9   \n2  178  148                8.9              75.9            930.1   \n3  599  333                8.9              68.8            930.2   \n4  707  464                8.8              62.6            930.3   \n\n   WindDirection10m  WindSpeed10m  Zenith  \n0                31           2.1      99  \n1                31           2.2      88  \n2                28           2.2      77  \n3                23           2.0      68  \n4                15           1.8      62  ",
      "text/html": "<div>\n<style scoped>\n    .dataframe tbody tr th:only-of-type {\n        vertical-align: middle;\n    }\n\n    .dataframe tbody tr th {\n        vertical-align: top;\n    }\n\n    .dataframe thead th {\n        text-align: right;\n    }\n</style>\n<table border=\"1\" class=\"dataframe\">\n  <thead>\n    <tr style=\"text-align: right;\">\n      <th></th>\n      <th>PeriodEnd</th>\n      <th>PeriodStart</th>\n      <th>AirTemp</th>\n      <th>CloudOpacity</th>\n      <th>Dhi</th>\n      <th>Dni</th>\n      <th>Ghi</th>\n      <th>PrecipitableWater</th>\n      <th>RelativeHumidity</th>\n      <th>SurfacePressure</th>\n      <th>WindDirection10m</th>\n      <th>WindSpeed10m</th>\n      <th>Zenith</th>\n    </tr>\n  </thead>\n  <tbody>\n    <tr>\n      <th>0</th>\n      <td>2018-12-31T02:00:00Z</td>\n      <td>2018-12-31T01:00:00Z</td>\n      <td>1.5</td>\n      <td>0.0</td>\n      <td>0</td>\n      <td>0</td>\n      <td>0</td>\n      <td>9.3</td>\n      <td>83.1</td>\n      <td>929.6</td>\n      <td>31</td>\n      <td>2.1</td>\n      <td>99</td>\n    </tr>\n    <tr>\n      <th>1</th>\n      <td>2018-12-31T03:00:00Z</td>\n      <td>2018-12-31T02:00:00Z</td>\n      <td>1.6</td>\n      <td>8.1</td>\n      <td>21</td>\n      <td>16</td>\n      <td>23</td>\n      <td>9.1</td>\n      <td>80.9</td>\n      <td>929.9</td>\n      <td>31</td>\n      <td>2.2</td>\n      <td>88</td>\n    </tr>\n    <tr>\n      <th>2</th>\n      <td>2018-12-31T04:00:00Z</td>\n      <td>2018-12-31T03:00:00Z</td>\n      <td>3.5</td>\n      <td>15.4</td>\n      <td>99</td>\n      <td>178</td>\n      <td>148</td>\n      <td>8.9</td>\n      <td>75.9</td>\n      <td>930.1</td>\n      <td>28</td>\n      <td>2.2</td>\n      <td>77</td>\n    </tr>\n    <tr>\n      <th>3</th>\n      <td>2018-12-31T05:00:00Z</td>\n      <td>2018-12-31T04:00:00Z</td>\n      <td>7.1</td>\n      <td>0.0</td>\n      <td>112</td>\n      <td>599</td>\n      <td>333</td>\n      <td>8.9</td>\n      <td>68.8</td>\n      <td>930.2</td>\n      <td>23</td>\n      <td>2.0</td>\n      <td>68</td>\n    </tr>\n    <tr>\n      <th>4</th>\n      <td>2018-12-31T06:00:00Z</td>\n      <td>2018-12-31T05:00:00Z</td>\n      <td>10.7</td>\n      <td>0.0</td>\n      <td>129</td>\n      <td>707</td>\n      <td>464</td>\n      <td>8.8</td>\n      <td>62.6</td>\n      <td>930.3</td>\n      <td>15</td>\n      <td>1.8</td>\n      <td>62</td>\n    </tr>\n  </tbody>\n</table>\n</div>"
     },
     "metadata": {}
    }
   ],
   "execution_count": null
  },
  {
   "cell_type": "code",
   "metadata": {
    "tags": [],
    "cell_id": "00004-e483c539-8ecc-4755-845b-417ebc3eb05f",
    "deepnote_to_be_reexecuted": false,
    "source_hash": "dfeedd57",
    "execution_start": 1640539266707,
    "execution_millis": 52,
    "deepnote_cell_type": "code"
   },
   "source": "#rename\ndf.columns = ['PeriodEnd', 'PeriodStart', 'Temperature', 'CloudOpacity', 'Radiation',\n                'DNI', 'GHI', 'Precipitation', 'Humidity',\n                'Pressure', 'WindDirection', 'WindSpeed', 'Zenith']",
   "outputs": [],
   "execution_count": null
  },
  {
   "cell_type": "code",
   "metadata": {
    "tags": [],
    "cell_id": "00006-34b84d08-0e24-432a-bea5-6239898c3982",
    "deepnote_to_be_reexecuted": false,
    "source_hash": "de1e323c",
    "execution_start": 1640539266759,
    "execution_millis": 3,
    "deepnote_cell_type": "code"
   },
   "source": "df.info()",
   "outputs": [
    {
     "name": "stdout",
     "text": "<class 'pandas.core.frame.DataFrame'>\nRangeIndex: 26061 entries, 0 to 26060\nData columns (total 13 columns):\n #   Column         Non-Null Count  Dtype  \n---  ------         --------------  -----  \n 0   PeriodEnd      26061 non-null  object \n 1   PeriodStart    26061 non-null  object \n 2   Temperature    26061 non-null  float64\n 3   CloudOpacity   26061 non-null  float64\n 4   Radiation      26061 non-null  int64  \n 5   DNI            26061 non-null  int64  \n 6   GHI            26061 non-null  int64  \n 7   Precipitation  26061 non-null  float64\n 8   Humidity       26061 non-null  float64\n 9   Pressure       26061 non-null  float64\n 10  WindDirection  26061 non-null  int64  \n 11  WindSpeed      26061 non-null  float64\n 12  Zenith         26061 non-null  int64  \ndtypes: float64(6), int64(5), object(2)\nmemory usage: 2.6+ MB\n",
     "output_type": "stream",
     "data": {}
    }
   ],
   "execution_count": null
  },
  {
   "cell_type": "code",
   "metadata": {
    "tags": [],
    "cell_id": "00007-a4896a93-46bc-4817-96d1-d269477908e9",
    "deepnote_to_be_reexecuted": false,
    "source_hash": "b3a987ea",
    "execution_start": 1640539266760,
    "execution_millis": 134,
    "output_cleared": false,
    "deepnote_cell_type": "code"
   },
   "source": "df[\"Radiation\"] = df[\"Radiation\"].astype(float)\ndf[\"Temperature\"] = df[\"Temperature\"].astype(float)  # or int\ndf[\"Pressure\"] = df[\"Pressure\"].astype(float)\ndf[\"Humidity\"] = df[\"Humidity\"].astype(int)  # or int\ndf[\"WindDirection\"] = df[\"WindDirection\"].astype(float)\ndf[\"WindSpeed\"] = df[\"WindSpeed\"].astype(float)\ndf[\"PeriodStart\"] = (\n    pd.to_datetime(df[\"PeriodStart\"]).dt.to_period(\"T\").dt.to_timestamp()\n)\ndf[\"PeriodEnd\"] = pd.to_datetime(df[\"PeriodEnd\"]).dt.to_period(\"T\").dt.to_timestamp()\n",
   "outputs": [
    {
     "name": "stderr",
     "text": "/shared-libs/python3.7/py/lib/python3.7/site-packages/pandas/core/arrays/datetimes.py:1104: UserWarning: Converting to PeriodArray/Index representation will drop timezone information.\n  UserWarning,\n",
     "output_type": "stream",
     "data": {}
    }
   ],
   "execution_count": null
  },
  {
   "cell_type": "code",
   "metadata": {
    "tags": [],
    "cell_id": "00008-d9b8f705-1b64-467e-a6f4-d6ac26238dda",
    "deepnote_to_be_reexecuted": false,
    "source_hash": "c085b6ba",
    "execution_start": 1640539266895,
    "execution_millis": 177,
    "deepnote_cell_type": "code"
   },
   "source": "df.head()",
   "outputs": [
    {
     "output_type": "execute_result",
     "execution_count": 9,
     "data": {
      "application/vnd.deepnote.dataframe.v3+json": {
       "column_count": 13,
       "row_count": 5,
       "columns": [
        {
         "name": "PeriodEnd",
         "dtype": "datetime64[ns]",
         "stats": {
          "unique_count": 5,
          "nan_count": 0,
          "min": "2018-12-31 02:00:00",
          "max": "2018-12-31 06:00:00",
          "histogram": [
           {
            "bin_start": 1546221600000000000,
            "bin_end": 1546223040000000000,
            "count": 1
           },
           {
            "bin_start": 1546223040000000000,
            "bin_end": 1546224480000000000,
            "count": 0
           },
           {
            "bin_start": 1546224480000000000,
            "bin_end": 1546225920000000000,
            "count": 1
           },
           {
            "bin_start": 1546225920000000000,
            "bin_end": 1546227360000000000,
            "count": 0
           },
           {
            "bin_start": 1546227360000000000,
            "bin_end": 1546228800000000000,
            "count": 0
           },
           {
            "bin_start": 1546228800000000000,
            "bin_end": 1546230240000000000,
            "count": 1
           },
           {
            "bin_start": 1546230240000000000,
            "bin_end": 1546231680000000000,
            "count": 0
           },
           {
            "bin_start": 1546231680000000000,
            "bin_end": 1546233120000000000,
            "count": 1
           },
           {
            "bin_start": 1546233120000000000,
            "bin_end": 1546234560000000000,
            "count": 0
           },
           {
            "bin_start": 1546234560000000000,
            "bin_end": 1546236000000000000,
            "count": 1
           }
          ]
         }
        },
        {
         "name": "PeriodStart",
         "dtype": "datetime64[ns]",
         "stats": {
          "unique_count": 5,
          "nan_count": 0,
          "min": "2018-12-31 01:00:00",
          "max": "2018-12-31 05:00:00",
          "histogram": [
           {
            "bin_start": 1546218000000000000,
            "bin_end": 1546219440000000000,
            "count": 1
           },
           {
            "bin_start": 1546219440000000000,
            "bin_end": 1546220880000000000,
            "count": 0
           },
           {
            "bin_start": 1546220880000000000,
            "bin_end": 1546222320000000000,
            "count": 1
           },
           {
            "bin_start": 1546222320000000000,
            "bin_end": 1546223760000000000,
            "count": 0
           },
           {
            "bin_start": 1546223760000000000,
            "bin_end": 1546225200000000000,
            "count": 0
           },
           {
            "bin_start": 1546225200000000000,
            "bin_end": 1546226640000000000,
            "count": 1
           },
           {
            "bin_start": 1546226640000000000,
            "bin_end": 1546228080000000000,
            "count": 0
           },
           {
            "bin_start": 1546228080000000000,
            "bin_end": 1546229520000000000,
            "count": 1
           },
           {
            "bin_start": 1546229520000000000,
            "bin_end": 1546230960000000000,
            "count": 0
           },
           {
            "bin_start": 1546230960000000000,
            "bin_end": 1546232400000000000,
            "count": 1
           }
          ]
         }
        },
        {
         "name": "Temperature",
         "dtype": "float64",
         "stats": {
          "unique_count": 5,
          "nan_count": 0,
          "min": "1.5",
          "max": "10.7",
          "histogram": [
           {
            "bin_start": 1.5,
            "bin_end": 2.42,
            "count": 2
           },
           {
            "bin_start": 2.42,
            "bin_end": 3.34,
            "count": 0
           },
           {
            "bin_start": 3.34,
            "bin_end": 4.26,
            "count": 1
           },
           {
            "bin_start": 4.26,
            "bin_end": 5.18,
            "count": 0
           },
           {
            "bin_start": 5.18,
            "bin_end": 6.1,
            "count": 0
           },
           {
            "bin_start": 6.1,
            "bin_end": 7.02,
            "count": 0
           },
           {
            "bin_start": 7.02,
            "bin_end": 7.9399999999999995,
            "count": 1
           },
           {
            "bin_start": 7.9399999999999995,
            "bin_end": 8.86,
            "count": 0
           },
           {
            "bin_start": 8.86,
            "bin_end": 9.78,
            "count": 0
           },
           {
            "bin_start": 9.78,
            "bin_end": 10.7,
            "count": 1
           }
          ]
         }
        },
        {
         "name": "CloudOpacity",
         "dtype": "float64",
         "stats": {
          "unique_count": 3,
          "nan_count": 0,
          "min": "0.0",
          "max": "15.4",
          "histogram": [
           {
            "bin_start": 0,
            "bin_end": 1.54,
            "count": 3
           },
           {
            "bin_start": 1.54,
            "bin_end": 3.08,
            "count": 0
           },
           {
            "bin_start": 3.08,
            "bin_end": 4.62,
            "count": 0
           },
           {
            "bin_start": 4.62,
            "bin_end": 6.16,
            "count": 0
           },
           {
            "bin_start": 6.16,
            "bin_end": 7.7,
            "count": 0
           },
           {
            "bin_start": 7.7,
            "bin_end": 9.24,
            "count": 1
           },
           {
            "bin_start": 9.24,
            "bin_end": 10.780000000000001,
            "count": 0
           },
           {
            "bin_start": 10.780000000000001,
            "bin_end": 12.32,
            "count": 0
           },
           {
            "bin_start": 12.32,
            "bin_end": 13.86,
            "count": 0
           },
           {
            "bin_start": 13.86,
            "bin_end": 15.4,
            "count": 1
           }
          ]
         }
        },
        {
         "name": "Radiation",
         "dtype": "float64",
         "stats": {
          "unique_count": 5,
          "nan_count": 0,
          "min": "0.0",
          "max": "129.0",
          "histogram": [
           {
            "bin_start": 0,
            "bin_end": 12.9,
            "count": 1
           },
           {
            "bin_start": 12.9,
            "bin_end": 25.8,
            "count": 1
           },
           {
            "bin_start": 25.8,
            "bin_end": 38.7,
            "count": 0
           },
           {
            "bin_start": 38.7,
            "bin_end": 51.6,
            "count": 0
           },
           {
            "bin_start": 51.6,
            "bin_end": 64.5,
            "count": 0
           },
           {
            "bin_start": 64.5,
            "bin_end": 77.4,
            "count": 0
           },
           {
            "bin_start": 77.4,
            "bin_end": 90.3,
            "count": 0
           },
           {
            "bin_start": 90.3,
            "bin_end": 103.2,
            "count": 1
           },
           {
            "bin_start": 103.2,
            "bin_end": 116.10000000000001,
            "count": 1
           },
           {
            "bin_start": 116.10000000000001,
            "bin_end": 129,
            "count": 1
           }
          ]
         }
        },
        {
         "name": "DNI",
         "dtype": "int64",
         "stats": {
          "unique_count": 5,
          "nan_count": 0,
          "min": "0",
          "max": "707",
          "histogram": [
           {
            "bin_start": 0,
            "bin_end": 70.7,
            "count": 2
           },
           {
            "bin_start": 70.7,
            "bin_end": 141.4,
            "count": 0
           },
           {
            "bin_start": 141.4,
            "bin_end": 212.10000000000002,
            "count": 1
           },
           {
            "bin_start": 212.10000000000002,
            "bin_end": 282.8,
            "count": 0
           },
           {
            "bin_start": 282.8,
            "bin_end": 353.5,
            "count": 0
           },
           {
            "bin_start": 353.5,
            "bin_end": 424.20000000000005,
            "count": 0
           },
           {
            "bin_start": 424.20000000000005,
            "bin_end": 494.90000000000003,
            "count": 0
           },
           {
            "bin_start": 494.90000000000003,
            "bin_end": 565.6,
            "count": 0
           },
           {
            "bin_start": 565.6,
            "bin_end": 636.3000000000001,
            "count": 1
           },
           {
            "bin_start": 636.3000000000001,
            "bin_end": 707,
            "count": 1
           }
          ]
         }
        },
        {
         "name": "GHI",
         "dtype": "int64",
         "stats": {
          "unique_count": 5,
          "nan_count": 0,
          "min": "0",
          "max": "464",
          "histogram": [
           {
            "bin_start": 0,
            "bin_end": 46.4,
            "count": 2
           },
           {
            "bin_start": 46.4,
            "bin_end": 92.8,
            "count": 0
           },
           {
            "bin_start": 92.8,
            "bin_end": 139.2,
            "count": 0
           },
           {
            "bin_start": 139.2,
            "bin_end": 185.6,
            "count": 1
           },
           {
            "bin_start": 185.6,
            "bin_end": 232,
            "count": 0
           },
           {
            "bin_start": 232,
            "bin_end": 278.4,
            "count": 0
           },
           {
            "bin_start": 278.4,
            "bin_end": 324.8,
            "count": 0
           },
           {
            "bin_start": 324.8,
            "bin_end": 371.2,
            "count": 1
           },
           {
            "bin_start": 371.2,
            "bin_end": 417.59999999999997,
            "count": 0
           },
           {
            "bin_start": 417.59999999999997,
            "bin_end": 464,
            "count": 1
           }
          ]
         }
        },
        {
         "name": "Precipitation",
         "dtype": "float64",
         "stats": {
          "unique_count": 4,
          "nan_count": 0,
          "min": "8.8",
          "max": "9.3",
          "histogram": [
           {
            "bin_start": 8.8,
            "bin_end": 8.850000000000001,
            "count": 1
           },
           {
            "bin_start": 8.850000000000001,
            "bin_end": 8.9,
            "count": 0
           },
           {
            "bin_start": 8.9,
            "bin_end": 8.950000000000001,
            "count": 2
           },
           {
            "bin_start": 8.950000000000001,
            "bin_end": 9,
            "count": 0
           },
           {
            "bin_start": 9,
            "bin_end": 9.05,
            "count": 0
           },
           {
            "bin_start": 9.05,
            "bin_end": 9.100000000000001,
            "count": 1
           },
           {
            "bin_start": 9.100000000000001,
            "bin_end": 9.15,
            "count": 0
           },
           {
            "bin_start": 9.15,
            "bin_end": 9.200000000000001,
            "count": 0
           },
           {
            "bin_start": 9.200000000000001,
            "bin_end": 9.25,
            "count": 0
           },
           {
            "bin_start": 9.25,
            "bin_end": 9.3,
            "count": 1
           }
          ]
         }
        },
        {
         "name": "Humidity",
         "dtype": "int64",
         "stats": {
          "unique_count": 5,
          "nan_count": 0,
          "min": "62",
          "max": "83",
          "histogram": [
           {
            "bin_start": 62,
            "bin_end": 64.1,
            "count": 1
           },
           {
            "bin_start": 64.1,
            "bin_end": 66.2,
            "count": 0
           },
           {
            "bin_start": 66.2,
            "bin_end": 68.3,
            "count": 1
           },
           {
            "bin_start": 68.3,
            "bin_end": 70.4,
            "count": 0
           },
           {
            "bin_start": 70.4,
            "bin_end": 72.5,
            "count": 0
           },
           {
            "bin_start": 72.5,
            "bin_end": 74.6,
            "count": 0
           },
           {
            "bin_start": 74.6,
            "bin_end": 76.7,
            "count": 1
           },
           {
            "bin_start": 76.7,
            "bin_end": 78.8,
            "count": 0
           },
           {
            "bin_start": 78.8,
            "bin_end": 80.9,
            "count": 1
           },
           {
            "bin_start": 80.9,
            "bin_end": 83,
            "count": 1
           }
          ]
         }
        },
        {
         "name": "Pressure",
         "dtype": "float64",
         "stats": {
          "unique_count": 5,
          "nan_count": 0,
          "min": "929.6",
          "max": "930.3",
          "histogram": [
           {
            "bin_start": 929.6,
            "bin_end": 929.6700000000001,
            "count": 1
           },
           {
            "bin_start": 929.6700000000001,
            "bin_end": 929.74,
            "count": 0
           },
           {
            "bin_start": 929.74,
            "bin_end": 929.81,
            "count": 0
           },
           {
            "bin_start": 929.81,
            "bin_end": 929.88,
            "count": 0
           },
           {
            "bin_start": 929.88,
            "bin_end": 929.95,
            "count": 1
           },
           {
            "bin_start": 929.95,
            "bin_end": 930.02,
            "count": 0
           },
           {
            "bin_start": 930.02,
            "bin_end": 930.0899999999999,
            "count": 0
           },
           {
            "bin_start": 930.0899999999999,
            "bin_end": 930.16,
            "count": 1
           },
           {
            "bin_start": 930.16,
            "bin_end": 930.23,
            "count": 1
           },
           {
            "bin_start": 930.23,
            "bin_end": 930.3,
            "count": 1
           }
          ]
         }
        },
        {
         "name": "WindDirection",
         "dtype": "float64",
         "stats": {
          "unique_count": 4,
          "nan_count": 0,
          "min": "15.0",
          "max": "31.0",
          "histogram": [
           {
            "bin_start": 15,
            "bin_end": 16.6,
            "count": 1
           },
           {
            "bin_start": 16.6,
            "bin_end": 18.2,
            "count": 0
           },
           {
            "bin_start": 18.2,
            "bin_end": 19.8,
            "count": 0
           },
           {
            "bin_start": 19.8,
            "bin_end": 21.4,
            "count": 0
           },
           {
            "bin_start": 21.4,
            "bin_end": 23,
            "count": 0
           },
           {
            "bin_start": 23,
            "bin_end": 24.6,
            "count": 1
           },
           {
            "bin_start": 24.6,
            "bin_end": 26.200000000000003,
            "count": 0
           },
           {
            "bin_start": 26.200000000000003,
            "bin_end": 27.8,
            "count": 0
           },
           {
            "bin_start": 27.8,
            "bin_end": 29.4,
            "count": 1
           },
           {
            "bin_start": 29.4,
            "bin_end": 31,
            "count": 2
           }
          ]
         }
        },
        {
         "name": "WindSpeed",
         "dtype": "float64",
         "stats": {
          "unique_count": 4,
          "nan_count": 0,
          "min": "1.8",
          "max": "2.2",
          "histogram": [
           {
            "bin_start": 1.8,
            "bin_end": 1.84,
            "count": 1
           },
           {
            "bin_start": 1.84,
            "bin_end": 1.8800000000000001,
            "count": 0
           },
           {
            "bin_start": 1.8800000000000001,
            "bin_end": 1.9200000000000002,
            "count": 0
           },
           {
            "bin_start": 1.9200000000000002,
            "bin_end": 1.9600000000000002,
            "count": 0
           },
           {
            "bin_start": 1.9600000000000002,
            "bin_end": 2,
            "count": 0
           },
           {
            "bin_start": 2,
            "bin_end": 2.04,
            "count": 1
           },
           {
            "bin_start": 2.04,
            "bin_end": 2.08,
            "count": 0
           },
           {
            "bin_start": 2.08,
            "bin_end": 2.12,
            "count": 1
           },
           {
            "bin_start": 2.12,
            "bin_end": 2.16,
            "count": 0
           },
           {
            "bin_start": 2.16,
            "bin_end": 2.2,
            "count": 2
           }
          ]
         }
        },
        {
         "name": "Zenith",
         "dtype": "int64",
         "stats": {
          "unique_count": 5,
          "nan_count": 0,
          "min": "62",
          "max": "99",
          "histogram": [
           {
            "bin_start": 62,
            "bin_end": 65.7,
            "count": 1
           },
           {
            "bin_start": 65.7,
            "bin_end": 69.4,
            "count": 1
           },
           {
            "bin_start": 69.4,
            "bin_end": 73.1,
            "count": 0
           },
           {
            "bin_start": 73.1,
            "bin_end": 76.8,
            "count": 0
           },
           {
            "bin_start": 76.8,
            "bin_end": 80.5,
            "count": 1
           },
           {
            "bin_start": 80.5,
            "bin_end": 84.2,
            "count": 0
           },
           {
            "bin_start": 84.2,
            "bin_end": 87.9,
            "count": 0
           },
           {
            "bin_start": 87.9,
            "bin_end": 91.6,
            "count": 1
           },
           {
            "bin_start": 91.6,
            "bin_end": 95.30000000000001,
            "count": 0
           },
           {
            "bin_start": 95.30000000000001,
            "bin_end": 99,
            "count": 1
           }
          ]
         }
        },
        {
         "name": "_deepnote_index_column",
         "dtype": "int64"
        }
       ],
       "rows": [
        {
         "PeriodEnd": "2018-12-31T02:00:00.000000",
         "PeriodStart": "2018-12-31T01:00:00.000000",
         "Temperature": 1.5,
         "CloudOpacity": 0,
         "Radiation": 0,
         "DNI": 0,
         "GHI": 0,
         "Precipitation": 9.3,
         "Humidity": 83,
         "Pressure": 929.6,
         "WindDirection": 31,
         "WindSpeed": 2.1,
         "Zenith": 99,
         "_deepnote_index_column": 0
        },
        {
         "PeriodEnd": "2018-12-31T03:00:00.000000",
         "PeriodStart": "2018-12-31T02:00:00.000000",
         "Temperature": 1.6,
         "CloudOpacity": 8.1,
         "Radiation": 21,
         "DNI": 16,
         "GHI": 23,
         "Precipitation": 9.1,
         "Humidity": 80,
         "Pressure": 929.9,
         "WindDirection": 31,
         "WindSpeed": 2.2,
         "Zenith": 88,
         "_deepnote_index_column": 1
        },
        {
         "PeriodEnd": "2018-12-31T04:00:00.000000",
         "PeriodStart": "2018-12-31T03:00:00.000000",
         "Temperature": 3.5,
         "CloudOpacity": 15.4,
         "Radiation": 99,
         "DNI": 178,
         "GHI": 148,
         "Precipitation": 8.9,
         "Humidity": 75,
         "Pressure": 930.1,
         "WindDirection": 28,
         "WindSpeed": 2.2,
         "Zenith": 77,
         "_deepnote_index_column": 2
        },
        {
         "PeriodEnd": "2018-12-31T05:00:00.000000",
         "PeriodStart": "2018-12-31T04:00:00.000000",
         "Temperature": 7.1,
         "CloudOpacity": 0,
         "Radiation": 112,
         "DNI": 599,
         "GHI": 333,
         "Precipitation": 8.9,
         "Humidity": 68,
         "Pressure": 930.2,
         "WindDirection": 23,
         "WindSpeed": 2,
         "Zenith": 68,
         "_deepnote_index_column": 3
        },
        {
         "PeriodEnd": "2018-12-31T06:00:00.000000",
         "PeriodStart": "2018-12-31T05:00:00.000000",
         "Temperature": 10.7,
         "CloudOpacity": 0,
         "Radiation": 129,
         "DNI": 707,
         "GHI": 464,
         "Precipitation": 8.8,
         "Humidity": 62,
         "Pressure": 930.3,
         "WindDirection": 15,
         "WindSpeed": 1.8,
         "Zenith": 62,
         "_deepnote_index_column": 4
        }
       ]
      },
      "text/plain": "            PeriodEnd         PeriodStart  Temperature  CloudOpacity  \\\n0 2018-12-31 02:00:00 2018-12-31 01:00:00          1.5           0.0   \n1 2018-12-31 03:00:00 2018-12-31 02:00:00          1.6           8.1   \n2 2018-12-31 04:00:00 2018-12-31 03:00:00          3.5          15.4   \n3 2018-12-31 05:00:00 2018-12-31 04:00:00          7.1           0.0   \n4 2018-12-31 06:00:00 2018-12-31 05:00:00         10.7           0.0   \n\n   Radiation  DNI  GHI  Precipitation  Humidity  Pressure  WindDirection  \\\n0        0.0    0    0            9.3        83     929.6           31.0   \n1       21.0   16   23            9.1        80     929.9           31.0   \n2       99.0  178  148            8.9        75     930.1           28.0   \n3      112.0  599  333            8.9        68     930.2           23.0   \n4      129.0  707  464            8.8        62     930.3           15.0   \n\n   WindSpeed  Zenith  \n0        2.1      99  \n1        2.2      88  \n2        2.2      77  \n3        2.0      68  \n4        1.8      62  ",
      "text/html": "<div>\n<style scoped>\n    .dataframe tbody tr th:only-of-type {\n        vertical-align: middle;\n    }\n\n    .dataframe tbody tr th {\n        vertical-align: top;\n    }\n\n    .dataframe thead th {\n        text-align: right;\n    }\n</style>\n<table border=\"1\" class=\"dataframe\">\n  <thead>\n    <tr style=\"text-align: right;\">\n      <th></th>\n      <th>PeriodEnd</th>\n      <th>PeriodStart</th>\n      <th>Temperature</th>\n      <th>CloudOpacity</th>\n      <th>Radiation</th>\n      <th>DNI</th>\n      <th>GHI</th>\n      <th>Precipitation</th>\n      <th>Humidity</th>\n      <th>Pressure</th>\n      <th>WindDirection</th>\n      <th>WindSpeed</th>\n      <th>Zenith</th>\n    </tr>\n  </thead>\n  <tbody>\n    <tr>\n      <th>0</th>\n      <td>2018-12-31 02:00:00</td>\n      <td>2018-12-31 01:00:00</td>\n      <td>1.5</td>\n      <td>0.0</td>\n      <td>0.0</td>\n      <td>0</td>\n      <td>0</td>\n      <td>9.3</td>\n      <td>83</td>\n      <td>929.6</td>\n      <td>31.0</td>\n      <td>2.1</td>\n      <td>99</td>\n    </tr>\n    <tr>\n      <th>1</th>\n      <td>2018-12-31 03:00:00</td>\n      <td>2018-12-31 02:00:00</td>\n      <td>1.6</td>\n      <td>8.1</td>\n      <td>21.0</td>\n      <td>16</td>\n      <td>23</td>\n      <td>9.1</td>\n      <td>80</td>\n      <td>929.9</td>\n      <td>31.0</td>\n      <td>2.2</td>\n      <td>88</td>\n    </tr>\n    <tr>\n      <th>2</th>\n      <td>2018-12-31 04:00:00</td>\n      <td>2018-12-31 03:00:00</td>\n      <td>3.5</td>\n      <td>15.4</td>\n      <td>99.0</td>\n      <td>178</td>\n      <td>148</td>\n      <td>8.9</td>\n      <td>75</td>\n      <td>930.1</td>\n      <td>28.0</td>\n      <td>2.2</td>\n      <td>77</td>\n    </tr>\n    <tr>\n      <th>3</th>\n      <td>2018-12-31 05:00:00</td>\n      <td>2018-12-31 04:00:00</td>\n      <td>7.1</td>\n      <td>0.0</td>\n      <td>112.0</td>\n      <td>599</td>\n      <td>333</td>\n      <td>8.9</td>\n      <td>68</td>\n      <td>930.2</td>\n      <td>23.0</td>\n      <td>2.0</td>\n      <td>68</td>\n    </tr>\n    <tr>\n      <th>4</th>\n      <td>2018-12-31 06:00:00</td>\n      <td>2018-12-31 05:00:00</td>\n      <td>10.7</td>\n      <td>0.0</td>\n      <td>129.0</td>\n      <td>707</td>\n      <td>464</td>\n      <td>8.8</td>\n      <td>62</td>\n      <td>930.3</td>\n      <td>15.0</td>\n      <td>1.8</td>\n      <td>62</td>\n    </tr>\n  </tbody>\n</table>\n</div>"
     },
     "metadata": {}
    }
   ],
   "execution_count": null
  },
  {
   "cell_type": "code",
   "metadata": {
    "tags": [],
    "cell_id": "00009-8bc1bc3a-5920-432b-a662-b6a6a18fa7d6",
    "deepnote_to_be_reexecuted": false,
    "source_hash": "82ac4c92",
    "execution_start": 1640539267080,
    "execution_millis": 128,
    "deepnote_cell_type": "code"
   },
   "source": "# create new features(year, month, day) from start and end time of data collection\ndf[\"YearPS\"] = pd.to_datetime(df[\"PeriodStart\"]).dt.year\ndf[\"YearPE\"] = pd.to_datetime(df[\"PeriodEnd\"]).dt.year\n\ndf[\"MonthPS\"] = pd.to_datetime(df[\"PeriodStart\"]).dt.month\ndf[\"MonthPE\"] = pd.to_datetime(df[\"PeriodEnd\"]).dt.month\n\ndf[\"HourPS\"] = pd.to_datetime(df[\"PeriodStart\"]).dt.hour\ndf[\"HourPE\"] = pd.to_datetime(df[\"PeriodEnd\"]).dt.hour\n",
   "outputs": [],
   "execution_count": null
  },
  {
   "cell_type": "code",
   "metadata": {
    "tags": [],
    "cell_id": "00010-d6f7e3e2-0a39-4d95-9b3c-d71fde0f3e29",
    "deepnote_to_be_reexecuted": false,
    "source_hash": "3a1ea484",
    "execution_start": 1640539267214,
    "execution_millis": 225,
    "deepnote_cell_type": "code"
   },
   "source": "df.head(3)",
   "outputs": [
    {
     "output_type": "execute_result",
     "execution_count": 11,
     "data": {
      "application/vnd.deepnote.dataframe.v3+json": {
       "column_count": 19,
       "row_count": 3,
       "columns": [
        {
         "name": "PeriodEnd",
         "dtype": "datetime64[ns]",
         "stats": {
          "unique_count": 3,
          "nan_count": 0,
          "min": "2018-12-31 02:00:00",
          "max": "2018-12-31 04:00:00",
          "histogram": [
           {
            "bin_start": 1546221600000000000,
            "bin_end": 1546222320000000000,
            "count": 1
           },
           {
            "bin_start": 1546222320000000000,
            "bin_end": 1546223040000000000,
            "count": 0
           },
           {
            "bin_start": 1546223040000000000,
            "bin_end": 1546223760000000000,
            "count": 0
           },
           {
            "bin_start": 1546223760000000000,
            "bin_end": 1546224480000000000,
            "count": 0
           },
           {
            "bin_start": 1546224480000000000,
            "bin_end": 1546225200000000000,
            "count": 0
           },
           {
            "bin_start": 1546225200000000000,
            "bin_end": 1546225920000000000,
            "count": 1
           },
           {
            "bin_start": 1546225920000000000,
            "bin_end": 1546226640000000000,
            "count": 0
           },
           {
            "bin_start": 1546226640000000000,
            "bin_end": 1546227360000000000,
            "count": 0
           },
           {
            "bin_start": 1546227360000000000,
            "bin_end": 1546228080000000000,
            "count": 0
           },
           {
            "bin_start": 1546228080000000000,
            "bin_end": 1546228800000000000,
            "count": 1
           }
          ]
         }
        },
        {
         "name": "PeriodStart",
         "dtype": "datetime64[ns]",
         "stats": {
          "unique_count": 3,
          "nan_count": 0,
          "min": "2018-12-31 01:00:00",
          "max": "2018-12-31 03:00:00",
          "histogram": [
           {
            "bin_start": 1546218000000000000,
            "bin_end": 1546218720000000000,
            "count": 1
           },
           {
            "bin_start": 1546218720000000000,
            "bin_end": 1546219440000000000,
            "count": 0
           },
           {
            "bin_start": 1546219440000000000,
            "bin_end": 1546220160000000000,
            "count": 0
           },
           {
            "bin_start": 1546220160000000000,
            "bin_end": 1546220880000000000,
            "count": 0
           },
           {
            "bin_start": 1546220880000000000,
            "bin_end": 1546221600000000000,
            "count": 0
           },
           {
            "bin_start": 1546221600000000000,
            "bin_end": 1546222320000000000,
            "count": 1
           },
           {
            "bin_start": 1546222320000000000,
            "bin_end": 1546223040000000000,
            "count": 0
           },
           {
            "bin_start": 1546223040000000000,
            "bin_end": 1546223760000000000,
            "count": 0
           },
           {
            "bin_start": 1546223760000000000,
            "bin_end": 1546224480000000000,
            "count": 0
           },
           {
            "bin_start": 1546224480000000000,
            "bin_end": 1546225200000000000,
            "count": 1
           }
          ]
         }
        },
        {
         "name": "Temperature",
         "dtype": "float64",
         "stats": {
          "unique_count": 3,
          "nan_count": 0,
          "min": "1.5",
          "max": "3.5",
          "histogram": [
           {
            "bin_start": 1.5,
            "bin_end": 1.7,
            "count": 2
           },
           {
            "bin_start": 1.7,
            "bin_end": 1.9,
            "count": 0
           },
           {
            "bin_start": 1.9,
            "bin_end": 2.1,
            "count": 0
           },
           {
            "bin_start": 2.1,
            "bin_end": 2.3,
            "count": 0
           },
           {
            "bin_start": 2.3,
            "bin_end": 2.5,
            "count": 0
           },
           {
            "bin_start": 2.5,
            "bin_end": 2.7,
            "count": 0
           },
           {
            "bin_start": 2.7,
            "bin_end": 2.9000000000000004,
            "count": 0
           },
           {
            "bin_start": 2.9000000000000004,
            "bin_end": 3.1,
            "count": 0
           },
           {
            "bin_start": 3.1,
            "bin_end": 3.3,
            "count": 0
           },
           {
            "bin_start": 3.3,
            "bin_end": 3.5,
            "count": 1
           }
          ]
         }
        },
        {
         "name": "CloudOpacity",
         "dtype": "float64",
         "stats": {
          "unique_count": 3,
          "nan_count": 0,
          "min": "0.0",
          "max": "15.4",
          "histogram": [
           {
            "bin_start": 0,
            "bin_end": 1.54,
            "count": 1
           },
           {
            "bin_start": 1.54,
            "bin_end": 3.08,
            "count": 0
           },
           {
            "bin_start": 3.08,
            "bin_end": 4.62,
            "count": 0
           },
           {
            "bin_start": 4.62,
            "bin_end": 6.16,
            "count": 0
           },
           {
            "bin_start": 6.16,
            "bin_end": 7.7,
            "count": 0
           },
           {
            "bin_start": 7.7,
            "bin_end": 9.24,
            "count": 1
           },
           {
            "bin_start": 9.24,
            "bin_end": 10.780000000000001,
            "count": 0
           },
           {
            "bin_start": 10.780000000000001,
            "bin_end": 12.32,
            "count": 0
           },
           {
            "bin_start": 12.32,
            "bin_end": 13.86,
            "count": 0
           },
           {
            "bin_start": 13.86,
            "bin_end": 15.4,
            "count": 1
           }
          ]
         }
        },
        {
         "name": "Radiation",
         "dtype": "float64",
         "stats": {
          "unique_count": 3,
          "nan_count": 0,
          "min": "0.0",
          "max": "99.0",
          "histogram": [
           {
            "bin_start": 0,
            "bin_end": 9.9,
            "count": 1
           },
           {
            "bin_start": 9.9,
            "bin_end": 19.8,
            "count": 0
           },
           {
            "bin_start": 19.8,
            "bin_end": 29.700000000000003,
            "count": 1
           },
           {
            "bin_start": 29.700000000000003,
            "bin_end": 39.6,
            "count": 0
           },
           {
            "bin_start": 39.6,
            "bin_end": 49.5,
            "count": 0
           },
           {
            "bin_start": 49.5,
            "bin_end": 59.400000000000006,
            "count": 0
           },
           {
            "bin_start": 59.400000000000006,
            "bin_end": 69.3,
            "count": 0
           },
           {
            "bin_start": 69.3,
            "bin_end": 79.2,
            "count": 0
           },
           {
            "bin_start": 79.2,
            "bin_end": 89.10000000000001,
            "count": 0
           },
           {
            "bin_start": 89.10000000000001,
            "bin_end": 99,
            "count": 1
           }
          ]
         }
        },
        {
         "name": "DNI",
         "dtype": "int64",
         "stats": {
          "unique_count": 3,
          "nan_count": 0,
          "min": "0",
          "max": "178",
          "histogram": [
           {
            "bin_start": 0,
            "bin_end": 17.8,
            "count": 2
           },
           {
            "bin_start": 17.8,
            "bin_end": 35.6,
            "count": 0
           },
           {
            "bin_start": 35.6,
            "bin_end": 53.400000000000006,
            "count": 0
           },
           {
            "bin_start": 53.400000000000006,
            "bin_end": 71.2,
            "count": 0
           },
           {
            "bin_start": 71.2,
            "bin_end": 89,
            "count": 0
           },
           {
            "bin_start": 89,
            "bin_end": 106.80000000000001,
            "count": 0
           },
           {
            "bin_start": 106.80000000000001,
            "bin_end": 124.60000000000001,
            "count": 0
           },
           {
            "bin_start": 124.60000000000001,
            "bin_end": 142.4,
            "count": 0
           },
           {
            "bin_start": 142.4,
            "bin_end": 160.20000000000002,
            "count": 0
           },
           {
            "bin_start": 160.20000000000002,
            "bin_end": 178,
            "count": 1
           }
          ]
         }
        },
        {
         "name": "GHI",
         "dtype": "int64",
         "stats": {
          "unique_count": 3,
          "nan_count": 0,
          "min": "0",
          "max": "148",
          "histogram": [
           {
            "bin_start": 0,
            "bin_end": 14.8,
            "count": 1
           },
           {
            "bin_start": 14.8,
            "bin_end": 29.6,
            "count": 1
           },
           {
            "bin_start": 29.6,
            "bin_end": 44.400000000000006,
            "count": 0
           },
           {
            "bin_start": 44.400000000000006,
            "bin_end": 59.2,
            "count": 0
           },
           {
            "bin_start": 59.2,
            "bin_end": 74,
            "count": 0
           },
           {
            "bin_start": 74,
            "bin_end": 88.80000000000001,
            "count": 0
           },
           {
            "bin_start": 88.80000000000001,
            "bin_end": 103.60000000000001,
            "count": 0
           },
           {
            "bin_start": 103.60000000000001,
            "bin_end": 118.4,
            "count": 0
           },
           {
            "bin_start": 118.4,
            "bin_end": 133.20000000000002,
            "count": 0
           },
           {
            "bin_start": 133.20000000000002,
            "bin_end": 148,
            "count": 1
           }
          ]
         }
        },
        {
         "name": "Precipitation",
         "dtype": "float64",
         "stats": {
          "unique_count": 3,
          "nan_count": 0,
          "min": "8.9",
          "max": "9.3",
          "histogram": [
           {
            "bin_start": 8.9,
            "bin_end": 8.940000000000001,
            "count": 1
           },
           {
            "bin_start": 8.940000000000001,
            "bin_end": 8.98,
            "count": 0
           },
           {
            "bin_start": 8.98,
            "bin_end": 9.02,
            "count": 0
           },
           {
            "bin_start": 9.02,
            "bin_end": 9.06,
            "count": 0
           },
           {
            "bin_start": 9.06,
            "bin_end": 9.100000000000001,
            "count": 1
           },
           {
            "bin_start": 9.100000000000001,
            "bin_end": 9.14,
            "count": 0
           },
           {
            "bin_start": 9.14,
            "bin_end": 9.18,
            "count": 0
           },
           {
            "bin_start": 9.18,
            "bin_end": 9.22,
            "count": 0
           },
           {
            "bin_start": 9.22,
            "bin_end": 9.260000000000002,
            "count": 0
           },
           {
            "bin_start": 9.260000000000002,
            "bin_end": 9.3,
            "count": 1
           }
          ]
         }
        },
        {
         "name": "Humidity",
         "dtype": "int64",
         "stats": {
          "unique_count": 3,
          "nan_count": 0,
          "min": "75",
          "max": "83",
          "histogram": [
           {
            "bin_start": 75,
            "bin_end": 75.8,
            "count": 1
           },
           {
            "bin_start": 75.8,
            "bin_end": 76.6,
            "count": 0
           },
           {
            "bin_start": 76.6,
            "bin_end": 77.4,
            "count": 0
           },
           {
            "bin_start": 77.4,
            "bin_end": 78.2,
            "count": 0
           },
           {
            "bin_start": 78.2,
            "bin_end": 79,
            "count": 0
           },
           {
            "bin_start": 79,
            "bin_end": 79.8,
            "count": 0
           },
           {
            "bin_start": 79.8,
            "bin_end": 80.6,
            "count": 1
           },
           {
            "bin_start": 80.6,
            "bin_end": 81.4,
            "count": 0
           },
           {
            "bin_start": 81.4,
            "bin_end": 82.2,
            "count": 0
           },
           {
            "bin_start": 82.2,
            "bin_end": 83,
            "count": 1
           }
          ]
         }
        },
        {
         "name": "Pressure",
         "dtype": "float64",
         "stats": {
          "unique_count": 3,
          "nan_count": 0,
          "min": "929.6",
          "max": "930.1",
          "histogram": [
           {
            "bin_start": 929.6,
            "bin_end": 929.65,
            "count": 1
           },
           {
            "bin_start": 929.65,
            "bin_end": 929.7,
            "count": 0
           },
           {
            "bin_start": 929.7,
            "bin_end": 929.75,
            "count": 0
           },
           {
            "bin_start": 929.75,
            "bin_end": 929.8000000000001,
            "count": 0
           },
           {
            "bin_start": 929.8000000000001,
            "bin_end": 929.85,
            "count": 0
           },
           {
            "bin_start": 929.85,
            "bin_end": 929.9,
            "count": 0
           },
           {
            "bin_start": 929.9,
            "bin_end": 929.95,
            "count": 1
           },
           {
            "bin_start": 929.95,
            "bin_end": 930,
            "count": 0
           },
           {
            "bin_start": 930,
            "bin_end": 930.0500000000001,
            "count": 0
           },
           {
            "bin_start": 930.0500000000001,
            "bin_end": 930.1,
            "count": 1
           }
          ]
         }
        },
        {
         "name": "WindDirection",
         "dtype": "float64",
         "stats": {
          "unique_count": 2,
          "nan_count": 0,
          "min": "28.0",
          "max": "31.0",
          "histogram": [
           {
            "bin_start": 28,
            "bin_end": 28.3,
            "count": 1
           },
           {
            "bin_start": 28.3,
            "bin_end": 28.6,
            "count": 0
           },
           {
            "bin_start": 28.6,
            "bin_end": 28.9,
            "count": 0
           },
           {
            "bin_start": 28.9,
            "bin_end": 29.2,
            "count": 0
           },
           {
            "bin_start": 29.2,
            "bin_end": 29.5,
            "count": 0
           },
           {
            "bin_start": 29.5,
            "bin_end": 29.8,
            "count": 0
           },
           {
            "bin_start": 29.8,
            "bin_end": 30.1,
            "count": 0
           },
           {
            "bin_start": 30.1,
            "bin_end": 30.4,
            "count": 0
           },
           {
            "bin_start": 30.4,
            "bin_end": 30.7,
            "count": 0
           },
           {
            "bin_start": 30.7,
            "bin_end": 31,
            "count": 2
           }
          ]
         }
        },
        {
         "name": "WindSpeed",
         "dtype": "float64",
         "stats": {
          "unique_count": 2,
          "nan_count": 0,
          "min": "2.1",
          "max": "2.2",
          "histogram": [
           {
            "bin_start": 2.1,
            "bin_end": 2.1100000000000003,
            "count": 1
           },
           {
            "bin_start": 2.1100000000000003,
            "bin_end": 2.12,
            "count": 0
           },
           {
            "bin_start": 2.12,
            "bin_end": 2.13,
            "count": 0
           },
           {
            "bin_start": 2.13,
            "bin_end": 2.14,
            "count": 0
           },
           {
            "bin_start": 2.14,
            "bin_end": 2.1500000000000004,
            "count": 0
           },
           {
            "bin_start": 2.1500000000000004,
            "bin_end": 2.16,
            "count": 0
           },
           {
            "bin_start": 2.16,
            "bin_end": 2.17,
            "count": 0
           },
           {
            "bin_start": 2.17,
            "bin_end": 2.18,
            "count": 0
           },
           {
            "bin_start": 2.18,
            "bin_end": 2.1900000000000004,
            "count": 0
           },
           {
            "bin_start": 2.1900000000000004,
            "bin_end": 2.2,
            "count": 2
           }
          ]
         }
        },
        {
         "name": "Zenith",
         "dtype": "int64",
         "stats": {
          "unique_count": 3,
          "nan_count": 0,
          "min": "77",
          "max": "99",
          "histogram": [
           {
            "bin_start": 77,
            "bin_end": 79.2,
            "count": 1
           },
           {
            "bin_start": 79.2,
            "bin_end": 81.4,
            "count": 0
           },
           {
            "bin_start": 81.4,
            "bin_end": 83.6,
            "count": 0
           },
           {
            "bin_start": 83.6,
            "bin_end": 85.8,
            "count": 0
           },
           {
            "bin_start": 85.8,
            "bin_end": 88,
            "count": 0
           },
           {
            "bin_start": 88,
            "bin_end": 90.2,
            "count": 1
           },
           {
            "bin_start": 90.2,
            "bin_end": 92.4,
            "count": 0
           },
           {
            "bin_start": 92.4,
            "bin_end": 94.6,
            "count": 0
           },
           {
            "bin_start": 94.6,
            "bin_end": 96.8,
            "count": 0
           },
           {
            "bin_start": 96.8,
            "bin_end": 99,
            "count": 1
           }
          ]
         }
        },
        {
         "name": "YearPS",
         "dtype": "int64",
         "stats": {
          "unique_count": 1,
          "nan_count": 0,
          "min": "2018",
          "max": "2018",
          "histogram": [
           {
            "bin_start": 2017.5,
            "bin_end": 2017.6,
            "count": 0
           },
           {
            "bin_start": 2017.6,
            "bin_end": 2017.7,
            "count": 0
           },
           {
            "bin_start": 2017.7,
            "bin_end": 2017.8,
            "count": 0
           },
           {
            "bin_start": 2017.8,
            "bin_end": 2017.9,
            "count": 0
           },
           {
            "bin_start": 2017.9,
            "bin_end": 2018,
            "count": 0
           },
           {
            "bin_start": 2018,
            "bin_end": 2018.1,
            "count": 3
           },
           {
            "bin_start": 2018.1,
            "bin_end": 2018.2,
            "count": 0
           },
           {
            "bin_start": 2018.2,
            "bin_end": 2018.3,
            "count": 0
           },
           {
            "bin_start": 2018.3,
            "bin_end": 2018.4,
            "count": 0
           },
           {
            "bin_start": 2018.4,
            "bin_end": 2018.5,
            "count": 0
           }
          ]
         }
        },
        {
         "name": "YearPE",
         "dtype": "int64",
         "stats": {
          "unique_count": 1,
          "nan_count": 0,
          "min": "2018",
          "max": "2018",
          "histogram": [
           {
            "bin_start": 2017.5,
            "bin_end": 2017.6,
            "count": 0
           },
           {
            "bin_start": 2017.6,
            "bin_end": 2017.7,
            "count": 0
           },
           {
            "bin_start": 2017.7,
            "bin_end": 2017.8,
            "count": 0
           },
           {
            "bin_start": 2017.8,
            "bin_end": 2017.9,
            "count": 0
           },
           {
            "bin_start": 2017.9,
            "bin_end": 2018,
            "count": 0
           },
           {
            "bin_start": 2018,
            "bin_end": 2018.1,
            "count": 3
           },
           {
            "bin_start": 2018.1,
            "bin_end": 2018.2,
            "count": 0
           },
           {
            "bin_start": 2018.2,
            "bin_end": 2018.3,
            "count": 0
           },
           {
            "bin_start": 2018.3,
            "bin_end": 2018.4,
            "count": 0
           },
           {
            "bin_start": 2018.4,
            "bin_end": 2018.5,
            "count": 0
           }
          ]
         }
        },
        {
         "name": "MonthPS",
         "dtype": "int64",
         "stats": {
          "unique_count": 1,
          "nan_count": 0,
          "min": "12",
          "max": "12",
          "histogram": [
           {
            "bin_start": 11.5,
            "bin_end": 11.6,
            "count": 0
           },
           {
            "bin_start": 11.6,
            "bin_end": 11.7,
            "count": 0
           },
           {
            "bin_start": 11.7,
            "bin_end": 11.8,
            "count": 0
           },
           {
            "bin_start": 11.8,
            "bin_end": 11.9,
            "count": 0
           },
           {
            "bin_start": 11.9,
            "bin_end": 12,
            "count": 0
           },
           {
            "bin_start": 12,
            "bin_end": 12.1,
            "count": 3
           },
           {
            "bin_start": 12.1,
            "bin_end": 12.2,
            "count": 0
           },
           {
            "bin_start": 12.2,
            "bin_end": 12.3,
            "count": 0
           },
           {
            "bin_start": 12.3,
            "bin_end": 12.4,
            "count": 0
           },
           {
            "bin_start": 12.4,
            "bin_end": 12.5,
            "count": 0
           }
          ]
         }
        },
        {
         "name": "MonthPE",
         "dtype": "int64",
         "stats": {
          "unique_count": 1,
          "nan_count": 0,
          "min": "12",
          "max": "12",
          "histogram": [
           {
            "bin_start": 11.5,
            "bin_end": 11.6,
            "count": 0
           },
           {
            "bin_start": 11.6,
            "bin_end": 11.7,
            "count": 0
           },
           {
            "bin_start": 11.7,
            "bin_end": 11.8,
            "count": 0
           },
           {
            "bin_start": 11.8,
            "bin_end": 11.9,
            "count": 0
           },
           {
            "bin_start": 11.9,
            "bin_end": 12,
            "count": 0
           },
           {
            "bin_start": 12,
            "bin_end": 12.1,
            "count": 3
           },
           {
            "bin_start": 12.1,
            "bin_end": 12.2,
            "count": 0
           },
           {
            "bin_start": 12.2,
            "bin_end": 12.3,
            "count": 0
           },
           {
            "bin_start": 12.3,
            "bin_end": 12.4,
            "count": 0
           },
           {
            "bin_start": 12.4,
            "bin_end": 12.5,
            "count": 0
           }
          ]
         }
        },
        {
         "name": "HourPS",
         "dtype": "int64",
         "stats": {
          "unique_count": 3,
          "nan_count": 0,
          "min": "1",
          "max": "3",
          "histogram": [
           {
            "bin_start": 1,
            "bin_end": 1.2,
            "count": 1
           },
           {
            "bin_start": 1.2,
            "bin_end": 1.4,
            "count": 0
           },
           {
            "bin_start": 1.4,
            "bin_end": 1.6,
            "count": 0
           },
           {
            "bin_start": 1.6,
            "bin_end": 1.8,
            "count": 0
           },
           {
            "bin_start": 1.8,
            "bin_end": 2,
            "count": 0
           },
           {
            "bin_start": 2,
            "bin_end": 2.2,
            "count": 1
           },
           {
            "bin_start": 2.2,
            "bin_end": 2.4000000000000004,
            "count": 0
           },
           {
            "bin_start": 2.4000000000000004,
            "bin_end": 2.6,
            "count": 0
           },
           {
            "bin_start": 2.6,
            "bin_end": 2.8,
            "count": 0
           },
           {
            "bin_start": 2.8,
            "bin_end": 3,
            "count": 1
           }
          ]
         }
        },
        {
         "name": "HourPE",
         "dtype": "int64",
         "stats": {
          "unique_count": 3,
          "nan_count": 0,
          "min": "2",
          "max": "4",
          "histogram": [
           {
            "bin_start": 2,
            "bin_end": 2.2,
            "count": 1
           },
           {
            "bin_start": 2.2,
            "bin_end": 2.4,
            "count": 0
           },
           {
            "bin_start": 2.4,
            "bin_end": 2.6,
            "count": 0
           },
           {
            "bin_start": 2.6,
            "bin_end": 2.8,
            "count": 0
           },
           {
            "bin_start": 2.8,
            "bin_end": 3,
            "count": 0
           },
           {
            "bin_start": 3,
            "bin_end": 3.2,
            "count": 1
           },
           {
            "bin_start": 3.2,
            "bin_end": 3.4000000000000004,
            "count": 0
           },
           {
            "bin_start": 3.4000000000000004,
            "bin_end": 3.6,
            "count": 0
           },
           {
            "bin_start": 3.6,
            "bin_end": 3.8,
            "count": 0
           },
           {
            "bin_start": 3.8,
            "bin_end": 4,
            "count": 1
           }
          ]
         }
        },
        {
         "name": "_deepnote_index_column",
         "dtype": "int64"
        }
       ],
       "rows": [
        {
         "PeriodEnd": "2018-12-31T02:00:00.000000",
         "PeriodStart": "2018-12-31T01:00:00.000000",
         "Temperature": 1.5,
         "CloudOpacity": 0,
         "Radiation": 0,
         "DNI": 0,
         "GHI": 0,
         "Precipitation": 9.3,
         "Humidity": 83,
         "Pressure": 929.6,
         "WindDirection": 31,
         "WindSpeed": 2.1,
         "Zenith": 99,
         "YearPS": 2018,
         "YearPE": 2018,
         "MonthPS": 12,
         "MonthPE": 12,
         "HourPS": 1,
         "HourPE": 2,
         "_deepnote_index_column": 0
        },
        {
         "PeriodEnd": "2018-12-31T03:00:00.000000",
         "PeriodStart": "2018-12-31T02:00:00.000000",
         "Temperature": 1.6,
         "CloudOpacity": 8.1,
         "Radiation": 21,
         "DNI": 16,
         "GHI": 23,
         "Precipitation": 9.1,
         "Humidity": 80,
         "Pressure": 929.9,
         "WindDirection": 31,
         "WindSpeed": 2.2,
         "Zenith": 88,
         "YearPS": 2018,
         "YearPE": 2018,
         "MonthPS": 12,
         "MonthPE": 12,
         "HourPS": 2,
         "HourPE": 3,
         "_deepnote_index_column": 1
        },
        {
         "PeriodEnd": "2018-12-31T04:00:00.000000",
         "PeriodStart": "2018-12-31T03:00:00.000000",
         "Temperature": 3.5,
         "CloudOpacity": 15.4,
         "Radiation": 99,
         "DNI": 178,
         "GHI": 148,
         "Precipitation": 8.9,
         "Humidity": 75,
         "Pressure": 930.1,
         "WindDirection": 28,
         "WindSpeed": 2.2,
         "Zenith": 77,
         "YearPS": 2018,
         "YearPE": 2018,
         "MonthPS": 12,
         "MonthPE": 12,
         "HourPS": 3,
         "HourPE": 4,
         "_deepnote_index_column": 2
        }
       ]
      },
      "text/plain": "            PeriodEnd         PeriodStart  Temperature  CloudOpacity  \\\n0 2018-12-31 02:00:00 2018-12-31 01:00:00          1.5           0.0   \n1 2018-12-31 03:00:00 2018-12-31 02:00:00          1.6           8.1   \n2 2018-12-31 04:00:00 2018-12-31 03:00:00          3.5          15.4   \n\n   Radiation  DNI  GHI  Precipitation  Humidity  Pressure  WindDirection  \\\n0        0.0    0    0            9.3        83     929.6           31.0   \n1       21.0   16   23            9.1        80     929.9           31.0   \n2       99.0  178  148            8.9        75     930.1           28.0   \n\n   WindSpeed  Zenith  YearPS  YearPE  MonthPS  MonthPE  HourPS  HourPE  \n0        2.1      99    2018    2018       12       12       1       2  \n1        2.2      88    2018    2018       12       12       2       3  \n2        2.2      77    2018    2018       12       12       3       4  ",
      "text/html": "<div>\n<style scoped>\n    .dataframe tbody tr th:only-of-type {\n        vertical-align: middle;\n    }\n\n    .dataframe tbody tr th {\n        vertical-align: top;\n    }\n\n    .dataframe thead th {\n        text-align: right;\n    }\n</style>\n<table border=\"1\" class=\"dataframe\">\n  <thead>\n    <tr style=\"text-align: right;\">\n      <th></th>\n      <th>PeriodEnd</th>\n      <th>PeriodStart</th>\n      <th>Temperature</th>\n      <th>CloudOpacity</th>\n      <th>Radiation</th>\n      <th>DNI</th>\n      <th>GHI</th>\n      <th>Precipitation</th>\n      <th>Humidity</th>\n      <th>Pressure</th>\n      <th>WindDirection</th>\n      <th>WindSpeed</th>\n      <th>Zenith</th>\n      <th>YearPS</th>\n      <th>YearPE</th>\n      <th>MonthPS</th>\n      <th>MonthPE</th>\n      <th>HourPS</th>\n      <th>HourPE</th>\n    </tr>\n  </thead>\n  <tbody>\n    <tr>\n      <th>0</th>\n      <td>2018-12-31 02:00:00</td>\n      <td>2018-12-31 01:00:00</td>\n      <td>1.5</td>\n      <td>0.0</td>\n      <td>0.0</td>\n      <td>0</td>\n      <td>0</td>\n      <td>9.3</td>\n      <td>83</td>\n      <td>929.6</td>\n      <td>31.0</td>\n      <td>2.1</td>\n      <td>99</td>\n      <td>2018</td>\n      <td>2018</td>\n      <td>12</td>\n      <td>12</td>\n      <td>1</td>\n      <td>2</td>\n    </tr>\n    <tr>\n      <th>1</th>\n      <td>2018-12-31 03:00:00</td>\n      <td>2018-12-31 02:00:00</td>\n      <td>1.6</td>\n      <td>8.1</td>\n      <td>21.0</td>\n      <td>16</td>\n      <td>23</td>\n      <td>9.1</td>\n      <td>80</td>\n      <td>929.9</td>\n      <td>31.0</td>\n      <td>2.2</td>\n      <td>88</td>\n      <td>2018</td>\n      <td>2018</td>\n      <td>12</td>\n      <td>12</td>\n      <td>2</td>\n      <td>3</td>\n    </tr>\n    <tr>\n      <th>2</th>\n      <td>2018-12-31 04:00:00</td>\n      <td>2018-12-31 03:00:00</td>\n      <td>3.5</td>\n      <td>15.4</td>\n      <td>99.0</td>\n      <td>178</td>\n      <td>148</td>\n      <td>8.9</td>\n      <td>75</td>\n      <td>930.1</td>\n      <td>28.0</td>\n      <td>2.2</td>\n      <td>77</td>\n      <td>2018</td>\n      <td>2018</td>\n      <td>12</td>\n      <td>12</td>\n      <td>3</td>\n      <td>4</td>\n    </tr>\n  </tbody>\n</table>\n</div>"
     },
     "metadata": {}
    }
   ],
   "execution_count": null
  },
  {
   "cell_type": "code",
   "metadata": {
    "tags": [],
    "cell_id": "00011-37f81d2e-ffd3-4ca2-b22a-1d259186a058",
    "deepnote_to_be_reexecuted": false,
    "source_hash": "e1068b2b",
    "execution_start": 1640539267470,
    "execution_millis": 1752,
    "deepnote_output_heights": [
     78.75
    ],
    "deepnote_cell_type": "code"
   },
   "source": "# create a new feature for sunrise using the function below; fill time for sunrise\ndef time_to_sunrise(row):\n    \"\"\"\n    A function for identifying time of sunrise.\n    \"\"\"\n    value = 0\n    if row[\"HourPS\"] == 4 and row[\"HourPE\"] == 5 and row[\"Radiation\"] > 0:\n        value = \"05:00:00\"\n    elif row[\"HourPS\"] == 5 and row[\"HourPE\"] == 6 and row[\"Radiation\"] > 0:\n        value = \"06:00:00\"\n    return value\n\n\ndf[\"Sunrise\"] = df.apply(time_to_sunrise, axis=1)\ndf.head(5)\n",
   "outputs": [
    {
     "output_type": "execute_result",
     "execution_count": 12,
     "data": {
      "application/vnd.deepnote.dataframe.v3+json": {
       "column_count": 20,
       "row_count": 5,
       "columns": [
        {
         "name": "PeriodEnd",
         "dtype": "datetime64[ns]",
         "stats": {
          "unique_count": 5,
          "nan_count": 0,
          "min": "2018-12-31 02:00:00",
          "max": "2018-12-31 06:00:00",
          "histogram": [
           {
            "bin_start": 1546221600000000000,
            "bin_end": 1546223040000000000,
            "count": 1
           },
           {
            "bin_start": 1546223040000000000,
            "bin_end": 1546224480000000000,
            "count": 0
           },
           {
            "bin_start": 1546224480000000000,
            "bin_end": 1546225920000000000,
            "count": 1
           },
           {
            "bin_start": 1546225920000000000,
            "bin_end": 1546227360000000000,
            "count": 0
           },
           {
            "bin_start": 1546227360000000000,
            "bin_end": 1546228800000000000,
            "count": 0
           },
           {
            "bin_start": 1546228800000000000,
            "bin_end": 1546230240000000000,
            "count": 1
           },
           {
            "bin_start": 1546230240000000000,
            "bin_end": 1546231680000000000,
            "count": 0
           },
           {
            "bin_start": 1546231680000000000,
            "bin_end": 1546233120000000000,
            "count": 1
           },
           {
            "bin_start": 1546233120000000000,
            "bin_end": 1546234560000000000,
            "count": 0
           },
           {
            "bin_start": 1546234560000000000,
            "bin_end": 1546236000000000000,
            "count": 1
           }
          ]
         }
        },
        {
         "name": "PeriodStart",
         "dtype": "datetime64[ns]",
         "stats": {
          "unique_count": 5,
          "nan_count": 0,
          "min": "2018-12-31 01:00:00",
          "max": "2018-12-31 05:00:00",
          "histogram": [
           {
            "bin_start": 1546218000000000000,
            "bin_end": 1546219440000000000,
            "count": 1
           },
           {
            "bin_start": 1546219440000000000,
            "bin_end": 1546220880000000000,
            "count": 0
           },
           {
            "bin_start": 1546220880000000000,
            "bin_end": 1546222320000000000,
            "count": 1
           },
           {
            "bin_start": 1546222320000000000,
            "bin_end": 1546223760000000000,
            "count": 0
           },
           {
            "bin_start": 1546223760000000000,
            "bin_end": 1546225200000000000,
            "count": 0
           },
           {
            "bin_start": 1546225200000000000,
            "bin_end": 1546226640000000000,
            "count": 1
           },
           {
            "bin_start": 1546226640000000000,
            "bin_end": 1546228080000000000,
            "count": 0
           },
           {
            "bin_start": 1546228080000000000,
            "bin_end": 1546229520000000000,
            "count": 1
           },
           {
            "bin_start": 1546229520000000000,
            "bin_end": 1546230960000000000,
            "count": 0
           },
           {
            "bin_start": 1546230960000000000,
            "bin_end": 1546232400000000000,
            "count": 1
           }
          ]
         }
        },
        {
         "name": "Temperature",
         "dtype": "float64",
         "stats": {
          "unique_count": 5,
          "nan_count": 0,
          "min": "1.5",
          "max": "10.7",
          "histogram": [
           {
            "bin_start": 1.5,
            "bin_end": 2.42,
            "count": 2
           },
           {
            "bin_start": 2.42,
            "bin_end": 3.34,
            "count": 0
           },
           {
            "bin_start": 3.34,
            "bin_end": 4.26,
            "count": 1
           },
           {
            "bin_start": 4.26,
            "bin_end": 5.18,
            "count": 0
           },
           {
            "bin_start": 5.18,
            "bin_end": 6.1,
            "count": 0
           },
           {
            "bin_start": 6.1,
            "bin_end": 7.02,
            "count": 0
           },
           {
            "bin_start": 7.02,
            "bin_end": 7.9399999999999995,
            "count": 1
           },
           {
            "bin_start": 7.9399999999999995,
            "bin_end": 8.86,
            "count": 0
           },
           {
            "bin_start": 8.86,
            "bin_end": 9.78,
            "count": 0
           },
           {
            "bin_start": 9.78,
            "bin_end": 10.7,
            "count": 1
           }
          ]
         }
        },
        {
         "name": "CloudOpacity",
         "dtype": "float64",
         "stats": {
          "unique_count": 3,
          "nan_count": 0,
          "min": "0.0",
          "max": "15.4",
          "histogram": [
           {
            "bin_start": 0,
            "bin_end": 1.54,
            "count": 3
           },
           {
            "bin_start": 1.54,
            "bin_end": 3.08,
            "count": 0
           },
           {
            "bin_start": 3.08,
            "bin_end": 4.62,
            "count": 0
           },
           {
            "bin_start": 4.62,
            "bin_end": 6.16,
            "count": 0
           },
           {
            "bin_start": 6.16,
            "bin_end": 7.7,
            "count": 0
           },
           {
            "bin_start": 7.7,
            "bin_end": 9.24,
            "count": 1
           },
           {
            "bin_start": 9.24,
            "bin_end": 10.780000000000001,
            "count": 0
           },
           {
            "bin_start": 10.780000000000001,
            "bin_end": 12.32,
            "count": 0
           },
           {
            "bin_start": 12.32,
            "bin_end": 13.86,
            "count": 0
           },
           {
            "bin_start": 13.86,
            "bin_end": 15.4,
            "count": 1
           }
          ]
         }
        },
        {
         "name": "Radiation",
         "dtype": "float64",
         "stats": {
          "unique_count": 5,
          "nan_count": 0,
          "min": "0.0",
          "max": "129.0",
          "histogram": [
           {
            "bin_start": 0,
            "bin_end": 12.9,
            "count": 1
           },
           {
            "bin_start": 12.9,
            "bin_end": 25.8,
            "count": 1
           },
           {
            "bin_start": 25.8,
            "bin_end": 38.7,
            "count": 0
           },
           {
            "bin_start": 38.7,
            "bin_end": 51.6,
            "count": 0
           },
           {
            "bin_start": 51.6,
            "bin_end": 64.5,
            "count": 0
           },
           {
            "bin_start": 64.5,
            "bin_end": 77.4,
            "count": 0
           },
           {
            "bin_start": 77.4,
            "bin_end": 90.3,
            "count": 0
           },
           {
            "bin_start": 90.3,
            "bin_end": 103.2,
            "count": 1
           },
           {
            "bin_start": 103.2,
            "bin_end": 116.10000000000001,
            "count": 1
           },
           {
            "bin_start": 116.10000000000001,
            "bin_end": 129,
            "count": 1
           }
          ]
         }
        },
        {
         "name": "DNI",
         "dtype": "int64",
         "stats": {
          "unique_count": 5,
          "nan_count": 0,
          "min": "0",
          "max": "707",
          "histogram": [
           {
            "bin_start": 0,
            "bin_end": 70.7,
            "count": 2
           },
           {
            "bin_start": 70.7,
            "bin_end": 141.4,
            "count": 0
           },
           {
            "bin_start": 141.4,
            "bin_end": 212.10000000000002,
            "count": 1
           },
           {
            "bin_start": 212.10000000000002,
            "bin_end": 282.8,
            "count": 0
           },
           {
            "bin_start": 282.8,
            "bin_end": 353.5,
            "count": 0
           },
           {
            "bin_start": 353.5,
            "bin_end": 424.20000000000005,
            "count": 0
           },
           {
            "bin_start": 424.20000000000005,
            "bin_end": 494.90000000000003,
            "count": 0
           },
           {
            "bin_start": 494.90000000000003,
            "bin_end": 565.6,
            "count": 0
           },
           {
            "bin_start": 565.6,
            "bin_end": 636.3000000000001,
            "count": 1
           },
           {
            "bin_start": 636.3000000000001,
            "bin_end": 707,
            "count": 1
           }
          ]
         }
        },
        {
         "name": "GHI",
         "dtype": "int64",
         "stats": {
          "unique_count": 5,
          "nan_count": 0,
          "min": "0",
          "max": "464",
          "histogram": [
           {
            "bin_start": 0,
            "bin_end": 46.4,
            "count": 2
           },
           {
            "bin_start": 46.4,
            "bin_end": 92.8,
            "count": 0
           },
           {
            "bin_start": 92.8,
            "bin_end": 139.2,
            "count": 0
           },
           {
            "bin_start": 139.2,
            "bin_end": 185.6,
            "count": 1
           },
           {
            "bin_start": 185.6,
            "bin_end": 232,
            "count": 0
           },
           {
            "bin_start": 232,
            "bin_end": 278.4,
            "count": 0
           },
           {
            "bin_start": 278.4,
            "bin_end": 324.8,
            "count": 0
           },
           {
            "bin_start": 324.8,
            "bin_end": 371.2,
            "count": 1
           },
           {
            "bin_start": 371.2,
            "bin_end": 417.59999999999997,
            "count": 0
           },
           {
            "bin_start": 417.59999999999997,
            "bin_end": 464,
            "count": 1
           }
          ]
         }
        },
        {
         "name": "Precipitation",
         "dtype": "float64",
         "stats": {
          "unique_count": 4,
          "nan_count": 0,
          "min": "8.8",
          "max": "9.3",
          "histogram": [
           {
            "bin_start": 8.8,
            "bin_end": 8.850000000000001,
            "count": 1
           },
           {
            "bin_start": 8.850000000000001,
            "bin_end": 8.9,
            "count": 0
           },
           {
            "bin_start": 8.9,
            "bin_end": 8.950000000000001,
            "count": 2
           },
           {
            "bin_start": 8.950000000000001,
            "bin_end": 9,
            "count": 0
           },
           {
            "bin_start": 9,
            "bin_end": 9.05,
            "count": 0
           },
           {
            "bin_start": 9.05,
            "bin_end": 9.100000000000001,
            "count": 1
           },
           {
            "bin_start": 9.100000000000001,
            "bin_end": 9.15,
            "count": 0
           },
           {
            "bin_start": 9.15,
            "bin_end": 9.200000000000001,
            "count": 0
           },
           {
            "bin_start": 9.200000000000001,
            "bin_end": 9.25,
            "count": 0
           },
           {
            "bin_start": 9.25,
            "bin_end": 9.3,
            "count": 1
           }
          ]
         }
        },
        {
         "name": "Humidity",
         "dtype": "int64",
         "stats": {
          "unique_count": 5,
          "nan_count": 0,
          "min": "62",
          "max": "83",
          "histogram": [
           {
            "bin_start": 62,
            "bin_end": 64.1,
            "count": 1
           },
           {
            "bin_start": 64.1,
            "bin_end": 66.2,
            "count": 0
           },
           {
            "bin_start": 66.2,
            "bin_end": 68.3,
            "count": 1
           },
           {
            "bin_start": 68.3,
            "bin_end": 70.4,
            "count": 0
           },
           {
            "bin_start": 70.4,
            "bin_end": 72.5,
            "count": 0
           },
           {
            "bin_start": 72.5,
            "bin_end": 74.6,
            "count": 0
           },
           {
            "bin_start": 74.6,
            "bin_end": 76.7,
            "count": 1
           },
           {
            "bin_start": 76.7,
            "bin_end": 78.8,
            "count": 0
           },
           {
            "bin_start": 78.8,
            "bin_end": 80.9,
            "count": 1
           },
           {
            "bin_start": 80.9,
            "bin_end": 83,
            "count": 1
           }
          ]
         }
        },
        {
         "name": "Pressure",
         "dtype": "float64",
         "stats": {
          "unique_count": 5,
          "nan_count": 0,
          "min": "929.6",
          "max": "930.3",
          "histogram": [
           {
            "bin_start": 929.6,
            "bin_end": 929.6700000000001,
            "count": 1
           },
           {
            "bin_start": 929.6700000000001,
            "bin_end": 929.74,
            "count": 0
           },
           {
            "bin_start": 929.74,
            "bin_end": 929.81,
            "count": 0
           },
           {
            "bin_start": 929.81,
            "bin_end": 929.88,
            "count": 0
           },
           {
            "bin_start": 929.88,
            "bin_end": 929.95,
            "count": 1
           },
           {
            "bin_start": 929.95,
            "bin_end": 930.02,
            "count": 0
           },
           {
            "bin_start": 930.02,
            "bin_end": 930.0899999999999,
            "count": 0
           },
           {
            "bin_start": 930.0899999999999,
            "bin_end": 930.16,
            "count": 1
           },
           {
            "bin_start": 930.16,
            "bin_end": 930.23,
            "count": 1
           },
           {
            "bin_start": 930.23,
            "bin_end": 930.3,
            "count": 1
           }
          ]
         }
        },
        {
         "name": "WindDirection",
         "dtype": "float64",
         "stats": {
          "unique_count": 4,
          "nan_count": 0,
          "min": "15.0",
          "max": "31.0",
          "histogram": [
           {
            "bin_start": 15,
            "bin_end": 16.6,
            "count": 1
           },
           {
            "bin_start": 16.6,
            "bin_end": 18.2,
            "count": 0
           },
           {
            "bin_start": 18.2,
            "bin_end": 19.8,
            "count": 0
           },
           {
            "bin_start": 19.8,
            "bin_end": 21.4,
            "count": 0
           },
           {
            "bin_start": 21.4,
            "bin_end": 23,
            "count": 0
           },
           {
            "bin_start": 23,
            "bin_end": 24.6,
            "count": 1
           },
           {
            "bin_start": 24.6,
            "bin_end": 26.200000000000003,
            "count": 0
           },
           {
            "bin_start": 26.200000000000003,
            "bin_end": 27.8,
            "count": 0
           },
           {
            "bin_start": 27.8,
            "bin_end": 29.4,
            "count": 1
           },
           {
            "bin_start": 29.4,
            "bin_end": 31,
            "count": 2
           }
          ]
         }
        },
        {
         "name": "WindSpeed",
         "dtype": "float64",
         "stats": {
          "unique_count": 4,
          "nan_count": 0,
          "min": "1.8",
          "max": "2.2",
          "histogram": [
           {
            "bin_start": 1.8,
            "bin_end": 1.84,
            "count": 1
           },
           {
            "bin_start": 1.84,
            "bin_end": 1.8800000000000001,
            "count": 0
           },
           {
            "bin_start": 1.8800000000000001,
            "bin_end": 1.9200000000000002,
            "count": 0
           },
           {
            "bin_start": 1.9200000000000002,
            "bin_end": 1.9600000000000002,
            "count": 0
           },
           {
            "bin_start": 1.9600000000000002,
            "bin_end": 2,
            "count": 0
           },
           {
            "bin_start": 2,
            "bin_end": 2.04,
            "count": 1
           },
           {
            "bin_start": 2.04,
            "bin_end": 2.08,
            "count": 0
           },
           {
            "bin_start": 2.08,
            "bin_end": 2.12,
            "count": 1
           },
           {
            "bin_start": 2.12,
            "bin_end": 2.16,
            "count": 0
           },
           {
            "bin_start": 2.16,
            "bin_end": 2.2,
            "count": 2
           }
          ]
         }
        },
        {
         "name": "Zenith",
         "dtype": "int64",
         "stats": {
          "unique_count": 5,
          "nan_count": 0,
          "min": "62",
          "max": "99",
          "histogram": [
           {
            "bin_start": 62,
            "bin_end": 65.7,
            "count": 1
           },
           {
            "bin_start": 65.7,
            "bin_end": 69.4,
            "count": 1
           },
           {
            "bin_start": 69.4,
            "bin_end": 73.1,
            "count": 0
           },
           {
            "bin_start": 73.1,
            "bin_end": 76.8,
            "count": 0
           },
           {
            "bin_start": 76.8,
            "bin_end": 80.5,
            "count": 1
           },
           {
            "bin_start": 80.5,
            "bin_end": 84.2,
            "count": 0
           },
           {
            "bin_start": 84.2,
            "bin_end": 87.9,
            "count": 0
           },
           {
            "bin_start": 87.9,
            "bin_end": 91.6,
            "count": 1
           },
           {
            "bin_start": 91.6,
            "bin_end": 95.30000000000001,
            "count": 0
           },
           {
            "bin_start": 95.30000000000001,
            "bin_end": 99,
            "count": 1
           }
          ]
         }
        },
        {
         "name": "YearPS",
         "dtype": "int64",
         "stats": {
          "unique_count": 1,
          "nan_count": 0,
          "min": "2018",
          "max": "2018",
          "histogram": [
           {
            "bin_start": 2017.5,
            "bin_end": 2017.6,
            "count": 0
           },
           {
            "bin_start": 2017.6,
            "bin_end": 2017.7,
            "count": 0
           },
           {
            "bin_start": 2017.7,
            "bin_end": 2017.8,
            "count": 0
           },
           {
            "bin_start": 2017.8,
            "bin_end": 2017.9,
            "count": 0
           },
           {
            "bin_start": 2017.9,
            "bin_end": 2018,
            "count": 0
           },
           {
            "bin_start": 2018,
            "bin_end": 2018.1,
            "count": 5
           },
           {
            "bin_start": 2018.1,
            "bin_end": 2018.2,
            "count": 0
           },
           {
            "bin_start": 2018.2,
            "bin_end": 2018.3,
            "count": 0
           },
           {
            "bin_start": 2018.3,
            "bin_end": 2018.4,
            "count": 0
           },
           {
            "bin_start": 2018.4,
            "bin_end": 2018.5,
            "count": 0
           }
          ]
         }
        },
        {
         "name": "YearPE",
         "dtype": "int64",
         "stats": {
          "unique_count": 1,
          "nan_count": 0,
          "min": "2018",
          "max": "2018",
          "histogram": [
           {
            "bin_start": 2017.5,
            "bin_end": 2017.6,
            "count": 0
           },
           {
            "bin_start": 2017.6,
            "bin_end": 2017.7,
            "count": 0
           },
           {
            "bin_start": 2017.7,
            "bin_end": 2017.8,
            "count": 0
           },
           {
            "bin_start": 2017.8,
            "bin_end": 2017.9,
            "count": 0
           },
           {
            "bin_start": 2017.9,
            "bin_end": 2018,
            "count": 0
           },
           {
            "bin_start": 2018,
            "bin_end": 2018.1,
            "count": 5
           },
           {
            "bin_start": 2018.1,
            "bin_end": 2018.2,
            "count": 0
           },
           {
            "bin_start": 2018.2,
            "bin_end": 2018.3,
            "count": 0
           },
           {
            "bin_start": 2018.3,
            "bin_end": 2018.4,
            "count": 0
           },
           {
            "bin_start": 2018.4,
            "bin_end": 2018.5,
            "count": 0
           }
          ]
         }
        },
        {
         "name": "MonthPS",
         "dtype": "int64",
         "stats": {
          "unique_count": 1,
          "nan_count": 0,
          "min": "12",
          "max": "12",
          "histogram": [
           {
            "bin_start": 11.5,
            "bin_end": 11.6,
            "count": 0
           },
           {
            "bin_start": 11.6,
            "bin_end": 11.7,
            "count": 0
           },
           {
            "bin_start": 11.7,
            "bin_end": 11.8,
            "count": 0
           },
           {
            "bin_start": 11.8,
            "bin_end": 11.9,
            "count": 0
           },
           {
            "bin_start": 11.9,
            "bin_end": 12,
            "count": 0
           },
           {
            "bin_start": 12,
            "bin_end": 12.1,
            "count": 5
           },
           {
            "bin_start": 12.1,
            "bin_end": 12.2,
            "count": 0
           },
           {
            "bin_start": 12.2,
            "bin_end": 12.3,
            "count": 0
           },
           {
            "bin_start": 12.3,
            "bin_end": 12.4,
            "count": 0
           },
           {
            "bin_start": 12.4,
            "bin_end": 12.5,
            "count": 0
           }
          ]
         }
        },
        {
         "name": "MonthPE",
         "dtype": "int64",
         "stats": {
          "unique_count": 1,
          "nan_count": 0,
          "min": "12",
          "max": "12",
          "histogram": [
           {
            "bin_start": 11.5,
            "bin_end": 11.6,
            "count": 0
           },
           {
            "bin_start": 11.6,
            "bin_end": 11.7,
            "count": 0
           },
           {
            "bin_start": 11.7,
            "bin_end": 11.8,
            "count": 0
           },
           {
            "bin_start": 11.8,
            "bin_end": 11.9,
            "count": 0
           },
           {
            "bin_start": 11.9,
            "bin_end": 12,
            "count": 0
           },
           {
            "bin_start": 12,
            "bin_end": 12.1,
            "count": 5
           },
           {
            "bin_start": 12.1,
            "bin_end": 12.2,
            "count": 0
           },
           {
            "bin_start": 12.2,
            "bin_end": 12.3,
            "count": 0
           },
           {
            "bin_start": 12.3,
            "bin_end": 12.4,
            "count": 0
           },
           {
            "bin_start": 12.4,
            "bin_end": 12.5,
            "count": 0
           }
          ]
         }
        },
        {
         "name": "HourPS",
         "dtype": "int64",
         "stats": {
          "unique_count": 5,
          "nan_count": 0,
          "min": "1",
          "max": "5",
          "histogram": [
           {
            "bin_start": 1,
            "bin_end": 1.4,
            "count": 1
           },
           {
            "bin_start": 1.4,
            "bin_end": 1.8,
            "count": 0
           },
           {
            "bin_start": 1.8,
            "bin_end": 2.2,
            "count": 1
           },
           {
            "bin_start": 2.2,
            "bin_end": 2.6,
            "count": 0
           },
           {
            "bin_start": 2.6,
            "bin_end": 3,
            "count": 0
           },
           {
            "bin_start": 3,
            "bin_end": 3.4000000000000004,
            "count": 1
           },
           {
            "bin_start": 3.4000000000000004,
            "bin_end": 3.8000000000000003,
            "count": 0
           },
           {
            "bin_start": 3.8000000000000003,
            "bin_end": 4.2,
            "count": 1
           },
           {
            "bin_start": 4.2,
            "bin_end": 4.6,
            "count": 0
           },
           {
            "bin_start": 4.6,
            "bin_end": 5,
            "count": 1
           }
          ]
         }
        },
        {
         "name": "HourPE",
         "dtype": "int64",
         "stats": {
          "unique_count": 5,
          "nan_count": 0,
          "min": "2",
          "max": "6",
          "histogram": [
           {
            "bin_start": 2,
            "bin_end": 2.4,
            "count": 1
           },
           {
            "bin_start": 2.4,
            "bin_end": 2.8,
            "count": 0
           },
           {
            "bin_start": 2.8,
            "bin_end": 3.2,
            "count": 1
           },
           {
            "bin_start": 3.2,
            "bin_end": 3.6,
            "count": 0
           },
           {
            "bin_start": 3.6,
            "bin_end": 4,
            "count": 0
           },
           {
            "bin_start": 4,
            "bin_end": 4.4,
            "count": 1
           },
           {
            "bin_start": 4.4,
            "bin_end": 4.800000000000001,
            "count": 0
           },
           {
            "bin_start": 4.800000000000001,
            "bin_end": 5.2,
            "count": 1
           },
           {
            "bin_start": 5.2,
            "bin_end": 5.6,
            "count": 0
           },
           {
            "bin_start": 5.6,
            "bin_end": 6,
            "count": 1
           }
          ]
         }
        },
        {
         "name": "Sunrise",
         "dtype": "object",
         "stats": {
          "unique_count": 3,
          "nan_count": 0,
          "categories": [
           {
            "name": "0",
            "count": 3
           },
           {
            "name": "05:00:00",
            "count": 1
           },
           {
            "name": "06:00:00",
            "count": 1
           }
          ]
         }
        },
        {
         "name": "_deepnote_index_column",
         "dtype": "int64"
        }
       ],
       "rows": [
        {
         "PeriodEnd": "2018-12-31T02:00:00.000000",
         "PeriodStart": "2018-12-31T01:00:00.000000",
         "Temperature": 1.5,
         "CloudOpacity": 0,
         "Radiation": 0,
         "DNI": 0,
         "GHI": 0,
         "Precipitation": 9.3,
         "Humidity": 83,
         "Pressure": 929.6,
         "WindDirection": 31,
         "WindSpeed": 2.1,
         "Zenith": 99,
         "YearPS": 2018,
         "YearPE": 2018,
         "MonthPS": 12,
         "MonthPE": 12,
         "HourPS": 1,
         "HourPE": 2,
         "Sunrise": "0",
         "_deepnote_index_column": 0
        },
        {
         "PeriodEnd": "2018-12-31T03:00:00.000000",
         "PeriodStart": "2018-12-31T02:00:00.000000",
         "Temperature": 1.6,
         "CloudOpacity": 8.1,
         "Radiation": 21,
         "DNI": 16,
         "GHI": 23,
         "Precipitation": 9.1,
         "Humidity": 80,
         "Pressure": 929.9,
         "WindDirection": 31,
         "WindSpeed": 2.2,
         "Zenith": 88,
         "YearPS": 2018,
         "YearPE": 2018,
         "MonthPS": 12,
         "MonthPE": 12,
         "HourPS": 2,
         "HourPE": 3,
         "Sunrise": "0",
         "_deepnote_index_column": 1
        },
        {
         "PeriodEnd": "2018-12-31T04:00:00.000000",
         "PeriodStart": "2018-12-31T03:00:00.000000",
         "Temperature": 3.5,
         "CloudOpacity": 15.4,
         "Radiation": 99,
         "DNI": 178,
         "GHI": 148,
         "Precipitation": 8.9,
         "Humidity": 75,
         "Pressure": 930.1,
         "WindDirection": 28,
         "WindSpeed": 2.2,
         "Zenith": 77,
         "YearPS": 2018,
         "YearPE": 2018,
         "MonthPS": 12,
         "MonthPE": 12,
         "HourPS": 3,
         "HourPE": 4,
         "Sunrise": "0",
         "_deepnote_index_column": 2
        },
        {
         "PeriodEnd": "2018-12-31T05:00:00.000000",
         "PeriodStart": "2018-12-31T04:00:00.000000",
         "Temperature": 7.1,
         "CloudOpacity": 0,
         "Radiation": 112,
         "DNI": 599,
         "GHI": 333,
         "Precipitation": 8.9,
         "Humidity": 68,
         "Pressure": 930.2,
         "WindDirection": 23,
         "WindSpeed": 2,
         "Zenith": 68,
         "YearPS": 2018,
         "YearPE": 2018,
         "MonthPS": 12,
         "MonthPE": 12,
         "HourPS": 4,
         "HourPE": 5,
         "Sunrise": "05:00:00",
         "_deepnote_index_column": 3
        },
        {
         "PeriodEnd": "2018-12-31T06:00:00.000000",
         "PeriodStart": "2018-12-31T05:00:00.000000",
         "Temperature": 10.7,
         "CloudOpacity": 0,
         "Radiation": 129,
         "DNI": 707,
         "GHI": 464,
         "Precipitation": 8.8,
         "Humidity": 62,
         "Pressure": 930.3,
         "WindDirection": 15,
         "WindSpeed": 1.8,
         "Zenith": 62,
         "YearPS": 2018,
         "YearPE": 2018,
         "MonthPS": 12,
         "MonthPE": 12,
         "HourPS": 5,
         "HourPE": 6,
         "Sunrise": "06:00:00",
         "_deepnote_index_column": 4
        }
       ]
      },
      "text/plain": "            PeriodEnd         PeriodStart  Temperature  CloudOpacity  \\\n0 2018-12-31 02:00:00 2018-12-31 01:00:00          1.5           0.0   \n1 2018-12-31 03:00:00 2018-12-31 02:00:00          1.6           8.1   \n2 2018-12-31 04:00:00 2018-12-31 03:00:00          3.5          15.4   \n3 2018-12-31 05:00:00 2018-12-31 04:00:00          7.1           0.0   \n4 2018-12-31 06:00:00 2018-12-31 05:00:00         10.7           0.0   \n\n   Radiation  DNI  GHI  Precipitation  Humidity  Pressure  WindDirection  \\\n0        0.0    0    0            9.3        83     929.6           31.0   \n1       21.0   16   23            9.1        80     929.9           31.0   \n2       99.0  178  148            8.9        75     930.1           28.0   \n3      112.0  599  333            8.9        68     930.2           23.0   \n4      129.0  707  464            8.8        62     930.3           15.0   \n\n   WindSpeed  Zenith  YearPS  YearPE  MonthPS  MonthPE  HourPS  HourPE  \\\n0        2.1      99    2018    2018       12       12       1       2   \n1        2.2      88    2018    2018       12       12       2       3   \n2        2.2      77    2018    2018       12       12       3       4   \n3        2.0      68    2018    2018       12       12       4       5   \n4        1.8      62    2018    2018       12       12       5       6   \n\n    Sunrise  \n0         0  \n1         0  \n2         0  \n3  05:00:00  \n4  06:00:00  ",
      "text/html": "<div>\n<style scoped>\n    .dataframe tbody tr th:only-of-type {\n        vertical-align: middle;\n    }\n\n    .dataframe tbody tr th {\n        vertical-align: top;\n    }\n\n    .dataframe thead th {\n        text-align: right;\n    }\n</style>\n<table border=\"1\" class=\"dataframe\">\n  <thead>\n    <tr style=\"text-align: right;\">\n      <th></th>\n      <th>PeriodEnd</th>\n      <th>PeriodStart</th>\n      <th>Temperature</th>\n      <th>CloudOpacity</th>\n      <th>Radiation</th>\n      <th>DNI</th>\n      <th>GHI</th>\n      <th>Precipitation</th>\n      <th>Humidity</th>\n      <th>Pressure</th>\n      <th>WindDirection</th>\n      <th>WindSpeed</th>\n      <th>Zenith</th>\n      <th>YearPS</th>\n      <th>YearPE</th>\n      <th>MonthPS</th>\n      <th>MonthPE</th>\n      <th>HourPS</th>\n      <th>HourPE</th>\n      <th>Sunrise</th>\n    </tr>\n  </thead>\n  <tbody>\n    <tr>\n      <th>0</th>\n      <td>2018-12-31 02:00:00</td>\n      <td>2018-12-31 01:00:00</td>\n      <td>1.5</td>\n      <td>0.0</td>\n      <td>0.0</td>\n      <td>0</td>\n      <td>0</td>\n      <td>9.3</td>\n      <td>83</td>\n      <td>929.6</td>\n      <td>31.0</td>\n      <td>2.1</td>\n      <td>99</td>\n      <td>2018</td>\n      <td>2018</td>\n      <td>12</td>\n      <td>12</td>\n      <td>1</td>\n      <td>2</td>\n      <td>0</td>\n    </tr>\n    <tr>\n      <th>1</th>\n      <td>2018-12-31 03:00:00</td>\n      <td>2018-12-31 02:00:00</td>\n      <td>1.6</td>\n      <td>8.1</td>\n      <td>21.0</td>\n      <td>16</td>\n      <td>23</td>\n      <td>9.1</td>\n      <td>80</td>\n      <td>929.9</td>\n      <td>31.0</td>\n      <td>2.2</td>\n      <td>88</td>\n      <td>2018</td>\n      <td>2018</td>\n      <td>12</td>\n      <td>12</td>\n      <td>2</td>\n      <td>3</td>\n      <td>0</td>\n    </tr>\n    <tr>\n      <th>2</th>\n      <td>2018-12-31 04:00:00</td>\n      <td>2018-12-31 03:00:00</td>\n      <td>3.5</td>\n      <td>15.4</td>\n      <td>99.0</td>\n      <td>178</td>\n      <td>148</td>\n      <td>8.9</td>\n      <td>75</td>\n      <td>930.1</td>\n      <td>28.0</td>\n      <td>2.2</td>\n      <td>77</td>\n      <td>2018</td>\n      <td>2018</td>\n      <td>12</td>\n      <td>12</td>\n      <td>3</td>\n      <td>4</td>\n      <td>0</td>\n    </tr>\n    <tr>\n      <th>3</th>\n      <td>2018-12-31 05:00:00</td>\n      <td>2018-12-31 04:00:00</td>\n      <td>7.1</td>\n      <td>0.0</td>\n      <td>112.0</td>\n      <td>599</td>\n      <td>333</td>\n      <td>8.9</td>\n      <td>68</td>\n      <td>930.2</td>\n      <td>23.0</td>\n      <td>2.0</td>\n      <td>68</td>\n      <td>2018</td>\n      <td>2018</td>\n      <td>12</td>\n      <td>12</td>\n      <td>4</td>\n      <td>5</td>\n      <td>05:00:00</td>\n    </tr>\n    <tr>\n      <th>4</th>\n      <td>2018-12-31 06:00:00</td>\n      <td>2018-12-31 05:00:00</td>\n      <td>10.7</td>\n      <td>0.0</td>\n      <td>129.0</td>\n      <td>707</td>\n      <td>464</td>\n      <td>8.8</td>\n      <td>62</td>\n      <td>930.3</td>\n      <td>15.0</td>\n      <td>1.8</td>\n      <td>62</td>\n      <td>2018</td>\n      <td>2018</td>\n      <td>12</td>\n      <td>12</td>\n      <td>5</td>\n      <td>6</td>\n      <td>06:00:00</td>\n    </tr>\n  </tbody>\n</table>\n</div>"
     },
     "metadata": {}
    }
   ],
   "execution_count": null
  },
  {
   "cell_type": "code",
   "metadata": {
    "tags": [],
    "cell_id": "00012-184fe63d-1831-4777-bc15-9c7911ac30d8",
    "deepnote_to_be_reexecuted": false,
    "source_hash": "5ee9aeef",
    "execution_start": 1640539269234,
    "execution_millis": 1649,
    "deepnote_cell_type": "code"
   },
   "source": "# create a new feature for sunset using the function below; fill time for sunset\ndef time_to_sunset(row):\n    \"\"\"\n    A function for identifying time of sunset.\n    \"\"\"\n    value = 0\n    if row[\"HourPS\"] == 17 and row[\"HourPE\"] == 18 and row[\"Radiation\"] > 0:\n        value = \"18:00:00\"\n    elif row[\"HourPS\"] == 18 and row[\"HourPE\"] == 19 and row[\"Radiation\"] > 0:\n        value = \"19:00:00\"\n    return value\n\n\n# create a new column using the function above\ndf[\"Sunset\"] = df.apply(time_to_sunset, axis=1)\ndf.head(5)\n",
   "outputs": [
    {
     "output_type": "execute_result",
     "execution_count": 13,
     "data": {
      "application/vnd.deepnote.dataframe.v3+json": {
       "column_count": 21,
       "row_count": 5,
       "columns": [
        {
         "name": "PeriodEnd",
         "dtype": "datetime64[ns]",
         "stats": {
          "unique_count": 5,
          "nan_count": 0,
          "min": "2018-12-31 02:00:00",
          "max": "2018-12-31 06:00:00",
          "histogram": [
           {
            "bin_start": 1546221600000000000,
            "bin_end": 1546223040000000000,
            "count": 1
           },
           {
            "bin_start": 1546223040000000000,
            "bin_end": 1546224480000000000,
            "count": 0
           },
           {
            "bin_start": 1546224480000000000,
            "bin_end": 1546225920000000000,
            "count": 1
           },
           {
            "bin_start": 1546225920000000000,
            "bin_end": 1546227360000000000,
            "count": 0
           },
           {
            "bin_start": 1546227360000000000,
            "bin_end": 1546228800000000000,
            "count": 0
           },
           {
            "bin_start": 1546228800000000000,
            "bin_end": 1546230240000000000,
            "count": 1
           },
           {
            "bin_start": 1546230240000000000,
            "bin_end": 1546231680000000000,
            "count": 0
           },
           {
            "bin_start": 1546231680000000000,
            "bin_end": 1546233120000000000,
            "count": 1
           },
           {
            "bin_start": 1546233120000000000,
            "bin_end": 1546234560000000000,
            "count": 0
           },
           {
            "bin_start": 1546234560000000000,
            "bin_end": 1546236000000000000,
            "count": 1
           }
          ]
         }
        },
        {
         "name": "PeriodStart",
         "dtype": "datetime64[ns]",
         "stats": {
          "unique_count": 5,
          "nan_count": 0,
          "min": "2018-12-31 01:00:00",
          "max": "2018-12-31 05:00:00",
          "histogram": [
           {
            "bin_start": 1546218000000000000,
            "bin_end": 1546219440000000000,
            "count": 1
           },
           {
            "bin_start": 1546219440000000000,
            "bin_end": 1546220880000000000,
            "count": 0
           },
           {
            "bin_start": 1546220880000000000,
            "bin_end": 1546222320000000000,
            "count": 1
           },
           {
            "bin_start": 1546222320000000000,
            "bin_end": 1546223760000000000,
            "count": 0
           },
           {
            "bin_start": 1546223760000000000,
            "bin_end": 1546225200000000000,
            "count": 0
           },
           {
            "bin_start": 1546225200000000000,
            "bin_end": 1546226640000000000,
            "count": 1
           },
           {
            "bin_start": 1546226640000000000,
            "bin_end": 1546228080000000000,
            "count": 0
           },
           {
            "bin_start": 1546228080000000000,
            "bin_end": 1546229520000000000,
            "count": 1
           },
           {
            "bin_start": 1546229520000000000,
            "bin_end": 1546230960000000000,
            "count": 0
           },
           {
            "bin_start": 1546230960000000000,
            "bin_end": 1546232400000000000,
            "count": 1
           }
          ]
         }
        },
        {
         "name": "Temperature",
         "dtype": "float64",
         "stats": {
          "unique_count": 5,
          "nan_count": 0,
          "min": "1.5",
          "max": "10.7",
          "histogram": [
           {
            "bin_start": 1.5,
            "bin_end": 2.42,
            "count": 2
           },
           {
            "bin_start": 2.42,
            "bin_end": 3.34,
            "count": 0
           },
           {
            "bin_start": 3.34,
            "bin_end": 4.26,
            "count": 1
           },
           {
            "bin_start": 4.26,
            "bin_end": 5.18,
            "count": 0
           },
           {
            "bin_start": 5.18,
            "bin_end": 6.1,
            "count": 0
           },
           {
            "bin_start": 6.1,
            "bin_end": 7.02,
            "count": 0
           },
           {
            "bin_start": 7.02,
            "bin_end": 7.9399999999999995,
            "count": 1
           },
           {
            "bin_start": 7.9399999999999995,
            "bin_end": 8.86,
            "count": 0
           },
           {
            "bin_start": 8.86,
            "bin_end": 9.78,
            "count": 0
           },
           {
            "bin_start": 9.78,
            "bin_end": 10.7,
            "count": 1
           }
          ]
         }
        },
        {
         "name": "CloudOpacity",
         "dtype": "float64",
         "stats": {
          "unique_count": 3,
          "nan_count": 0,
          "min": "0.0",
          "max": "15.4",
          "histogram": [
           {
            "bin_start": 0,
            "bin_end": 1.54,
            "count": 3
           },
           {
            "bin_start": 1.54,
            "bin_end": 3.08,
            "count": 0
           },
           {
            "bin_start": 3.08,
            "bin_end": 4.62,
            "count": 0
           },
           {
            "bin_start": 4.62,
            "bin_end": 6.16,
            "count": 0
           },
           {
            "bin_start": 6.16,
            "bin_end": 7.7,
            "count": 0
           },
           {
            "bin_start": 7.7,
            "bin_end": 9.24,
            "count": 1
           },
           {
            "bin_start": 9.24,
            "bin_end": 10.780000000000001,
            "count": 0
           },
           {
            "bin_start": 10.780000000000001,
            "bin_end": 12.32,
            "count": 0
           },
           {
            "bin_start": 12.32,
            "bin_end": 13.86,
            "count": 0
           },
           {
            "bin_start": 13.86,
            "bin_end": 15.4,
            "count": 1
           }
          ]
         }
        },
        {
         "name": "Radiation",
         "dtype": "float64",
         "stats": {
          "unique_count": 5,
          "nan_count": 0,
          "min": "0.0",
          "max": "129.0",
          "histogram": [
           {
            "bin_start": 0,
            "bin_end": 12.9,
            "count": 1
           },
           {
            "bin_start": 12.9,
            "bin_end": 25.8,
            "count": 1
           },
           {
            "bin_start": 25.8,
            "bin_end": 38.7,
            "count": 0
           },
           {
            "bin_start": 38.7,
            "bin_end": 51.6,
            "count": 0
           },
           {
            "bin_start": 51.6,
            "bin_end": 64.5,
            "count": 0
           },
           {
            "bin_start": 64.5,
            "bin_end": 77.4,
            "count": 0
           },
           {
            "bin_start": 77.4,
            "bin_end": 90.3,
            "count": 0
           },
           {
            "bin_start": 90.3,
            "bin_end": 103.2,
            "count": 1
           },
           {
            "bin_start": 103.2,
            "bin_end": 116.10000000000001,
            "count": 1
           },
           {
            "bin_start": 116.10000000000001,
            "bin_end": 129,
            "count": 1
           }
          ]
         }
        },
        {
         "name": "DNI",
         "dtype": "int64",
         "stats": {
          "unique_count": 5,
          "nan_count": 0,
          "min": "0",
          "max": "707",
          "histogram": [
           {
            "bin_start": 0,
            "bin_end": 70.7,
            "count": 2
           },
           {
            "bin_start": 70.7,
            "bin_end": 141.4,
            "count": 0
           },
           {
            "bin_start": 141.4,
            "bin_end": 212.10000000000002,
            "count": 1
           },
           {
            "bin_start": 212.10000000000002,
            "bin_end": 282.8,
            "count": 0
           },
           {
            "bin_start": 282.8,
            "bin_end": 353.5,
            "count": 0
           },
           {
            "bin_start": 353.5,
            "bin_end": 424.20000000000005,
            "count": 0
           },
           {
            "bin_start": 424.20000000000005,
            "bin_end": 494.90000000000003,
            "count": 0
           },
           {
            "bin_start": 494.90000000000003,
            "bin_end": 565.6,
            "count": 0
           },
           {
            "bin_start": 565.6,
            "bin_end": 636.3000000000001,
            "count": 1
           },
           {
            "bin_start": 636.3000000000001,
            "bin_end": 707,
            "count": 1
           }
          ]
         }
        },
        {
         "name": "GHI",
         "dtype": "int64",
         "stats": {
          "unique_count": 5,
          "nan_count": 0,
          "min": "0",
          "max": "464",
          "histogram": [
           {
            "bin_start": 0,
            "bin_end": 46.4,
            "count": 2
           },
           {
            "bin_start": 46.4,
            "bin_end": 92.8,
            "count": 0
           },
           {
            "bin_start": 92.8,
            "bin_end": 139.2,
            "count": 0
           },
           {
            "bin_start": 139.2,
            "bin_end": 185.6,
            "count": 1
           },
           {
            "bin_start": 185.6,
            "bin_end": 232,
            "count": 0
           },
           {
            "bin_start": 232,
            "bin_end": 278.4,
            "count": 0
           },
           {
            "bin_start": 278.4,
            "bin_end": 324.8,
            "count": 0
           },
           {
            "bin_start": 324.8,
            "bin_end": 371.2,
            "count": 1
           },
           {
            "bin_start": 371.2,
            "bin_end": 417.59999999999997,
            "count": 0
           },
           {
            "bin_start": 417.59999999999997,
            "bin_end": 464,
            "count": 1
           }
          ]
         }
        },
        {
         "name": "Precipitation",
         "dtype": "float64",
         "stats": {
          "unique_count": 4,
          "nan_count": 0,
          "min": "8.8",
          "max": "9.3",
          "histogram": [
           {
            "bin_start": 8.8,
            "bin_end": 8.850000000000001,
            "count": 1
           },
           {
            "bin_start": 8.850000000000001,
            "bin_end": 8.9,
            "count": 0
           },
           {
            "bin_start": 8.9,
            "bin_end": 8.950000000000001,
            "count": 2
           },
           {
            "bin_start": 8.950000000000001,
            "bin_end": 9,
            "count": 0
           },
           {
            "bin_start": 9,
            "bin_end": 9.05,
            "count": 0
           },
           {
            "bin_start": 9.05,
            "bin_end": 9.100000000000001,
            "count": 1
           },
           {
            "bin_start": 9.100000000000001,
            "bin_end": 9.15,
            "count": 0
           },
           {
            "bin_start": 9.15,
            "bin_end": 9.200000000000001,
            "count": 0
           },
           {
            "bin_start": 9.200000000000001,
            "bin_end": 9.25,
            "count": 0
           },
           {
            "bin_start": 9.25,
            "bin_end": 9.3,
            "count": 1
           }
          ]
         }
        },
        {
         "name": "Humidity",
         "dtype": "int64",
         "stats": {
          "unique_count": 5,
          "nan_count": 0,
          "min": "62",
          "max": "83",
          "histogram": [
           {
            "bin_start": 62,
            "bin_end": 64.1,
            "count": 1
           },
           {
            "bin_start": 64.1,
            "bin_end": 66.2,
            "count": 0
           },
           {
            "bin_start": 66.2,
            "bin_end": 68.3,
            "count": 1
           },
           {
            "bin_start": 68.3,
            "bin_end": 70.4,
            "count": 0
           },
           {
            "bin_start": 70.4,
            "bin_end": 72.5,
            "count": 0
           },
           {
            "bin_start": 72.5,
            "bin_end": 74.6,
            "count": 0
           },
           {
            "bin_start": 74.6,
            "bin_end": 76.7,
            "count": 1
           },
           {
            "bin_start": 76.7,
            "bin_end": 78.8,
            "count": 0
           },
           {
            "bin_start": 78.8,
            "bin_end": 80.9,
            "count": 1
           },
           {
            "bin_start": 80.9,
            "bin_end": 83,
            "count": 1
           }
          ]
         }
        },
        {
         "name": "Pressure",
         "dtype": "float64",
         "stats": {
          "unique_count": 5,
          "nan_count": 0,
          "min": "929.6",
          "max": "930.3",
          "histogram": [
           {
            "bin_start": 929.6,
            "bin_end": 929.6700000000001,
            "count": 1
           },
           {
            "bin_start": 929.6700000000001,
            "bin_end": 929.74,
            "count": 0
           },
           {
            "bin_start": 929.74,
            "bin_end": 929.81,
            "count": 0
           },
           {
            "bin_start": 929.81,
            "bin_end": 929.88,
            "count": 0
           },
           {
            "bin_start": 929.88,
            "bin_end": 929.95,
            "count": 1
           },
           {
            "bin_start": 929.95,
            "bin_end": 930.02,
            "count": 0
           },
           {
            "bin_start": 930.02,
            "bin_end": 930.0899999999999,
            "count": 0
           },
           {
            "bin_start": 930.0899999999999,
            "bin_end": 930.16,
            "count": 1
           },
           {
            "bin_start": 930.16,
            "bin_end": 930.23,
            "count": 1
           },
           {
            "bin_start": 930.23,
            "bin_end": 930.3,
            "count": 1
           }
          ]
         }
        },
        {
         "name": "WindDirection",
         "dtype": "float64",
         "stats": {
          "unique_count": 4,
          "nan_count": 0,
          "min": "15.0",
          "max": "31.0",
          "histogram": [
           {
            "bin_start": 15,
            "bin_end": 16.6,
            "count": 1
           },
           {
            "bin_start": 16.6,
            "bin_end": 18.2,
            "count": 0
           },
           {
            "bin_start": 18.2,
            "bin_end": 19.8,
            "count": 0
           },
           {
            "bin_start": 19.8,
            "bin_end": 21.4,
            "count": 0
           },
           {
            "bin_start": 21.4,
            "bin_end": 23,
            "count": 0
           },
           {
            "bin_start": 23,
            "bin_end": 24.6,
            "count": 1
           },
           {
            "bin_start": 24.6,
            "bin_end": 26.200000000000003,
            "count": 0
           },
           {
            "bin_start": 26.200000000000003,
            "bin_end": 27.8,
            "count": 0
           },
           {
            "bin_start": 27.8,
            "bin_end": 29.4,
            "count": 1
           },
           {
            "bin_start": 29.4,
            "bin_end": 31,
            "count": 2
           }
          ]
         }
        },
        {
         "name": "WindSpeed",
         "dtype": "float64",
         "stats": {
          "unique_count": 4,
          "nan_count": 0,
          "min": "1.8",
          "max": "2.2",
          "histogram": [
           {
            "bin_start": 1.8,
            "bin_end": 1.84,
            "count": 1
           },
           {
            "bin_start": 1.84,
            "bin_end": 1.8800000000000001,
            "count": 0
           },
           {
            "bin_start": 1.8800000000000001,
            "bin_end": 1.9200000000000002,
            "count": 0
           },
           {
            "bin_start": 1.9200000000000002,
            "bin_end": 1.9600000000000002,
            "count": 0
           },
           {
            "bin_start": 1.9600000000000002,
            "bin_end": 2,
            "count": 0
           },
           {
            "bin_start": 2,
            "bin_end": 2.04,
            "count": 1
           },
           {
            "bin_start": 2.04,
            "bin_end": 2.08,
            "count": 0
           },
           {
            "bin_start": 2.08,
            "bin_end": 2.12,
            "count": 1
           },
           {
            "bin_start": 2.12,
            "bin_end": 2.16,
            "count": 0
           },
           {
            "bin_start": 2.16,
            "bin_end": 2.2,
            "count": 2
           }
          ]
         }
        },
        {
         "name": "Zenith",
         "dtype": "int64",
         "stats": {
          "unique_count": 5,
          "nan_count": 0,
          "min": "62",
          "max": "99",
          "histogram": [
           {
            "bin_start": 62,
            "bin_end": 65.7,
            "count": 1
           },
           {
            "bin_start": 65.7,
            "bin_end": 69.4,
            "count": 1
           },
           {
            "bin_start": 69.4,
            "bin_end": 73.1,
            "count": 0
           },
           {
            "bin_start": 73.1,
            "bin_end": 76.8,
            "count": 0
           },
           {
            "bin_start": 76.8,
            "bin_end": 80.5,
            "count": 1
           },
           {
            "bin_start": 80.5,
            "bin_end": 84.2,
            "count": 0
           },
           {
            "bin_start": 84.2,
            "bin_end": 87.9,
            "count": 0
           },
           {
            "bin_start": 87.9,
            "bin_end": 91.6,
            "count": 1
           },
           {
            "bin_start": 91.6,
            "bin_end": 95.30000000000001,
            "count": 0
           },
           {
            "bin_start": 95.30000000000001,
            "bin_end": 99,
            "count": 1
           }
          ]
         }
        },
        {
         "name": "YearPS",
         "dtype": "int64",
         "stats": {
          "unique_count": 1,
          "nan_count": 0,
          "min": "2018",
          "max": "2018",
          "histogram": [
           {
            "bin_start": 2017.5,
            "bin_end": 2017.6,
            "count": 0
           },
           {
            "bin_start": 2017.6,
            "bin_end": 2017.7,
            "count": 0
           },
           {
            "bin_start": 2017.7,
            "bin_end": 2017.8,
            "count": 0
           },
           {
            "bin_start": 2017.8,
            "bin_end": 2017.9,
            "count": 0
           },
           {
            "bin_start": 2017.9,
            "bin_end": 2018,
            "count": 0
           },
           {
            "bin_start": 2018,
            "bin_end": 2018.1,
            "count": 5
           },
           {
            "bin_start": 2018.1,
            "bin_end": 2018.2,
            "count": 0
           },
           {
            "bin_start": 2018.2,
            "bin_end": 2018.3,
            "count": 0
           },
           {
            "bin_start": 2018.3,
            "bin_end": 2018.4,
            "count": 0
           },
           {
            "bin_start": 2018.4,
            "bin_end": 2018.5,
            "count": 0
           }
          ]
         }
        },
        {
         "name": "YearPE",
         "dtype": "int64",
         "stats": {
          "unique_count": 1,
          "nan_count": 0,
          "min": "2018",
          "max": "2018",
          "histogram": [
           {
            "bin_start": 2017.5,
            "bin_end": 2017.6,
            "count": 0
           },
           {
            "bin_start": 2017.6,
            "bin_end": 2017.7,
            "count": 0
           },
           {
            "bin_start": 2017.7,
            "bin_end": 2017.8,
            "count": 0
           },
           {
            "bin_start": 2017.8,
            "bin_end": 2017.9,
            "count": 0
           },
           {
            "bin_start": 2017.9,
            "bin_end": 2018,
            "count": 0
           },
           {
            "bin_start": 2018,
            "bin_end": 2018.1,
            "count": 5
           },
           {
            "bin_start": 2018.1,
            "bin_end": 2018.2,
            "count": 0
           },
           {
            "bin_start": 2018.2,
            "bin_end": 2018.3,
            "count": 0
           },
           {
            "bin_start": 2018.3,
            "bin_end": 2018.4,
            "count": 0
           },
           {
            "bin_start": 2018.4,
            "bin_end": 2018.5,
            "count": 0
           }
          ]
         }
        },
        {
         "name": "MonthPS",
         "dtype": "int64",
         "stats": {
          "unique_count": 1,
          "nan_count": 0,
          "min": "12",
          "max": "12",
          "histogram": [
           {
            "bin_start": 11.5,
            "bin_end": 11.6,
            "count": 0
           },
           {
            "bin_start": 11.6,
            "bin_end": 11.7,
            "count": 0
           },
           {
            "bin_start": 11.7,
            "bin_end": 11.8,
            "count": 0
           },
           {
            "bin_start": 11.8,
            "bin_end": 11.9,
            "count": 0
           },
           {
            "bin_start": 11.9,
            "bin_end": 12,
            "count": 0
           },
           {
            "bin_start": 12,
            "bin_end": 12.1,
            "count": 5
           },
           {
            "bin_start": 12.1,
            "bin_end": 12.2,
            "count": 0
           },
           {
            "bin_start": 12.2,
            "bin_end": 12.3,
            "count": 0
           },
           {
            "bin_start": 12.3,
            "bin_end": 12.4,
            "count": 0
           },
           {
            "bin_start": 12.4,
            "bin_end": 12.5,
            "count": 0
           }
          ]
         }
        },
        {
         "name": "MonthPE",
         "dtype": "int64",
         "stats": {
          "unique_count": 1,
          "nan_count": 0,
          "min": "12",
          "max": "12",
          "histogram": [
           {
            "bin_start": 11.5,
            "bin_end": 11.6,
            "count": 0
           },
           {
            "bin_start": 11.6,
            "bin_end": 11.7,
            "count": 0
           },
           {
            "bin_start": 11.7,
            "bin_end": 11.8,
            "count": 0
           },
           {
            "bin_start": 11.8,
            "bin_end": 11.9,
            "count": 0
           },
           {
            "bin_start": 11.9,
            "bin_end": 12,
            "count": 0
           },
           {
            "bin_start": 12,
            "bin_end": 12.1,
            "count": 5
           },
           {
            "bin_start": 12.1,
            "bin_end": 12.2,
            "count": 0
           },
           {
            "bin_start": 12.2,
            "bin_end": 12.3,
            "count": 0
           },
           {
            "bin_start": 12.3,
            "bin_end": 12.4,
            "count": 0
           },
           {
            "bin_start": 12.4,
            "bin_end": 12.5,
            "count": 0
           }
          ]
         }
        },
        {
         "name": "HourPS",
         "dtype": "int64",
         "stats": {
          "unique_count": 5,
          "nan_count": 0,
          "min": "1",
          "max": "5",
          "histogram": [
           {
            "bin_start": 1,
            "bin_end": 1.4,
            "count": 1
           },
           {
            "bin_start": 1.4,
            "bin_end": 1.8,
            "count": 0
           },
           {
            "bin_start": 1.8,
            "bin_end": 2.2,
            "count": 1
           },
           {
            "bin_start": 2.2,
            "bin_end": 2.6,
            "count": 0
           },
           {
            "bin_start": 2.6,
            "bin_end": 3,
            "count": 0
           },
           {
            "bin_start": 3,
            "bin_end": 3.4000000000000004,
            "count": 1
           },
           {
            "bin_start": 3.4000000000000004,
            "bin_end": 3.8000000000000003,
            "count": 0
           },
           {
            "bin_start": 3.8000000000000003,
            "bin_end": 4.2,
            "count": 1
           },
           {
            "bin_start": 4.2,
            "bin_end": 4.6,
            "count": 0
           },
           {
            "bin_start": 4.6,
            "bin_end": 5,
            "count": 1
           }
          ]
         }
        },
        {
         "name": "HourPE",
         "dtype": "int64",
         "stats": {
          "unique_count": 5,
          "nan_count": 0,
          "min": "2",
          "max": "6",
          "histogram": [
           {
            "bin_start": 2,
            "bin_end": 2.4,
            "count": 1
           },
           {
            "bin_start": 2.4,
            "bin_end": 2.8,
            "count": 0
           },
           {
            "bin_start": 2.8,
            "bin_end": 3.2,
            "count": 1
           },
           {
            "bin_start": 3.2,
            "bin_end": 3.6,
            "count": 0
           },
           {
            "bin_start": 3.6,
            "bin_end": 4,
            "count": 0
           },
           {
            "bin_start": 4,
            "bin_end": 4.4,
            "count": 1
           },
           {
            "bin_start": 4.4,
            "bin_end": 4.800000000000001,
            "count": 0
           },
           {
            "bin_start": 4.800000000000001,
            "bin_end": 5.2,
            "count": 1
           },
           {
            "bin_start": 5.2,
            "bin_end": 5.6,
            "count": 0
           },
           {
            "bin_start": 5.6,
            "bin_end": 6,
            "count": 1
           }
          ]
         }
        },
        {
         "name": "Sunrise",
         "dtype": "object",
         "stats": {
          "unique_count": 3,
          "nan_count": 0,
          "categories": [
           {
            "name": "0",
            "count": 3
           },
           {
            "name": "05:00:00",
            "count": 1
           },
           {
            "name": "06:00:00",
            "count": 1
           }
          ]
         }
        },
        {
         "name": "Sunset",
         "dtype": "int64",
         "stats": {
          "unique_count": 1,
          "nan_count": 0,
          "min": "0",
          "max": "0",
          "histogram": [
           {
            "bin_start": -0.5,
            "bin_end": -0.4,
            "count": 0
           },
           {
            "bin_start": -0.4,
            "bin_end": -0.3,
            "count": 0
           },
           {
            "bin_start": -0.3,
            "bin_end": -0.19999999999999996,
            "count": 0
           },
           {
            "bin_start": -0.19999999999999996,
            "bin_end": -0.09999999999999998,
            "count": 0
           },
           {
            "bin_start": -0.09999999999999998,
            "bin_end": 0,
            "count": 0
           },
           {
            "bin_start": 0,
            "bin_end": 0.10000000000000009,
            "count": 5
           },
           {
            "bin_start": 0.10000000000000009,
            "bin_end": 0.20000000000000007,
            "count": 0
           },
           {
            "bin_start": 0.20000000000000007,
            "bin_end": 0.30000000000000004,
            "count": 0
           },
           {
            "bin_start": 0.30000000000000004,
            "bin_end": 0.4,
            "count": 0
           },
           {
            "bin_start": 0.4,
            "bin_end": 0.5,
            "count": 0
           }
          ]
         }
        },
        {
         "name": "_deepnote_index_column",
         "dtype": "int64"
        }
       ],
       "rows": [
        {
         "PeriodEnd": "2018-12-31T02:00:00.000000",
         "PeriodStart": "2018-12-31T01:00:00.000000",
         "Temperature": 1.5,
         "CloudOpacity": 0,
         "Radiation": 0,
         "DNI": 0,
         "GHI": 0,
         "Precipitation": 9.3,
         "Humidity": 83,
         "Pressure": 929.6,
         "WindDirection": 31,
         "WindSpeed": 2.1,
         "Zenith": 99,
         "YearPS": 2018,
         "YearPE": 2018,
         "MonthPS": 12,
         "MonthPE": 12,
         "HourPS": 1,
         "HourPE": 2,
         "Sunrise": "0",
         "Sunset": 0,
         "_deepnote_index_column": 0
        },
        {
         "PeriodEnd": "2018-12-31T03:00:00.000000",
         "PeriodStart": "2018-12-31T02:00:00.000000",
         "Temperature": 1.6,
         "CloudOpacity": 8.1,
         "Radiation": 21,
         "DNI": 16,
         "GHI": 23,
         "Precipitation": 9.1,
         "Humidity": 80,
         "Pressure": 929.9,
         "WindDirection": 31,
         "WindSpeed": 2.2,
         "Zenith": 88,
         "YearPS": 2018,
         "YearPE": 2018,
         "MonthPS": 12,
         "MonthPE": 12,
         "HourPS": 2,
         "HourPE": 3,
         "Sunrise": "0",
         "Sunset": 0,
         "_deepnote_index_column": 1
        },
        {
         "PeriodEnd": "2018-12-31T04:00:00.000000",
         "PeriodStart": "2018-12-31T03:00:00.000000",
         "Temperature": 3.5,
         "CloudOpacity": 15.4,
         "Radiation": 99,
         "DNI": 178,
         "GHI": 148,
         "Precipitation": 8.9,
         "Humidity": 75,
         "Pressure": 930.1,
         "WindDirection": 28,
         "WindSpeed": 2.2,
         "Zenith": 77,
         "YearPS": 2018,
         "YearPE": 2018,
         "MonthPS": 12,
         "MonthPE": 12,
         "HourPS": 3,
         "HourPE": 4,
         "Sunrise": "0",
         "Sunset": 0,
         "_deepnote_index_column": 2
        },
        {
         "PeriodEnd": "2018-12-31T05:00:00.000000",
         "PeriodStart": "2018-12-31T04:00:00.000000",
         "Temperature": 7.1,
         "CloudOpacity": 0,
         "Radiation": 112,
         "DNI": 599,
         "GHI": 333,
         "Precipitation": 8.9,
         "Humidity": 68,
         "Pressure": 930.2,
         "WindDirection": 23,
         "WindSpeed": 2,
         "Zenith": 68,
         "YearPS": 2018,
         "YearPE": 2018,
         "MonthPS": 12,
         "MonthPE": 12,
         "HourPS": 4,
         "HourPE": 5,
         "Sunrise": "05:00:00",
         "Sunset": 0,
         "_deepnote_index_column": 3
        },
        {
         "PeriodEnd": "2018-12-31T06:00:00.000000",
         "PeriodStart": "2018-12-31T05:00:00.000000",
         "Temperature": 10.7,
         "CloudOpacity": 0,
         "Radiation": 129,
         "DNI": 707,
         "GHI": 464,
         "Precipitation": 8.8,
         "Humidity": 62,
         "Pressure": 930.3,
         "WindDirection": 15,
         "WindSpeed": 1.8,
         "Zenith": 62,
         "YearPS": 2018,
         "YearPE": 2018,
         "MonthPS": 12,
         "MonthPE": 12,
         "HourPS": 5,
         "HourPE": 6,
         "Sunrise": "06:00:00",
         "Sunset": 0,
         "_deepnote_index_column": 4
        }
       ]
      },
      "text/plain": "            PeriodEnd         PeriodStart  Temperature  CloudOpacity  \\\n0 2018-12-31 02:00:00 2018-12-31 01:00:00          1.5           0.0   \n1 2018-12-31 03:00:00 2018-12-31 02:00:00          1.6           8.1   \n2 2018-12-31 04:00:00 2018-12-31 03:00:00          3.5          15.4   \n3 2018-12-31 05:00:00 2018-12-31 04:00:00          7.1           0.0   \n4 2018-12-31 06:00:00 2018-12-31 05:00:00         10.7           0.0   \n\n   Radiation  DNI  GHI  Precipitation  Humidity  Pressure  ...  WindSpeed  \\\n0        0.0    0    0            9.3        83     929.6  ...        2.1   \n1       21.0   16   23            9.1        80     929.9  ...        2.2   \n2       99.0  178  148            8.9        75     930.1  ...        2.2   \n3      112.0  599  333            8.9        68     930.2  ...        2.0   \n4      129.0  707  464            8.8        62     930.3  ...        1.8   \n\n   Zenith  YearPS  YearPE  MonthPS  MonthPE  HourPS  HourPE   Sunrise Sunset  \n0      99    2018    2018       12       12       1       2         0      0  \n1      88    2018    2018       12       12       2       3         0      0  \n2      77    2018    2018       12       12       3       4         0      0  \n3      68    2018    2018       12       12       4       5  05:00:00      0  \n4      62    2018    2018       12       12       5       6  06:00:00      0  \n\n[5 rows x 21 columns]",
      "text/html": "<div>\n<style scoped>\n    .dataframe tbody tr th:only-of-type {\n        vertical-align: middle;\n    }\n\n    .dataframe tbody tr th {\n        vertical-align: top;\n    }\n\n    .dataframe thead th {\n        text-align: right;\n    }\n</style>\n<table border=\"1\" class=\"dataframe\">\n  <thead>\n    <tr style=\"text-align: right;\">\n      <th></th>\n      <th>PeriodEnd</th>\n      <th>PeriodStart</th>\n      <th>Temperature</th>\n      <th>CloudOpacity</th>\n      <th>Radiation</th>\n      <th>DNI</th>\n      <th>GHI</th>\n      <th>Precipitation</th>\n      <th>Humidity</th>\n      <th>Pressure</th>\n      <th>...</th>\n      <th>WindSpeed</th>\n      <th>Zenith</th>\n      <th>YearPS</th>\n      <th>YearPE</th>\n      <th>MonthPS</th>\n      <th>MonthPE</th>\n      <th>HourPS</th>\n      <th>HourPE</th>\n      <th>Sunrise</th>\n      <th>Sunset</th>\n    </tr>\n  </thead>\n  <tbody>\n    <tr>\n      <th>0</th>\n      <td>2018-12-31 02:00:00</td>\n      <td>2018-12-31 01:00:00</td>\n      <td>1.5</td>\n      <td>0.0</td>\n      <td>0.0</td>\n      <td>0</td>\n      <td>0</td>\n      <td>9.3</td>\n      <td>83</td>\n      <td>929.6</td>\n      <td>...</td>\n      <td>2.1</td>\n      <td>99</td>\n      <td>2018</td>\n      <td>2018</td>\n      <td>12</td>\n      <td>12</td>\n      <td>1</td>\n      <td>2</td>\n      <td>0</td>\n      <td>0</td>\n    </tr>\n    <tr>\n      <th>1</th>\n      <td>2018-12-31 03:00:00</td>\n      <td>2018-12-31 02:00:00</td>\n      <td>1.6</td>\n      <td>8.1</td>\n      <td>21.0</td>\n      <td>16</td>\n      <td>23</td>\n      <td>9.1</td>\n      <td>80</td>\n      <td>929.9</td>\n      <td>...</td>\n      <td>2.2</td>\n      <td>88</td>\n      <td>2018</td>\n      <td>2018</td>\n      <td>12</td>\n      <td>12</td>\n      <td>2</td>\n      <td>3</td>\n      <td>0</td>\n      <td>0</td>\n    </tr>\n    <tr>\n      <th>2</th>\n      <td>2018-12-31 04:00:00</td>\n      <td>2018-12-31 03:00:00</td>\n      <td>3.5</td>\n      <td>15.4</td>\n      <td>99.0</td>\n      <td>178</td>\n      <td>148</td>\n      <td>8.9</td>\n      <td>75</td>\n      <td>930.1</td>\n      <td>...</td>\n      <td>2.2</td>\n      <td>77</td>\n      <td>2018</td>\n      <td>2018</td>\n      <td>12</td>\n      <td>12</td>\n      <td>3</td>\n      <td>4</td>\n      <td>0</td>\n      <td>0</td>\n    </tr>\n    <tr>\n      <th>3</th>\n      <td>2018-12-31 05:00:00</td>\n      <td>2018-12-31 04:00:00</td>\n      <td>7.1</td>\n      <td>0.0</td>\n      <td>112.0</td>\n      <td>599</td>\n      <td>333</td>\n      <td>8.9</td>\n      <td>68</td>\n      <td>930.2</td>\n      <td>...</td>\n      <td>2.0</td>\n      <td>68</td>\n      <td>2018</td>\n      <td>2018</td>\n      <td>12</td>\n      <td>12</td>\n      <td>4</td>\n      <td>5</td>\n      <td>05:00:00</td>\n      <td>0</td>\n    </tr>\n    <tr>\n      <th>4</th>\n      <td>2018-12-31 06:00:00</td>\n      <td>2018-12-31 05:00:00</td>\n      <td>10.7</td>\n      <td>0.0</td>\n      <td>129.0</td>\n      <td>707</td>\n      <td>464</td>\n      <td>8.8</td>\n      <td>62</td>\n      <td>930.3</td>\n      <td>...</td>\n      <td>1.8</td>\n      <td>62</td>\n      <td>2018</td>\n      <td>2018</td>\n      <td>12</td>\n      <td>12</td>\n      <td>5</td>\n      <td>6</td>\n      <td>06:00:00</td>\n      <td>0</td>\n    </tr>\n  </tbody>\n</table>\n<p>5 rows × 21 columns</p>\n</div>"
     },
     "metadata": {}
    }
   ],
   "execution_count": null
  },
  {
   "cell_type": "code",
   "metadata": {
    "tags": [],
    "cell_id": "00013-005bc17c-23f2-4380-9263-5ae84bf4610d",
    "deepnote_to_be_reexecuted": false,
    "source_hash": "6a5538db",
    "execution_start": 1640539270884,
    "execution_millis": 1,
    "deepnote_output_heights": [
     21.1875
    ],
    "deepnote_cell_type": "code"
   },
   "source": "df.Sunset.unique()",
   "outputs": [
    {
     "output_type": "execute_result",
     "execution_count": 14,
     "data": {
      "text/plain": "array([0])"
     },
     "metadata": {}
    }
   ],
   "execution_count": null
  },
  {
   "cell_type": "code",
   "metadata": {
    "tags": [],
    "cell_id": "00014-09351007-adb4-4b92-9899-4d2b301d5013",
    "deepnote_to_be_reexecuted": false,
    "source_hash": "7d3a5fb8",
    "execution_start": 1640539270927,
    "execution_millis": 1,
    "deepnote_cell_type": "code"
   },
   "source": "# changing integer values to datetime format\ndf_new = df.loc[~((df[\"Radiation\"] == 0) & (df[\"DNI\"] == 0) & (df[\"GHI\"] == 0)), :]\n",
   "outputs": [],
   "execution_count": null
  },
  {
   "cell_type": "code",
   "metadata": {
    "tags": [],
    "cell_id": "00015-27acf935-9649-4a47-8478-0059b237a620",
    "deepnote_to_be_reexecuted": false,
    "source_hash": "c976003b",
    "execution_start": 1640539270945,
    "execution_millis": 60,
    "deepnote_cell_type": "code"
   },
   "source": "df_new.info()",
   "outputs": [
    {
     "name": "stdout",
     "text": "<class 'pandas.core.frame.DataFrame'>\nInt64Index: 13824 entries, 1 to 26050\nData columns (total 21 columns):\n #   Column         Non-Null Count  Dtype         \n---  ------         --------------  -----         \n 0   PeriodEnd      13824 non-null  datetime64[ns]\n 1   PeriodStart    13824 non-null  datetime64[ns]\n 2   Temperature    13824 non-null  float64       \n 3   CloudOpacity   13824 non-null  float64       \n 4   Radiation      13824 non-null  float64       \n 5   DNI            13824 non-null  int64         \n 6   GHI            13824 non-null  int64         \n 7   Precipitation  13824 non-null  float64       \n 8   Humidity       13824 non-null  int64         \n 9   Pressure       13824 non-null  float64       \n 10  WindDirection  13824 non-null  float64       \n 11  WindSpeed      13824 non-null  float64       \n 12  Zenith         13824 non-null  int64         \n 13  YearPS         13824 non-null  int64         \n 14  YearPE         13824 non-null  int64         \n 15  MonthPS        13824 non-null  int64         \n 16  MonthPE        13824 non-null  int64         \n 17  HourPS         13824 non-null  int64         \n 18  HourPE         13824 non-null  int64         \n 19  Sunrise        13824 non-null  object        \n 20  Sunset         13824 non-null  int64         \ndtypes: datetime64[ns](2), float64(7), int64(11), object(1)\nmemory usage: 2.3+ MB\n",
     "output_type": "stream",
     "data": {}
    }
   ],
   "execution_count": null
  },
  {
   "cell_type": "code",
   "metadata": {
    "tags": [],
    "cell_id": "00016-253e2e09-c882-478d-8417-002b2586a613",
    "deepnote_to_be_reexecuted": false,
    "source_hash": "45c5dcba",
    "execution_start": 1640539271091,
    "execution_millis": 49,
    "output_cleared": false,
    "deepnote_cell_type": "code"
   },
   "source": "# convert datetime column of endperiod to just date\ndf_new['Date']= pd.to_datetime(df_new['PeriodEnd']).dt.normalize()\n# convert the column (it's a string) to datetime type\ndt_series= pd.to_datetime(df_new['Date'])\n\n# create datetime index passing the datetime series\ndt_index= pd.DatetimeIndex(dt_series.values)\n\n# set new index\ndf_new1= df_new.set_index(dt_index)",
   "outputs": [
    {
     "name": "stderr",
     "text": "/shared-libs/python3.7/py-core/lib/python3.7/site-packages/ipykernel_launcher.py:2: SettingWithCopyWarning: \nA value is trying to be set on a copy of a slice from a DataFrame.\nTry using .loc[row_indexer,col_indexer] = value instead\n\nSee the caveats in the documentation: https://pandas.pydata.org/pandas-docs/stable/user_guide/indexing.html#returning-a-view-versus-a-copy\n  \n",
     "output_type": "stream",
     "data": {}
    }
   ],
   "execution_count": null
  },
  {
   "cell_type": "code",
   "metadata": {
    "tags": [],
    "cell_id": "00017-6edd7166-096c-4792-9eaa-78d24413e732",
    "deepnote_to_be_reexecuted": false,
    "source_hash": "9907fc85",
    "execution_start": 1640539271136,
    "execution_millis": 45,
    "deepnote_cell_type": "code"
   },
   "source": "# display a summary of our dataframe\ndf_new1.info()",
   "outputs": [
    {
     "name": "stdout",
     "text": "<class 'pandas.core.frame.DataFrame'>\nDatetimeIndex: 13824 entries, 2018-12-31 to 2021-12-20\nData columns (total 22 columns):\n #   Column         Non-Null Count  Dtype         \n---  ------         --------------  -----         \n 0   PeriodEnd      13824 non-null  datetime64[ns]\n 1   PeriodStart    13824 non-null  datetime64[ns]\n 2   Temperature    13824 non-null  float64       \n 3   CloudOpacity   13824 non-null  float64       \n 4   Radiation      13824 non-null  float64       \n 5   DNI            13824 non-null  int64         \n 6   GHI            13824 non-null  int64         \n 7   Precipitation  13824 non-null  float64       \n 8   Humidity       13824 non-null  int64         \n 9   Pressure       13824 non-null  float64       \n 10  WindDirection  13824 non-null  float64       \n 11  WindSpeed      13824 non-null  float64       \n 12  Zenith         13824 non-null  int64         \n 13  YearPS         13824 non-null  int64         \n 14  YearPE         13824 non-null  int64         \n 15  MonthPS        13824 non-null  int64         \n 16  MonthPE        13824 non-null  int64         \n 17  HourPS         13824 non-null  int64         \n 18  HourPE         13824 non-null  int64         \n 19  Sunrise        13824 non-null  object        \n 20  Sunset         13824 non-null  int64         \n 21  Date           13824 non-null  datetime64[ns]\ndtypes: datetime64[ns](3), float64(7), int64(11), object(1)\nmemory usage: 2.4+ MB\n",
     "output_type": "stream",
     "data": {}
    }
   ],
   "execution_count": null
  },
  {
   "cell_type": "code",
   "metadata": {
    "tags": [],
    "cell_id": "00018-19c3fa28-4694-4e8c-940d-e8560b585b60",
    "deepnote_to_be_reexecuted": false,
    "source_hash": "6e5dcb34",
    "execution_start": 1640539271180,
    "execution_millis": 127,
    "deepnote_cell_type": "code"
   },
   "source": "# sample daily average for the solar and weather features\ndf_new1[\"Daily_radiation\"] = (\n    df_new1.reset_index().groupby(pd.Grouper(key=\"Date\", freq=\"1D\"))[\"Radiation\"].mean()\n)\ndf_new1[\"Daily_DNI\"] = (\n    df_new1.reset_index().groupby(pd.Grouper(key=\"Date\", freq=\"1D\"))[\"DNI\"].mean()\n)\ndf_new1[\"Daily_GHI\"] = (\n    df_new1.reset_index().groupby(pd.Grouper(key=\"Date\", freq=\"1D\"))[\"GHI\"].mean()\n)\ndf_new1[\"Daily_Temp\"] = (\n    df_new1.reset_index()\n    .groupby(pd.Grouper(key=\"Date\", freq=\"1D\"))[\"Temperature\"]\n    .mean()\n)\ndf_new1[\"Daily_Precip\"] = (\n    df_new1.reset_index()\n    .groupby(pd.Grouper(key=\"Date\", freq=\"1D\"))[\"Precipitation\"]\n    .mean()\n)\ndf_new1[\"Daily_Humidity\"] = (\n    df_new1.reset_index().groupby(pd.Grouper(key=\"Date\", freq=\"1D\"))[\"Humidity\"].mean()\n)\ndf_new1[\"Daily_Pressure\"] = (\n    df_new1.reset_index().groupby(pd.Grouper(key=\"Date\", freq=\"1D\"))[\"Pressure\"].mean()\n)\ndf_new1[\"Daily_WindDir\"] = (\n    df_new1.reset_index()\n    .groupby(pd.Grouper(key=\"Date\", freq=\"1D\"))[\"WindDirection\"]\n    .mean()\n)\ndf_new1[\"Daily_WindSpeed\"] = (\n    df_new1.reset_index().groupby(pd.Grouper(key=\"Date\", freq=\"1D\"))[\"WindSpeed\"].mean()\n)\n",
   "outputs": [],
   "execution_count": null
  },
  {
   "cell_type": "code",
   "metadata": {
    "tags": [],
    "cell_id": "00020-a3b5e054-5a83-4b0d-805f-117fed4f4551",
    "deepnote_to_be_reexecuted": false,
    "source_hash": "62af8a78",
    "execution_start": 1640539271319,
    "execution_millis": 24,
    "deepnote_cell_type": "code"
   },
   "source": "df_new1.drop(\n    [\n        \"PeriodStart\",\n        \"YearPS\",\n        \"HourPS\",\n        \"HourPE\",\n        \"Sunrise\",\n        \"Sunset\",\n        \"MonthPS\",\n        \"YearPE\",\n    ],\n    axis=1,\n    inplace = True\n)\n",
   "outputs": [],
   "execution_count": null
  },
  {
   "cell_type": "code",
   "metadata": {
    "tags": [],
    "cell_id": "00020-056d060e-c356-4b68-8878-19c089162e5a",
    "deepnote_to_be_reexecuted": false,
    "source_hash": "7eb015fb",
    "execution_start": 1640539349010,
    "execution_millis": 20,
    "deepnote_cell_type": "code"
   },
   "source": "# dropping ALL duplicate values except the last value\nnew_df = df_new1.copy()\nnew_df= new_df[~new_df.Date.duplicated(keep='last')]",
   "outputs": [],
   "execution_count": null
  },
  {
   "cell_type": "code",
   "metadata": {
    "tags": [],
    "cell_id": "00021-5d2d459e-96da-4ba8-8636-88af953d8f79",
    "deepnote_to_be_reexecuted": false,
    "source_hash": "c79bd7dc",
    "execution_start": 1640539353167,
    "execution_millis": 99869,
    "deepnote_output_heights": [
     21.1875
    ],
    "deepnote_cell_type": "code"
   },
   "source": "new_df.shape",
   "outputs": [
    {
     "output_type": "execute_result",
     "execution_count": 23,
     "data": {
      "text/plain": "(1086, 23)"
     },
     "metadata": {}
    }
   ],
   "execution_count": null
  },
  {
   "cell_type": "code",
   "metadata": {
    "tags": [],
    "cell_id": "00022-2f26aef9-ee68-4a6d-b692-bcc0bdeec4c8",
    "deepnote_to_be_reexecuted": false,
    "source_hash": "f2f55699",
    "execution_start": 1640539416315,
    "execution_millis": 1,
    "deepnote_cell_type": "code"
   },
   "source": "# select column features\nfinal_df= new_df[['MonthPE', 'Date','Daily_Temp','Daily_Precip', 'Daily_Humidity', 'Daily_Pressure',\\\n                  'Daily_WindDir','Daily_WindSpeed','Daily_DNI', 'Daily_GHI','Daily_radiation']]",
   "outputs": [],
   "execution_count": null
  },
  {
   "cell_type": "code",
   "metadata": {
    "tags": [],
    "cell_id": "00023-28946316-d598-48bd-b3f8-313321a3fd94",
    "deepnote_to_be_reexecuted": false,
    "source_hash": "fb728050",
    "execution_start": 1640539418196,
    "execution_millis": 301,
    "deepnote_cell_type": "code"
   },
   "source": "# print the first 5 rows\nfinal_df.head()",
   "outputs": [
    {
     "output_type": "execute_result",
     "execution_count": 25,
     "data": {
      "application/vnd.deepnote.dataframe.v3+json": {
       "column_count": 11,
       "row_count": 5,
       "columns": [
        {
         "name": "MonthPE",
         "dtype": "int64",
         "stats": {
          "unique_count": 2,
          "nan_count": 0,
          "min": "1",
          "max": "12",
          "histogram": [
           {
            "bin_start": 1,
            "bin_end": 2.1,
            "count": 4
           },
           {
            "bin_start": 2.1,
            "bin_end": 3.2,
            "count": 0
           },
           {
            "bin_start": 3.2,
            "bin_end": 4.300000000000001,
            "count": 0
           },
           {
            "bin_start": 4.300000000000001,
            "bin_end": 5.4,
            "count": 0
           },
           {
            "bin_start": 5.4,
            "bin_end": 6.5,
            "count": 0
           },
           {
            "bin_start": 6.5,
            "bin_end": 7.6000000000000005,
            "count": 0
           },
           {
            "bin_start": 7.6000000000000005,
            "bin_end": 8.700000000000001,
            "count": 0
           },
           {
            "bin_start": 8.700000000000001,
            "bin_end": 9.8,
            "count": 0
           },
           {
            "bin_start": 9.8,
            "bin_end": 10.9,
            "count": 0
           },
           {
            "bin_start": 10.9,
            "bin_end": 12,
            "count": 1
           }
          ]
         }
        },
        {
         "name": "Date",
         "dtype": "datetime64[ns]",
         "stats": {
          "unique_count": 5,
          "nan_count": 0,
          "min": "2018-12-31 00:00:00",
          "max": "2019-01-04 00:00:00",
          "histogram": [
           {
            "bin_start": 1546214400000000000,
            "bin_end": 1546248960000000000,
            "count": 1
           },
           {
            "bin_start": 1546248960000000000,
            "bin_end": 1546283520000000000,
            "count": 0
           },
           {
            "bin_start": 1546283520000000000,
            "bin_end": 1546318080000000000,
            "count": 1
           },
           {
            "bin_start": 1546318080000000000,
            "bin_end": 1546352640000000000,
            "count": 0
           },
           {
            "bin_start": 1546352640000000000,
            "bin_end": 1546387200000000000,
            "count": 0
           },
           {
            "bin_start": 1546387200000000000,
            "bin_end": 1546421760000000000,
            "count": 1
           },
           {
            "bin_start": 1546421760000000000,
            "bin_end": 1546456320000000000,
            "count": 0
           },
           {
            "bin_start": 1546456320000000000,
            "bin_end": 1546490880000000000,
            "count": 1
           },
           {
            "bin_start": 1546490880000000000,
            "bin_end": 1546525440000000000,
            "count": 0
           },
           {
            "bin_start": 1546525440000000000,
            "bin_end": 1546560000000000000,
            "count": 1
           }
          ]
         }
        },
        {
         "name": "Daily_Temp",
         "dtype": "float64",
         "stats": {
          "unique_count": 5,
          "nan_count": 0,
          "min": "7.529999999999999",
          "max": "10.98",
          "histogram": [
           {
            "bin_start": 7.529999999999999,
            "bin_end": 7.874999999999999,
            "count": 1
           },
           {
            "bin_start": 7.874999999999999,
            "bin_end": 8.219999999999999,
            "count": 0
           },
           {
            "bin_start": 8.219999999999999,
            "bin_end": 8.565,
            "count": 1
           },
           {
            "bin_start": 8.565,
            "bin_end": 8.91,
            "count": 0
           },
           {
            "bin_start": 8.91,
            "bin_end": 9.254999999999999,
            "count": 0
           },
           {
            "bin_start": 9.254999999999999,
            "bin_end": 9.6,
            "count": 1
           },
           {
            "bin_start": 9.6,
            "bin_end": 9.945,
            "count": 0
           },
           {
            "bin_start": 9.945,
            "bin_end": 10.29,
            "count": 0
           },
           {
            "bin_start": 10.29,
            "bin_end": 10.635,
            "count": 1
           },
           {
            "bin_start": 10.635,
            "bin_end": 10.98,
            "count": 1
           }
          ]
         }
        },
        {
         "name": "Daily_Precip",
         "dtype": "float64",
         "stats": {
          "unique_count": 5,
          "nan_count": 0,
          "min": "7.427272727272728",
          "max": "14.45",
          "histogram": [
           {
            "bin_start": 7.427272727272728,
            "bin_end": 8.129545454545454,
            "count": 1
           },
           {
            "bin_start": 8.129545454545454,
            "bin_end": 8.831818181818182,
            "count": 0
           },
           {
            "bin_start": 8.831818181818182,
            "bin_end": 9.53409090909091,
            "count": 1
           },
           {
            "bin_start": 9.53409090909091,
            "bin_end": 10.236363636363636,
            "count": 0
           },
           {
            "bin_start": 10.236363636363636,
            "bin_end": 10.938636363636363,
            "count": 0
           },
           {
            "bin_start": 10.938636363636363,
            "bin_end": 11.64090909090909,
            "count": 0
           },
           {
            "bin_start": 11.64090909090909,
            "bin_end": 12.343181818181819,
            "count": 0
           },
           {
            "bin_start": 12.343181818181819,
            "bin_end": 13.045454545454545,
            "count": 0
           },
           {
            "bin_start": 13.045454545454545,
            "bin_end": 13.747727272727271,
            "count": 1
           },
           {
            "bin_start": 13.747727272727271,
            "bin_end": 14.45,
            "count": 2
           }
          ]
         }
        },
        {
         "name": "Daily_Humidity",
         "dtype": "float64",
         "stats": {
          "unique_count": 5,
          "nan_count": 0,
          "min": "59.2",
          "max": "91.4",
          "histogram": [
           {
            "bin_start": 59.2,
            "bin_end": 62.42,
            "count": 1
           },
           {
            "bin_start": 62.42,
            "bin_end": 65.64,
            "count": 1
           },
           {
            "bin_start": 65.64,
            "bin_end": 68.86,
            "count": 0
           },
           {
            "bin_start": 68.86,
            "bin_end": 72.08,
            "count": 2
           },
           {
            "bin_start": 72.08,
            "bin_end": 75.30000000000001,
            "count": 0
           },
           {
            "bin_start": 75.30000000000001,
            "bin_end": 78.52000000000001,
            "count": 0
           },
           {
            "bin_start": 78.52000000000001,
            "bin_end": 81.74000000000001,
            "count": 0
           },
           {
            "bin_start": 81.74000000000001,
            "bin_end": 84.96000000000001,
            "count": 0
           },
           {
            "bin_start": 84.96000000000001,
            "bin_end": 88.18,
            "count": 0
           },
           {
            "bin_start": 88.18,
            "bin_end": 91.4,
            "count": 1
           }
          ]
         }
        },
        {
         "name": "Daily_Pressure",
         "dtype": "float64",
         "stats": {
          "unique_count": 5,
          "nan_count": 0,
          "min": "925.93",
          "max": "929.0600000000001",
          "histogram": [
           {
            "bin_start": 925.93,
            "bin_end": 926.2429999999999,
            "count": 1
           },
           {
            "bin_start": 926.2429999999999,
            "bin_end": 926.5559999999999,
            "count": 0
           },
           {
            "bin_start": 926.5559999999999,
            "bin_end": 926.869,
            "count": 1
           },
           {
            "bin_start": 926.869,
            "bin_end": 927.182,
            "count": 0
           },
           {
            "bin_start": 927.182,
            "bin_end": 927.495,
            "count": 1
           },
           {
            "bin_start": 927.495,
            "bin_end": 927.808,
            "count": 0
           },
           {
            "bin_start": 927.808,
            "bin_end": 928.121,
            "count": 0
           },
           {
            "bin_start": 928.121,
            "bin_end": 928.4340000000001,
            "count": 0
           },
           {
            "bin_start": 928.4340000000001,
            "bin_end": 928.7470000000001,
            "count": 0
           },
           {
            "bin_start": 928.7470000000001,
            "bin_end": 929.0600000000001,
            "count": 2
           }
          ]
         }
        },
        {
         "name": "Daily_WindDir",
         "dtype": "float64",
         "stats": {
          "unique_count": 5,
          "nan_count": 0,
          "min": "31.7",
          "max": "167.36363636363637",
          "histogram": [
           {
            "bin_start": 31.7,
            "bin_end": 45.266363636363636,
            "count": 1
           },
           {
            "bin_start": 45.266363636363636,
            "bin_end": 58.832727272727276,
            "count": 0
           },
           {
            "bin_start": 58.832727272727276,
            "bin_end": 72.39909090909092,
            "count": 0
           },
           {
            "bin_start": 72.39909090909092,
            "bin_end": 85.96545454545455,
            "count": 1
           },
           {
            "bin_start": 85.96545454545455,
            "bin_end": 99.5318181818182,
            "count": 0
           },
           {
            "bin_start": 99.5318181818182,
            "bin_end": 113.09818181818183,
            "count": 1
           },
           {
            "bin_start": 113.09818181818183,
            "bin_end": 126.66454545454548,
            "count": 0
           },
           {
            "bin_start": 126.66454545454548,
            "bin_end": 140.2309090909091,
            "count": 0
           },
           {
            "bin_start": 140.2309090909091,
            "bin_end": 153.79727272727274,
            "count": 0
           },
           {
            "bin_start": 153.79727272727274,
            "bin_end": 167.36363636363637,
            "count": 2
           }
          ]
         }
        },
        {
         "name": "Daily_WindSpeed",
         "dtype": "float64",
         "stats": {
          "unique_count": 5,
          "nan_count": 0,
          "min": "1.52",
          "max": "2.6100000000000003",
          "histogram": [
           {
            "bin_start": 1.52,
            "bin_end": 1.629,
            "count": 1
           },
           {
            "bin_start": 1.629,
            "bin_end": 1.738,
            "count": 2
           },
           {
            "bin_start": 1.738,
            "bin_end": 1.847,
            "count": 0
           },
           {
            "bin_start": 1.847,
            "bin_end": 1.9560000000000002,
            "count": 1
           },
           {
            "bin_start": 1.9560000000000002,
            "bin_end": 2.0650000000000004,
            "count": 0
           },
           {
            "bin_start": 2.0650000000000004,
            "bin_end": 2.1740000000000004,
            "count": 0
           },
           {
            "bin_start": 2.1740000000000004,
            "bin_end": 2.2830000000000004,
            "count": 0
           },
           {
            "bin_start": 2.2830000000000004,
            "bin_end": 2.3920000000000003,
            "count": 0
           },
           {
            "bin_start": 2.3920000000000003,
            "bin_end": 2.5010000000000003,
            "count": 0
           },
           {
            "bin_start": 2.5010000000000003,
            "bin_end": 2.6100000000000003,
            "count": 1
           }
          ]
         }
        },
        {
         "name": "Daily_DNI",
         "dtype": "float64",
         "stats": {
          "unique_count": 5,
          "nan_count": 0,
          "min": "1.1",
          "max": "522.2",
          "histogram": [
           {
            "bin_start": 1.1,
            "bin_end": 53.21,
            "count": 2
           },
           {
            "bin_start": 53.21,
            "bin_end": 105.32,
            "count": 0
           },
           {
            "bin_start": 105.32,
            "bin_end": 157.42999999999998,
            "count": 0
           },
           {
            "bin_start": 157.42999999999998,
            "bin_end": 209.54,
            "count": 0
           },
           {
            "bin_start": 209.54,
            "bin_end": 261.65000000000003,
            "count": 0
           },
           {
            "bin_start": 261.65000000000003,
            "bin_end": 313.76,
            "count": 1
           },
           {
            "bin_start": 313.76,
            "bin_end": 365.87,
            "count": 0
           },
           {
            "bin_start": 365.87,
            "bin_end": 417.98,
            "count": 0
           },
           {
            "bin_start": 417.98,
            "bin_end": 470.09000000000003,
            "count": 0
           },
           {
            "bin_start": 470.09000000000003,
            "bin_end": 522.2,
            "count": 2
           }
          ]
         }
        },
        {
         "name": "Daily_GHI",
         "dtype": "float64",
         "stats": {
          "unique_count": 5,
          "nan_count": 0,
          "min": "96.3",
          "max": "324.6",
          "histogram": [
           {
            "bin_start": 96.3,
            "bin_end": 119.13,
            "count": 2
           },
           {
            "bin_start": 119.13,
            "bin_end": 141.96,
            "count": 0
           },
           {
            "bin_start": 141.96,
            "bin_end": 164.79000000000002,
            "count": 0
           },
           {
            "bin_start": 164.79000000000002,
            "bin_end": 187.62,
            "count": 0
           },
           {
            "bin_start": 187.62,
            "bin_end": 210.45,
            "count": 0
           },
           {
            "bin_start": 210.45,
            "bin_end": 233.28000000000003,
            "count": 0
           },
           {
            "bin_start": 233.28000000000003,
            "bin_end": 256.11,
            "count": 0
           },
           {
            "bin_start": 256.11,
            "bin_end": 278.94,
            "count": 1
           },
           {
            "bin_start": 278.94,
            "bin_end": 301.77000000000004,
            "count": 1
           },
           {
            "bin_start": 301.77000000000004,
            "bin_end": 324.6,
            "count": 1
           }
          ]
         }
        },
        {
         "name": "Daily_radiation",
         "dtype": "float64",
         "stats": {
          "unique_count": 4,
          "nan_count": 0,
          "min": "88.27272727272727",
          "max": "146.1",
          "histogram": [
           {
            "bin_start": 88.27272727272727,
            "bin_end": 94.05545454545454,
            "count": 2
           },
           {
            "bin_start": 94.05545454545454,
            "bin_end": 99.83818181818181,
            "count": 2
           },
           {
            "bin_start": 99.83818181818181,
            "bin_end": 105.6209090909091,
            "count": 0
           },
           {
            "bin_start": 105.6209090909091,
            "bin_end": 111.40363636363637,
            "count": 0
           },
           {
            "bin_start": 111.40363636363637,
            "bin_end": 117.18636363636364,
            "count": 0
           },
           {
            "bin_start": 117.18636363636364,
            "bin_end": 122.96909090909091,
            "count": 0
           },
           {
            "bin_start": 122.96909090909091,
            "bin_end": 128.75181818181818,
            "count": 0
           },
           {
            "bin_start": 128.75181818181818,
            "bin_end": 134.53454545454545,
            "count": 0
           },
           {
            "bin_start": 134.53454545454545,
            "bin_end": 140.31727272727272,
            "count": 0
           },
           {
            "bin_start": 140.31727272727272,
            "bin_end": 146.1,
            "count": 1
           }
          ]
         }
        },
        {
         "name": "_deepnote_index_column",
         "dtype": "datetime64[ns]"
        }
       ],
       "rows": [
        {
         "MonthPE": 12,
         "Date": "2018-12-31T00:00:00.000000",
         "Daily_Temp": 10.98,
         "Daily_Precip": 9.069999999999999,
         "Daily_Humidity": 59.2,
         "Daily_Pressure": 929.0600000000001,
         "Daily_WindDir": 167.3,
         "Daily_WindSpeed": 1.86,
         "Daily_DNI": 522.2,
         "Daily_GHI": 324.6,
         "Daily_radiation": 96.2,
         "_deepnote_index_column": "2018-12-31T00:00:00.000000"
        },
        {
         "MonthPE": 1,
         "Date": "2019-01-01T00:00:00.000000",
         "Daily_Temp": 10.57,
         "Daily_Precip": 14.419999999999998,
         "Daily_Humidity": 62.5,
         "Daily_Pressure": 925.93,
         "Daily_WindDir": 84.8,
         "Daily_WindSpeed": 1.52,
         "Daily_DNI": 1.1,
         "Daily_GHI": 96.3,
         "Daily_radiation": 96.2,
         "_deepnote_index_column": "2019-01-01T00:00:00.000000"
        },
        {
         "MonthPE": 1,
         "Date": "2019-01-02T00:00:00.000000",
         "Daily_Temp": 8.41,
         "Daily_Precip": 14.45,
         "Daily_Humidity": 91.4,
         "Daily_Pressure": 927.2299999999999,
         "Daily_WindDir": 109.4,
         "Daily_WindSpeed": 1.6400000000000001,
         "Daily_DNI": 275.8,
         "Daily_GHI": 259.5,
         "Daily_radiation": 146.1,
         "_deepnote_index_column": "2019-01-02T00:00:00.000000"
        },
        {
         "MonthPE": 1,
         "Date": "2019-01-03T00:00:00.000000",
         "Daily_Temp": 9.318181818181818,
         "Daily_Precip": 7.427272727272728,
         "Daily_Humidity": 70,
         "Daily_Pressure": 928.7909090909089,
         "Daily_WindDir": 167.36363636363637,
         "Daily_WindSpeed": 1.7363636363636366,
         "Daily_DNI": 471,
         "Daily_GHI": 294.3636363636364,
         "Daily_radiation": 88.27272727272727,
         "_deepnote_index_column": "2019-01-03T00:00:00.000000"
        },
        {
         "MonthPE": 1,
         "Date": "2019-01-04T00:00:00.000000",
         "Daily_Temp": 7.529999999999999,
         "Daily_Precip": 13.65,
         "Daily_Humidity": 69,
         "Daily_Pressure": 926.6600000000001,
         "Daily_WindDir": 31.7,
         "Daily_WindSpeed": 2.6100000000000003,
         "Daily_DNI": 9.1,
         "Daily_GHI": 96.7,
         "Daily_radiation": 92.3,
         "_deepnote_index_column": "2019-01-04T00:00:00.000000"
        }
       ]
      },
      "text/plain": "            MonthPE       Date  Daily_Temp  Daily_Precip  Daily_Humidity  \\\n2018-12-31       12 2018-12-31   10.980000      9.070000            59.2   \n2019-01-01        1 2019-01-01   10.570000     14.420000            62.5   \n2019-01-02        1 2019-01-02    8.410000     14.450000            91.4   \n2019-01-03        1 2019-01-03    9.318182      7.427273            70.0   \n2019-01-04        1 2019-01-04    7.530000     13.650000            69.0   \n\n            Daily_Pressure  Daily_WindDir  Daily_WindSpeed  Daily_DNI  \\\n2018-12-31      929.060000     167.300000         1.860000      522.2   \n2019-01-01      925.930000      84.800000         1.520000        1.1   \n2019-01-02      927.230000     109.400000         1.640000      275.8   \n2019-01-03      928.790909     167.363636         1.736364      471.0   \n2019-01-04      926.660000      31.700000         2.610000        9.1   \n\n             Daily_GHI  Daily_radiation  \n2018-12-31  324.600000        96.200000  \n2019-01-01   96.300000        96.200000  \n2019-01-02  259.500000       146.100000  \n2019-01-03  294.363636        88.272727  \n2019-01-04   96.700000        92.300000  ",
      "text/html": "<div>\n<style scoped>\n    .dataframe tbody tr th:only-of-type {\n        vertical-align: middle;\n    }\n\n    .dataframe tbody tr th {\n        vertical-align: top;\n    }\n\n    .dataframe thead th {\n        text-align: right;\n    }\n</style>\n<table border=\"1\" class=\"dataframe\">\n  <thead>\n    <tr style=\"text-align: right;\">\n      <th></th>\n      <th>MonthPE</th>\n      <th>Date</th>\n      <th>Daily_Temp</th>\n      <th>Daily_Precip</th>\n      <th>Daily_Humidity</th>\n      <th>Daily_Pressure</th>\n      <th>Daily_WindDir</th>\n      <th>Daily_WindSpeed</th>\n      <th>Daily_DNI</th>\n      <th>Daily_GHI</th>\n      <th>Daily_radiation</th>\n    </tr>\n  </thead>\n  <tbody>\n    <tr>\n      <th>2018-12-31</th>\n      <td>12</td>\n      <td>2018-12-31</td>\n      <td>10.980000</td>\n      <td>9.070000</td>\n      <td>59.2</td>\n      <td>929.060000</td>\n      <td>167.300000</td>\n      <td>1.860000</td>\n      <td>522.2</td>\n      <td>324.600000</td>\n      <td>96.200000</td>\n    </tr>\n    <tr>\n      <th>2019-01-01</th>\n      <td>1</td>\n      <td>2019-01-01</td>\n      <td>10.570000</td>\n      <td>14.420000</td>\n      <td>62.5</td>\n      <td>925.930000</td>\n      <td>84.800000</td>\n      <td>1.520000</td>\n      <td>1.1</td>\n      <td>96.300000</td>\n      <td>96.200000</td>\n    </tr>\n    <tr>\n      <th>2019-01-02</th>\n      <td>1</td>\n      <td>2019-01-02</td>\n      <td>8.410000</td>\n      <td>14.450000</td>\n      <td>91.4</td>\n      <td>927.230000</td>\n      <td>109.400000</td>\n      <td>1.640000</td>\n      <td>275.8</td>\n      <td>259.500000</td>\n      <td>146.100000</td>\n    </tr>\n    <tr>\n      <th>2019-01-03</th>\n      <td>1</td>\n      <td>2019-01-03</td>\n      <td>9.318182</td>\n      <td>7.427273</td>\n      <td>70.0</td>\n      <td>928.790909</td>\n      <td>167.363636</td>\n      <td>1.736364</td>\n      <td>471.0</td>\n      <td>294.363636</td>\n      <td>88.272727</td>\n    </tr>\n    <tr>\n      <th>2019-01-04</th>\n      <td>1</td>\n      <td>2019-01-04</td>\n      <td>7.530000</td>\n      <td>13.650000</td>\n      <td>69.0</td>\n      <td>926.660000</td>\n      <td>31.700000</td>\n      <td>2.610000</td>\n      <td>9.1</td>\n      <td>96.700000</td>\n      <td>92.300000</td>\n    </tr>\n  </tbody>\n</table>\n</div>"
     },
     "metadata": {}
    }
   ],
   "execution_count": null
  },
  {
   "cell_type": "code",
   "metadata": {
    "tags": [],
    "cell_id": "00024-fae448da-2592-49e6-b8bc-6b2fff4bd99a",
    "deepnote_to_be_reexecuted": false,
    "source_hash": "4b827d98",
    "execution_start": 1640539435025,
    "execution_millis": 109,
    "deepnote_cell_type": "code"
   },
   "source": "# save cleaned dataset\nfinal_df.to_csv('./Data/ISB-solcast-clean.csv')",
   "outputs": [],
   "execution_count": null
  },
  {
   "cell_type": "markdown",
   "source": "<a style='text-decoration:none;line-height:16px;display:flex;color:#5B5B62;padding:10px;justify-content:end;' href='https://deepnote.com?utm_source=created-in-deepnote-cell&projectId=199a8a8b-03c7-4eee-a882-65187822afb3' target=\"_blank\">\n<img alt='Created in deepnote.com' style='display:inline;max-height:16px;margin:0px;margin-right:7.5px;' src='data:image/svg+xml;base64,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' > </img>\nCreated in <span style='font-weight:600;margin-left:4px;'>Deepnote</span></a>",
   "metadata": {
    "tags": [],
    "created_in_deepnote_cell": true,
    "deepnote_cell_type": "markdown"
   }
  }
 ],
 "nbformat": 4,
 "nbformat_minor": 2,
 "metadata": {
  "orig_nbformat": 2,
  "deepnote": {
   "is_reactive": false
  },
  "deepnote_notebook_id": "7dbdcd42-d17f-4b33-9b55-1fa994ca9983",
  "deepnote_execution_queue": []
 }
}