{
 "cells": [
  {
   "cell_type": "markdown",
   "source": "# Algorithm Training, Testing, and Validation",
   "metadata": {
    "cell_id": "00000-1ac40db3-c392-48d0-8f73-9b0a1f5a8a6b",
    "deepnote_cell_type": "markdown"
   }
  },
  {
   "cell_type": "code",
   "metadata": {
    "cell_id": "00001-4d53559b-3047-4f8e-a119-3fcc88ff9ac8",
    "deepnote_to_be_reexecuted": false,
    "source_hash": "9b8512bf",
    "execution_start": 1640956389851,
    "execution_millis": 2857,
    "deepnote_cell_type": "code"
   },
   "source": "# import libraries\nimport numpy as np\nimport pandas as pd\nimport seaborn as sns\nimport matplotlib.pyplot as plt\nsns.set() # revert to matplotlib defaults\nplt.rcParams['figure.figsize'] = (16, 12)",
   "outputs": [],
   "execution_count": null
  },
  {
   "cell_type": "code",
   "metadata": {
    "cell_id": "00002-a53f9709-9d03-4db3-bf75-dba7d53c2464",
    "deepnote_output_heights": [
     177
    ],
    "deepnote_to_be_reexecuted": false,
    "source_hash": "64cabc72",
    "execution_start": 1640956392720,
    "execution_millis": 112,
    "deepnote_cell_type": "code"
   },
   "source": "# load clean dataset\ncleaned_df = pd.read_csv('/work/solar-radiation-ISB-MLOps/data/clean/ISB-solcast-clean.csv')\ncleaned_df.head()",
   "outputs": [
    {
     "output_type": "execute_result",
     "execution_count": 2,
     "data": {
      "application/vnd.deepnote.dataframe.v3+json": {
       "column_count": 12,
       "row_count": 5,
       "columns": [
        {
         "name": "Unnamed: 0",
         "dtype": "object",
         "stats": {
          "unique_count": 5,
          "nan_count": 0,
          "categories": [
           {
            "name": "2018-12-31",
            "count": 1
           },
           {
            "name": "2019-01-01",
            "count": 1
           },
           {
            "name": "3 others",
            "count": 3
           }
          ]
         }
        },
        {
         "name": "MonthPE",
         "dtype": "int64",
         "stats": {
          "unique_count": 2,
          "nan_count": 0,
          "min": "1",
          "max": "12",
          "histogram": [
           {
            "bin_start": 1,
            "bin_end": 2.1,
            "count": 4
           },
           {
            "bin_start": 2.1,
            "bin_end": 3.2,
            "count": 0
           },
           {
            "bin_start": 3.2,
            "bin_end": 4.300000000000001,
            "count": 0
           },
           {
            "bin_start": 4.300000000000001,
            "bin_end": 5.4,
            "count": 0
           },
           {
            "bin_start": 5.4,
            "bin_end": 6.5,
            "count": 0
           },
           {
            "bin_start": 6.5,
            "bin_end": 7.6000000000000005,
            "count": 0
           },
           {
            "bin_start": 7.6000000000000005,
            "bin_end": 8.700000000000001,
            "count": 0
           },
           {
            "bin_start": 8.700000000000001,
            "bin_end": 9.8,
            "count": 0
           },
           {
            "bin_start": 9.8,
            "bin_end": 10.9,
            "count": 0
           },
           {
            "bin_start": 10.9,
            "bin_end": 12,
            "count": 1
           }
          ]
         }
        },
        {
         "name": "Date",
         "dtype": "object",
         "stats": {
          "unique_count": 5,
          "nan_count": 0,
          "categories": [
           {
            "name": "2018-12-31",
            "count": 1
           },
           {
            "name": "2019-01-01",
            "count": 1
           },
           {
            "name": "3 others",
            "count": 3
           }
          ]
         }
        },
        {
         "name": "Daily_Temp",
         "dtype": "float64",
         "stats": {
          "unique_count": 5,
          "nan_count": 0,
          "min": "7.529999999999999",
          "max": "10.98",
          "histogram": [
           {
            "bin_start": 7.529999999999999,
            "bin_end": 7.874999999999999,
            "count": 1
           },
           {
            "bin_start": 7.874999999999999,
            "bin_end": 8.219999999999999,
            "count": 0
           },
           {
            "bin_start": 8.219999999999999,
            "bin_end": 8.565,
            "count": 1
           },
           {
            "bin_start": 8.565,
            "bin_end": 8.91,
            "count": 0
           },
           {
            "bin_start": 8.91,
            "bin_end": 9.254999999999999,
            "count": 0
           },
           {
            "bin_start": 9.254999999999999,
            "bin_end": 9.6,
            "count": 1
           },
           {
            "bin_start": 9.6,
            "bin_end": 9.945,
            "count": 0
           },
           {
            "bin_start": 9.945,
            "bin_end": 10.29,
            "count": 0
           },
           {
            "bin_start": 10.29,
            "bin_end": 10.635,
            "count": 1
           },
           {
            "bin_start": 10.635,
            "bin_end": 10.98,
            "count": 1
           }
          ]
         }
        },
        {
         "name": "Daily_Precip",
         "dtype": "float64",
         "stats": {
          "unique_count": 5,
          "nan_count": 0,
          "min": "7.427272727272728",
          "max": "14.45",
          "histogram": [
           {
            "bin_start": 7.427272727272728,
            "bin_end": 8.129545454545454,
            "count": 1
           },
           {
            "bin_start": 8.129545454545454,
            "bin_end": 8.831818181818182,
            "count": 0
           },
           {
            "bin_start": 8.831818181818182,
            "bin_end": 9.53409090909091,
            "count": 1
           },
           {
            "bin_start": 9.53409090909091,
            "bin_end": 10.236363636363636,
            "count": 0
           },
           {
            "bin_start": 10.236363636363636,
            "bin_end": 10.938636363636363,
            "count": 0
           },
           {
            "bin_start": 10.938636363636363,
            "bin_end": 11.64090909090909,
            "count": 0
           },
           {
            "bin_start": 11.64090909090909,
            "bin_end": 12.343181818181819,
            "count": 0
           },
           {
            "bin_start": 12.343181818181819,
            "bin_end": 13.045454545454545,
            "count": 0
           },
           {
            "bin_start": 13.045454545454545,
            "bin_end": 13.747727272727271,
            "count": 1
           },
           {
            "bin_start": 13.747727272727271,
            "bin_end": 14.45,
            "count": 2
           }
          ]
         }
        },
        {
         "name": "Daily_Humidity",
         "dtype": "float64",
         "stats": {
          "unique_count": 5,
          "nan_count": 0,
          "min": "59.2",
          "max": "91.4",
          "histogram": [
           {
            "bin_start": 59.2,
            "bin_end": 62.42,
            "count": 1
           },
           {
            "bin_start": 62.42,
            "bin_end": 65.64,
            "count": 1
           },
           {
            "bin_start": 65.64,
            "bin_end": 68.86,
            "count": 0
           },
           {
            "bin_start": 68.86,
            "bin_end": 72.08,
            "count": 2
           },
           {
            "bin_start": 72.08,
            "bin_end": 75.30000000000001,
            "count": 0
           },
           {
            "bin_start": 75.30000000000001,
            "bin_end": 78.52000000000001,
            "count": 0
           },
           {
            "bin_start": 78.52000000000001,
            "bin_end": 81.74000000000001,
            "count": 0
           },
           {
            "bin_start": 81.74000000000001,
            "bin_end": 84.96000000000001,
            "count": 0
           },
           {
            "bin_start": 84.96000000000001,
            "bin_end": 88.18,
            "count": 0
           },
           {
            "bin_start": 88.18,
            "bin_end": 91.4,
            "count": 1
           }
          ]
         }
        },
        {
         "name": "Daily_Pressure",
         "dtype": "float64",
         "stats": {
          "unique_count": 5,
          "nan_count": 0,
          "min": "925.93",
          "max": "929.06",
          "histogram": [
           {
            "bin_start": 925.93,
            "bin_end": 926.2429999999999,
            "count": 1
           },
           {
            "bin_start": 926.2429999999999,
            "bin_end": 926.5559999999999,
            "count": 0
           },
           {
            "bin_start": 926.5559999999999,
            "bin_end": 926.8689999999999,
            "count": 1
           },
           {
            "bin_start": 926.8689999999999,
            "bin_end": 927.1819999999999,
            "count": 0
           },
           {
            "bin_start": 927.1819999999999,
            "bin_end": 927.4949999999999,
            "count": 1
           },
           {
            "bin_start": 927.4949999999999,
            "bin_end": 927.808,
            "count": 0
           },
           {
            "bin_start": 927.808,
            "bin_end": 928.121,
            "count": 0
           },
           {
            "bin_start": 928.121,
            "bin_end": 928.434,
            "count": 0
           },
           {
            "bin_start": 928.434,
            "bin_end": 928.747,
            "count": 0
           },
           {
            "bin_start": 928.747,
            "bin_end": 929.06,
            "count": 2
           }
          ]
         }
        },
        {
         "name": "Daily_WindDir",
         "dtype": "float64",
         "stats": {
          "unique_count": 5,
          "nan_count": 0,
          "min": "31.7",
          "max": "167.36363636363637",
          "histogram": [
           {
            "bin_start": 31.7,
            "bin_end": 45.266363636363636,
            "count": 1
           },
           {
            "bin_start": 45.266363636363636,
            "bin_end": 58.832727272727276,
            "count": 0
           },
           {
            "bin_start": 58.832727272727276,
            "bin_end": 72.39909090909092,
            "count": 0
           },
           {
            "bin_start": 72.39909090909092,
            "bin_end": 85.96545454545455,
            "count": 1
           },
           {
            "bin_start": 85.96545454545455,
            "bin_end": 99.5318181818182,
            "count": 0
           },
           {
            "bin_start": 99.5318181818182,
            "bin_end": 113.09818181818183,
            "count": 1
           },
           {
            "bin_start": 113.09818181818183,
            "bin_end": 126.66454545454548,
            "count": 0
           },
           {
            "bin_start": 126.66454545454548,
            "bin_end": 140.2309090909091,
            "count": 0
           },
           {
            "bin_start": 140.2309090909091,
            "bin_end": 153.79727272727274,
            "count": 0
           },
           {
            "bin_start": 153.79727272727274,
            "bin_end": 167.36363636363637,
            "count": 2
           }
          ]
         }
        },
        {
         "name": "Daily_WindSpeed",
         "dtype": "float64",
         "stats": {
          "unique_count": 5,
          "nan_count": 0,
          "min": "1.52",
          "max": "2.6100000000000003",
          "histogram": [
           {
            "bin_start": 1.52,
            "bin_end": 1.629,
            "count": 1
           },
           {
            "bin_start": 1.629,
            "bin_end": 1.738,
            "count": 2
           },
           {
            "bin_start": 1.738,
            "bin_end": 1.847,
            "count": 0
           },
           {
            "bin_start": 1.847,
            "bin_end": 1.9560000000000002,
            "count": 1
           },
           {
            "bin_start": 1.9560000000000002,
            "bin_end": 2.0650000000000004,
            "count": 0
           },
           {
            "bin_start": 2.0650000000000004,
            "bin_end": 2.1740000000000004,
            "count": 0
           },
           {
            "bin_start": 2.1740000000000004,
            "bin_end": 2.2830000000000004,
            "count": 0
           },
           {
            "bin_start": 2.2830000000000004,
            "bin_end": 2.3920000000000003,
            "count": 0
           },
           {
            "bin_start": 2.3920000000000003,
            "bin_end": 2.5010000000000003,
            "count": 0
           },
           {
            "bin_start": 2.5010000000000003,
            "bin_end": 2.6100000000000003,
            "count": 1
           }
          ]
         }
        },
        {
         "name": "Daily_DNI",
         "dtype": "float64",
         "stats": {
          "unique_count": 5,
          "nan_count": 0,
          "min": "1.1",
          "max": "522.2",
          "histogram": [
           {
            "bin_start": 1.1,
            "bin_end": 53.21,
            "count": 2
           },
           {
            "bin_start": 53.21,
            "bin_end": 105.32,
            "count": 0
           },
           {
            "bin_start": 105.32,
            "bin_end": 157.42999999999998,
            "count": 0
           },
           {
            "bin_start": 157.42999999999998,
            "bin_end": 209.54,
            "count": 0
           },
           {
            "bin_start": 209.54,
            "bin_end": 261.65000000000003,
            "count": 0
           },
           {
            "bin_start": 261.65000000000003,
            "bin_end": 313.76,
            "count": 1
           },
           {
            "bin_start": 313.76,
            "bin_end": 365.87,
            "count": 0
           },
           {
            "bin_start": 365.87,
            "bin_end": 417.98,
            "count": 0
           },
           {
            "bin_start": 417.98,
            "bin_end": 470.09000000000003,
            "count": 0
           },
           {
            "bin_start": 470.09000000000003,
            "bin_end": 522.2,
            "count": 2
           }
          ]
         }
        },
        {
         "name": "Daily_GHI",
         "dtype": "float64",
         "stats": {
          "unique_count": 5,
          "nan_count": 0,
          "min": "96.3",
          "max": "324.6",
          "histogram": [
           {
            "bin_start": 96.3,
            "bin_end": 119.13,
            "count": 2
           },
           {
            "bin_start": 119.13,
            "bin_end": 141.96,
            "count": 0
           },
           {
            "bin_start": 141.96,
            "bin_end": 164.79000000000002,
            "count": 0
           },
           {
            "bin_start": 164.79000000000002,
            "bin_end": 187.62,
            "count": 0
           },
           {
            "bin_start": 187.62,
            "bin_end": 210.45,
            "count": 0
           },
           {
            "bin_start": 210.45,
            "bin_end": 233.28000000000003,
            "count": 0
           },
           {
            "bin_start": 233.28000000000003,
            "bin_end": 256.11,
            "count": 0
           },
           {
            "bin_start": 256.11,
            "bin_end": 278.94,
            "count": 1
           },
           {
            "bin_start": 278.94,
            "bin_end": 301.77000000000004,
            "count": 1
           },
           {
            "bin_start": 301.77000000000004,
            "bin_end": 324.6,
            "count": 1
           }
          ]
         }
        },
        {
         "name": "Daily_radiation",
         "dtype": "float64",
         "stats": {
          "unique_count": 4,
          "nan_count": 0,
          "min": "88.27272727272727",
          "max": "146.1",
          "histogram": [
           {
            "bin_start": 88.27272727272727,
            "bin_end": 94.05545454545454,
            "count": 2
           },
           {
            "bin_start": 94.05545454545454,
            "bin_end": 99.83818181818181,
            "count": 2
           },
           {
            "bin_start": 99.83818181818181,
            "bin_end": 105.6209090909091,
            "count": 0
           },
           {
            "bin_start": 105.6209090909091,
            "bin_end": 111.40363636363637,
            "count": 0
           },
           {
            "bin_start": 111.40363636363637,
            "bin_end": 117.18636363636364,
            "count": 0
           },
           {
            "bin_start": 117.18636363636364,
            "bin_end": 122.96909090909091,
            "count": 0
           },
           {
            "bin_start": 122.96909090909091,
            "bin_end": 128.75181818181818,
            "count": 0
           },
           {
            "bin_start": 128.75181818181818,
            "bin_end": 134.53454545454545,
            "count": 0
           },
           {
            "bin_start": 134.53454545454545,
            "bin_end": 140.31727272727272,
            "count": 0
           },
           {
            "bin_start": 140.31727272727272,
            "bin_end": 146.1,
            "count": 1
           }
          ]
         }
        },
        {
         "name": "_deepnote_index_column",
         "dtype": "int64"
        }
       ],
       "rows": [
        {
         "Unnamed: 0": "2018-12-31",
         "MonthPE": 12,
         "Date": "2018-12-31",
         "Daily_Temp": 10.98,
         "Daily_Precip": 9.07,
         "Daily_Humidity": 59.2,
         "Daily_Pressure": 929.06,
         "Daily_WindDir": 167.3,
         "Daily_WindSpeed": 1.86,
         "Daily_DNI": 522.2,
         "Daily_GHI": 324.6,
         "Daily_radiation": 96.2,
         "_deepnote_index_column": 0
        },
        {
         "Unnamed: 0": "2019-01-01",
         "MonthPE": 1,
         "Date": "2019-01-01",
         "Daily_Temp": 10.57,
         "Daily_Precip": 14.419999999999998,
         "Daily_Humidity": 62.5,
         "Daily_Pressure": 925.93,
         "Daily_WindDir": 84.8,
         "Daily_WindSpeed": 1.52,
         "Daily_DNI": 1.1,
         "Daily_GHI": 96.3,
         "Daily_radiation": 96.2,
         "_deepnote_index_column": 1
        },
        {
         "Unnamed: 0": "2019-01-02",
         "MonthPE": 1,
         "Date": "2019-01-02",
         "Daily_Temp": 8.41,
         "Daily_Precip": 14.45,
         "Daily_Humidity": 91.4,
         "Daily_Pressure": 927.23,
         "Daily_WindDir": 109.4,
         "Daily_WindSpeed": 1.64,
         "Daily_DNI": 275.8,
         "Daily_GHI": 259.5,
         "Daily_radiation": 146.1,
         "_deepnote_index_column": 2
        },
        {
         "Unnamed: 0": "2019-01-03",
         "MonthPE": 1,
         "Date": "2019-01-03",
         "Daily_Temp": 9.318181818181818,
         "Daily_Precip": 7.427272727272728,
         "Daily_Humidity": 70,
         "Daily_Pressure": 928.7909090909088,
         "Daily_WindDir": 167.36363636363637,
         "Daily_WindSpeed": 1.7363636363636366,
         "Daily_DNI": 471,
         "Daily_GHI": 294.3636363636364,
         "Daily_radiation": 88.27272727272727,
         "_deepnote_index_column": 3
        },
        {
         "Unnamed: 0": "2019-01-04",
         "MonthPE": 1,
         "Date": "2019-01-04",
         "Daily_Temp": 7.529999999999999,
         "Daily_Precip": 13.65,
         "Daily_Humidity": 69,
         "Daily_Pressure": 926.66,
         "Daily_WindDir": 31.7,
         "Daily_WindSpeed": 2.6100000000000003,
         "Daily_DNI": 9.1,
         "Daily_GHI": 96.7,
         "Daily_radiation": 92.3,
         "_deepnote_index_column": 4
        }
       ]
      },
      "text/plain": "   Unnamed: 0  MonthPE        Date  Daily_Temp  Daily_Precip  Daily_Humidity  \\\n0  2018-12-31       12  2018-12-31   10.980000      9.070000            59.2   \n1  2019-01-01        1  2019-01-01   10.570000     14.420000            62.5   \n2  2019-01-02        1  2019-01-02    8.410000     14.450000            91.4   \n3  2019-01-03        1  2019-01-03    9.318182      7.427273            70.0   \n4  2019-01-04        1  2019-01-04    7.530000     13.650000            69.0   \n\n   Daily_Pressure  Daily_WindDir  Daily_WindSpeed  Daily_DNI   Daily_GHI  \\\n0      929.060000     167.300000         1.860000      522.2  324.600000   \n1      925.930000      84.800000         1.520000        1.1   96.300000   \n2      927.230000     109.400000         1.640000      275.8  259.500000   \n3      928.790909     167.363636         1.736364      471.0  294.363636   \n4      926.660000      31.700000         2.610000        9.1   96.700000   \n\n   Daily_radiation  \n0        96.200000  \n1        96.200000  \n2       146.100000  \n3        88.272727  \n4        92.300000  ",
      "text/html": "<div>\n<style scoped>\n    .dataframe tbody tr th:only-of-type {\n        vertical-align: middle;\n    }\n\n    .dataframe tbody tr th {\n        vertical-align: top;\n    }\n\n    .dataframe thead th {\n        text-align: right;\n    }\n</style>\n<table border=\"1\" class=\"dataframe\">\n  <thead>\n    <tr style=\"text-align: right;\">\n      <th></th>\n      <th>Unnamed: 0</th>\n      <th>MonthPE</th>\n      <th>Date</th>\n      <th>Daily_Temp</th>\n      <th>Daily_Precip</th>\n      <th>Daily_Humidity</th>\n      <th>Daily_Pressure</th>\n      <th>Daily_WindDir</th>\n      <th>Daily_WindSpeed</th>\n      <th>Daily_DNI</th>\n      <th>Daily_GHI</th>\n      <th>Daily_radiation</th>\n    </tr>\n  </thead>\n  <tbody>\n    <tr>\n      <th>0</th>\n      <td>2018-12-31</td>\n      <td>12</td>\n      <td>2018-12-31</td>\n      <td>10.980000</td>\n      <td>9.070000</td>\n      <td>59.2</td>\n      <td>929.060000</td>\n      <td>167.300000</td>\n      <td>1.860000</td>\n      <td>522.2</td>\n      <td>324.600000</td>\n      <td>96.200000</td>\n    </tr>\n    <tr>\n      <th>1</th>\n      <td>2019-01-01</td>\n      <td>1</td>\n      <td>2019-01-01</td>\n      <td>10.570000</td>\n      <td>14.420000</td>\n      <td>62.5</td>\n      <td>925.930000</td>\n      <td>84.800000</td>\n      <td>1.520000</td>\n      <td>1.1</td>\n      <td>96.300000</td>\n      <td>96.200000</td>\n    </tr>\n    <tr>\n      <th>2</th>\n      <td>2019-01-02</td>\n      <td>1</td>\n      <td>2019-01-02</td>\n      <td>8.410000</td>\n      <td>14.450000</td>\n      <td>91.4</td>\n      <td>927.230000</td>\n      <td>109.400000</td>\n      <td>1.640000</td>\n      <td>275.8</td>\n      <td>259.500000</td>\n      <td>146.100000</td>\n    </tr>\n    <tr>\n      <th>3</th>\n      <td>2019-01-03</td>\n      <td>1</td>\n      <td>2019-01-03</td>\n      <td>9.318182</td>\n      <td>7.427273</td>\n      <td>70.0</td>\n      <td>928.790909</td>\n      <td>167.363636</td>\n      <td>1.736364</td>\n      <td>471.0</td>\n      <td>294.363636</td>\n      <td>88.272727</td>\n    </tr>\n    <tr>\n      <th>4</th>\n      <td>2019-01-04</td>\n      <td>1</td>\n      <td>2019-01-04</td>\n      <td>7.530000</td>\n      <td>13.650000</td>\n      <td>69.0</td>\n      <td>926.660000</td>\n      <td>31.700000</td>\n      <td>2.610000</td>\n      <td>9.1</td>\n      <td>96.700000</td>\n      <td>92.300000</td>\n    </tr>\n  </tbody>\n</table>\n</div>"
     },
     "metadata": {}
    }
   ],
   "execution_count": null
  },
  {
   "cell_type": "code",
   "metadata": {
    "cell_id": "00003-9ba1a3a6-de3f-41d5-8d6f-27267be5c55a",
    "deepnote_output_heights": [
     78.75
    ],
    "deepnote_to_be_reexecuted": false,
    "source_hash": "4646216b",
    "execution_start": 1640956392837,
    "execution_millis": 1,
    "deepnote_cell_type": "code"
   },
   "source": "# display column names\ncleaned_df.columns",
   "outputs": [
    {
     "output_type": "execute_result",
     "execution_count": 3,
     "data": {
      "text/plain": "Index(['Unnamed: 0', 'MonthPE', 'Date', 'Daily_Temp', 'Daily_Precip',\n       'Daily_Humidity', 'Daily_Pressure', 'Daily_WindDir', 'Daily_WindSpeed',\n       'Daily_DNI', 'Daily_GHI', 'Daily_radiation'],\n      dtype='object')"
     },
     "metadata": {}
    }
   ],
   "execution_count": null
  },
  {
   "cell_type": "code",
   "metadata": {
    "cell_id": "00004-855df89a-7304-4419-8308-cd0eaf8cc42a",
    "deepnote_to_be_reexecuted": false,
    "source_hash": "225a9cb6",
    "execution_start": 1640956392851,
    "deepnote_cell_type": "code"
   },
   "source": "# select features\ncleaned_df= cleaned_df[['MonthPE', 'Date', 'Daily_Temp', 'Daily_Precip', 'Daily_Humidity', 'Daily_Pressure',\\\n                        'Daily_WindDir', 'Daily_WindSpeed', 'Daily_DNI', 'Daily_GHI', 'Daily_radiation']]",
   "outputs": [],
   "execution_count": null
  },
  {
   "cell_type": "code",
   "metadata": {
    "cell_id": "00005-bb195225-c17b-41be-a553-2c126c415e62",
    "deepnote_to_be_reexecuted": false,
    "source_hash": "5a0933de",
    "execution_start": 1640956392898,
    "execution_millis": 1,
    "deepnote_cell_type": "code"
   },
   "source": "# feature engineering of time series column\ncleaned_df['Date'] = pd.to_datetime(cleaned_df['Date'], format='%Y-%m-%d')\ncleaned_df['year'] = cleaned_df['Date'].dt.year\ncleaned_df['month'] = cleaned_df['Date'].dt.month\ncleaned_df['day'] = cleaned_df['Date'].dt.day",
   "outputs": [],
   "execution_count": null
  },
  {
   "cell_type": "code",
   "metadata": {
    "cell_id": "00006-3f965e60-533d-44c0-925b-90fa4a4fd79b",
    "deepnote_output_heights": [
     78.75
    ],
    "deepnote_to_be_reexecuted": false,
    "source_hash": "4646216b",
    "execution_start": 1640956392899,
    "execution_millis": 2,
    "deepnote_cell_type": "code"
   },
   "source": "# display column names\ncleaned_df.columns",
   "outputs": [
    {
     "output_type": "execute_result",
     "execution_count": 6,
     "data": {
      "text/plain": "Index(['MonthPE', 'Date', 'Daily_Temp', 'Daily_Precip', 'Daily_Humidity',\n       'Daily_Pressure', 'Daily_WindDir', 'Daily_WindSpeed', 'Daily_DNI',\n       'Daily_GHI', 'Daily_radiation', 'year', 'month', 'day'],\n      dtype='object')"
     },
     "metadata": {}
    }
   ],
   "execution_count": null
  },
  {
   "cell_type": "code",
   "metadata": {
    "cell_id": "00007-303a9abf-d7c4-4bb6-bf42-3578b3b1320a",
    "deepnote_output_heights": [
     177
    ],
    "deepnote_to_be_reexecuted": false,
    "source_hash": "c7becd8b",
    "execution_start": 1640956392900,
    "execution_millis": 95,
    "deepnote_cell_type": "code"
   },
   "source": "# select features\ncleaned_df = cleaned_df[['month', 'day', 'Daily_Temp', 'Daily_Precip', 'Daily_Humidity',\n       'Daily_Pressure', 'Daily_WindDir', 'Daily_WindSpeed', 'Daily_DNI',\n       'Daily_GHI', 'Daily_radiation']]\ncleaned_df.head()",
   "outputs": [
    {
     "output_type": "execute_result",
     "execution_count": 7,
     "data": {
      "application/vnd.deepnote.dataframe.v3+json": {
       "column_count": 11,
       "row_count": 5,
       "columns": [
        {
         "name": "month",
         "dtype": "int64",
         "stats": {
          "unique_count": 2,
          "nan_count": 0,
          "min": "1",
          "max": "12",
          "histogram": [
           {
            "bin_start": 1,
            "bin_end": 2.1,
            "count": 4
           },
           {
            "bin_start": 2.1,
            "bin_end": 3.2,
            "count": 0
           },
           {
            "bin_start": 3.2,
            "bin_end": 4.300000000000001,
            "count": 0
           },
           {
            "bin_start": 4.300000000000001,
            "bin_end": 5.4,
            "count": 0
           },
           {
            "bin_start": 5.4,
            "bin_end": 6.5,
            "count": 0
           },
           {
            "bin_start": 6.5,
            "bin_end": 7.6000000000000005,
            "count": 0
           },
           {
            "bin_start": 7.6000000000000005,
            "bin_end": 8.700000000000001,
            "count": 0
           },
           {
            "bin_start": 8.700000000000001,
            "bin_end": 9.8,
            "count": 0
           },
           {
            "bin_start": 9.8,
            "bin_end": 10.9,
            "count": 0
           },
           {
            "bin_start": 10.9,
            "bin_end": 12,
            "count": 1
           }
          ]
         }
        },
        {
         "name": "day",
         "dtype": "int64",
         "stats": {
          "unique_count": 5,
          "nan_count": 0,
          "min": "1",
          "max": "31",
          "histogram": [
           {
            "bin_start": 1,
            "bin_end": 4,
            "count": 3
           },
           {
            "bin_start": 4,
            "bin_end": 7,
            "count": 1
           },
           {
            "bin_start": 7,
            "bin_end": 10,
            "count": 0
           },
           {
            "bin_start": 10,
            "bin_end": 13,
            "count": 0
           },
           {
            "bin_start": 13,
            "bin_end": 16,
            "count": 0
           },
           {
            "bin_start": 16,
            "bin_end": 19,
            "count": 0
           },
           {
            "bin_start": 19,
            "bin_end": 22,
            "count": 0
           },
           {
            "bin_start": 22,
            "bin_end": 25,
            "count": 0
           },
           {
            "bin_start": 25,
            "bin_end": 28,
            "count": 0
           },
           {
            "bin_start": 28,
            "bin_end": 31,
            "count": 1
           }
          ]
         }
        },
        {
         "name": "Daily_Temp",
         "dtype": "float64",
         "stats": {
          "unique_count": 5,
          "nan_count": 0,
          "min": "7.529999999999999",
          "max": "10.98",
          "histogram": [
           {
            "bin_start": 7.529999999999999,
            "bin_end": 7.874999999999999,
            "count": 1
           },
           {
            "bin_start": 7.874999999999999,
            "bin_end": 8.219999999999999,
            "count": 0
           },
           {
            "bin_start": 8.219999999999999,
            "bin_end": 8.565,
            "count": 1
           },
           {
            "bin_start": 8.565,
            "bin_end": 8.91,
            "count": 0
           },
           {
            "bin_start": 8.91,
            "bin_end": 9.254999999999999,
            "count": 0
           },
           {
            "bin_start": 9.254999999999999,
            "bin_end": 9.6,
            "count": 1
           },
           {
            "bin_start": 9.6,
            "bin_end": 9.945,
            "count": 0
           },
           {
            "bin_start": 9.945,
            "bin_end": 10.29,
            "count": 0
           },
           {
            "bin_start": 10.29,
            "bin_end": 10.635,
            "count": 1
           },
           {
            "bin_start": 10.635,
            "bin_end": 10.98,
            "count": 1
           }
          ]
         }
        },
        {
         "name": "Daily_Precip",
         "dtype": "float64",
         "stats": {
          "unique_count": 5,
          "nan_count": 0,
          "min": "7.427272727272728",
          "max": "14.45",
          "histogram": [
           {
            "bin_start": 7.427272727272728,
            "bin_end": 8.129545454545454,
            "count": 1
           },
           {
            "bin_start": 8.129545454545454,
            "bin_end": 8.831818181818182,
            "count": 0
           },
           {
            "bin_start": 8.831818181818182,
            "bin_end": 9.53409090909091,
            "count": 1
           },
           {
            "bin_start": 9.53409090909091,
            "bin_end": 10.236363636363636,
            "count": 0
           },
           {
            "bin_start": 10.236363636363636,
            "bin_end": 10.938636363636363,
            "count": 0
           },
           {
            "bin_start": 10.938636363636363,
            "bin_end": 11.64090909090909,
            "count": 0
           },
           {
            "bin_start": 11.64090909090909,
            "bin_end": 12.343181818181819,
            "count": 0
           },
           {
            "bin_start": 12.343181818181819,
            "bin_end": 13.045454545454545,
            "count": 0
           },
           {
            "bin_start": 13.045454545454545,
            "bin_end": 13.747727272727271,
            "count": 1
           },
           {
            "bin_start": 13.747727272727271,
            "bin_end": 14.45,
            "count": 2
           }
          ]
         }
        },
        {
         "name": "Daily_Humidity",
         "dtype": "float64",
         "stats": {
          "unique_count": 5,
          "nan_count": 0,
          "min": "59.2",
          "max": "91.4",
          "histogram": [
           {
            "bin_start": 59.2,
            "bin_end": 62.42,
            "count": 1
           },
           {
            "bin_start": 62.42,
            "bin_end": 65.64,
            "count": 1
           },
           {
            "bin_start": 65.64,
            "bin_end": 68.86,
            "count": 0
           },
           {
            "bin_start": 68.86,
            "bin_end": 72.08,
            "count": 2
           },
           {
            "bin_start": 72.08,
            "bin_end": 75.30000000000001,
            "count": 0
           },
           {
            "bin_start": 75.30000000000001,
            "bin_end": 78.52000000000001,
            "count": 0
           },
           {
            "bin_start": 78.52000000000001,
            "bin_end": 81.74000000000001,
            "count": 0
           },
           {
            "bin_start": 81.74000000000001,
            "bin_end": 84.96000000000001,
            "count": 0
           },
           {
            "bin_start": 84.96000000000001,
            "bin_end": 88.18,
            "count": 0
           },
           {
            "bin_start": 88.18,
            "bin_end": 91.4,
            "count": 1
           }
          ]
         }
        },
        {
         "name": "Daily_Pressure",
         "dtype": "float64",
         "stats": {
          "unique_count": 5,
          "nan_count": 0,
          "min": "925.93",
          "max": "929.06",
          "histogram": [
           {
            "bin_start": 925.93,
            "bin_end": 926.2429999999999,
            "count": 1
           },
           {
            "bin_start": 926.2429999999999,
            "bin_end": 926.5559999999999,
            "count": 0
           },
           {
            "bin_start": 926.5559999999999,
            "bin_end": 926.8689999999999,
            "count": 1
           },
           {
            "bin_start": 926.8689999999999,
            "bin_end": 927.1819999999999,
            "count": 0
           },
           {
            "bin_start": 927.1819999999999,
            "bin_end": 927.4949999999999,
            "count": 1
           },
           {
            "bin_start": 927.4949999999999,
            "bin_end": 927.808,
            "count": 0
           },
           {
            "bin_start": 927.808,
            "bin_end": 928.121,
            "count": 0
           },
           {
            "bin_start": 928.121,
            "bin_end": 928.434,
            "count": 0
           },
           {
            "bin_start": 928.434,
            "bin_end": 928.747,
            "count": 0
           },
           {
            "bin_start": 928.747,
            "bin_end": 929.06,
            "count": 2
           }
          ]
         }
        },
        {
         "name": "Daily_WindDir",
         "dtype": "float64",
         "stats": {
          "unique_count": 5,
          "nan_count": 0,
          "min": "31.7",
          "max": "167.36363636363637",
          "histogram": [
           {
            "bin_start": 31.7,
            "bin_end": 45.266363636363636,
            "count": 1
           },
           {
            "bin_start": 45.266363636363636,
            "bin_end": 58.832727272727276,
            "count": 0
           },
           {
            "bin_start": 58.832727272727276,
            "bin_end": 72.39909090909092,
            "count": 0
           },
           {
            "bin_start": 72.39909090909092,
            "bin_end": 85.96545454545455,
            "count": 1
           },
           {
            "bin_start": 85.96545454545455,
            "bin_end": 99.5318181818182,
            "count": 0
           },
           {
            "bin_start": 99.5318181818182,
            "bin_end": 113.09818181818183,
            "count": 1
           },
           {
            "bin_start": 113.09818181818183,
            "bin_end": 126.66454545454548,
            "count": 0
           },
           {
            "bin_start": 126.66454545454548,
            "bin_end": 140.2309090909091,
            "count": 0
           },
           {
            "bin_start": 140.2309090909091,
            "bin_end": 153.79727272727274,
            "count": 0
           },
           {
            "bin_start": 153.79727272727274,
            "bin_end": 167.36363636363637,
            "count": 2
           }
          ]
         }
        },
        {
         "name": "Daily_WindSpeed",
         "dtype": "float64",
         "stats": {
          "unique_count": 5,
          "nan_count": 0,
          "min": "1.52",
          "max": "2.6100000000000003",
          "histogram": [
           {
            "bin_start": 1.52,
            "bin_end": 1.629,
            "count": 1
           },
           {
            "bin_start": 1.629,
            "bin_end": 1.738,
            "count": 2
           },
           {
            "bin_start": 1.738,
            "bin_end": 1.847,
            "count": 0
           },
           {
            "bin_start": 1.847,
            "bin_end": 1.9560000000000002,
            "count": 1
           },
           {
            "bin_start": 1.9560000000000002,
            "bin_end": 2.0650000000000004,
            "count": 0
           },
           {
            "bin_start": 2.0650000000000004,
            "bin_end": 2.1740000000000004,
            "count": 0
           },
           {
            "bin_start": 2.1740000000000004,
            "bin_end": 2.2830000000000004,
            "count": 0
           },
           {
            "bin_start": 2.2830000000000004,
            "bin_end": 2.3920000000000003,
            "count": 0
           },
           {
            "bin_start": 2.3920000000000003,
            "bin_end": 2.5010000000000003,
            "count": 0
           },
           {
            "bin_start": 2.5010000000000003,
            "bin_end": 2.6100000000000003,
            "count": 1
           }
          ]
         }
        },
        {
         "name": "Daily_DNI",
         "dtype": "float64",
         "stats": {
          "unique_count": 5,
          "nan_count": 0,
          "min": "1.1",
          "max": "522.2",
          "histogram": [
           {
            "bin_start": 1.1,
            "bin_end": 53.21,
            "count": 2
           },
           {
            "bin_start": 53.21,
            "bin_end": 105.32,
            "count": 0
           },
           {
            "bin_start": 105.32,
            "bin_end": 157.42999999999998,
            "count": 0
           },
           {
            "bin_start": 157.42999999999998,
            "bin_end": 209.54,
            "count": 0
           },
           {
            "bin_start": 209.54,
            "bin_end": 261.65000000000003,
            "count": 0
           },
           {
            "bin_start": 261.65000000000003,
            "bin_end": 313.76,
            "count": 1
           },
           {
            "bin_start": 313.76,
            "bin_end": 365.87,
            "count": 0
           },
           {
            "bin_start": 365.87,
            "bin_end": 417.98,
            "count": 0
           },
           {
            "bin_start": 417.98,
            "bin_end": 470.09000000000003,
            "count": 0
           },
           {
            "bin_start": 470.09000000000003,
            "bin_end": 522.2,
            "count": 2
           }
          ]
         }
        },
        {
         "name": "Daily_GHI",
         "dtype": "float64",
         "stats": {
          "unique_count": 5,
          "nan_count": 0,
          "min": "96.3",
          "max": "324.6",
          "histogram": [
           {
            "bin_start": 96.3,
            "bin_end": 119.13,
            "count": 2
           },
           {
            "bin_start": 119.13,
            "bin_end": 141.96,
            "count": 0
           },
           {
            "bin_start": 141.96,
            "bin_end": 164.79000000000002,
            "count": 0
           },
           {
            "bin_start": 164.79000000000002,
            "bin_end": 187.62,
            "count": 0
           },
           {
            "bin_start": 187.62,
            "bin_end": 210.45,
            "count": 0
           },
           {
            "bin_start": 210.45,
            "bin_end": 233.28000000000003,
            "count": 0
           },
           {
            "bin_start": 233.28000000000003,
            "bin_end": 256.11,
            "count": 0
           },
           {
            "bin_start": 256.11,
            "bin_end": 278.94,
            "count": 1
           },
           {
            "bin_start": 278.94,
            "bin_end": 301.77000000000004,
            "count": 1
           },
           {
            "bin_start": 301.77000000000004,
            "bin_end": 324.6,
            "count": 1
           }
          ]
         }
        },
        {
         "name": "Daily_radiation",
         "dtype": "float64",
         "stats": {
          "unique_count": 4,
          "nan_count": 0,
          "min": "88.27272727272727",
          "max": "146.1",
          "histogram": [
           {
            "bin_start": 88.27272727272727,
            "bin_end": 94.05545454545454,
            "count": 2
           },
           {
            "bin_start": 94.05545454545454,
            "bin_end": 99.83818181818181,
            "count": 2
           },
           {
            "bin_start": 99.83818181818181,
            "bin_end": 105.6209090909091,
            "count": 0
           },
           {
            "bin_start": 105.6209090909091,
            "bin_end": 111.40363636363637,
            "count": 0
           },
           {
            "bin_start": 111.40363636363637,
            "bin_end": 117.18636363636364,
            "count": 0
           },
           {
            "bin_start": 117.18636363636364,
            "bin_end": 122.96909090909091,
            "count": 0
           },
           {
            "bin_start": 122.96909090909091,
            "bin_end": 128.75181818181818,
            "count": 0
           },
           {
            "bin_start": 128.75181818181818,
            "bin_end": 134.53454545454545,
            "count": 0
           },
           {
            "bin_start": 134.53454545454545,
            "bin_end": 140.31727272727272,
            "count": 0
           },
           {
            "bin_start": 140.31727272727272,
            "bin_end": 146.1,
            "count": 1
           }
          ]
         }
        },
        {
         "name": "_deepnote_index_column",
         "dtype": "int64"
        }
       ],
       "rows": [
        {
         "month": 12,
         "day": 31,
         "Daily_Temp": 10.98,
         "Daily_Precip": 9.07,
         "Daily_Humidity": 59.2,
         "Daily_Pressure": 929.06,
         "Daily_WindDir": 167.3,
         "Daily_WindSpeed": 1.86,
         "Daily_DNI": 522.2,
         "Daily_GHI": 324.6,
         "Daily_radiation": 96.2,
         "_deepnote_index_column": 0
        },
        {
         "month": 1,
         "day": 1,
         "Daily_Temp": 10.57,
         "Daily_Precip": 14.419999999999998,
         "Daily_Humidity": 62.5,
         "Daily_Pressure": 925.93,
         "Daily_WindDir": 84.8,
         "Daily_WindSpeed": 1.52,
         "Daily_DNI": 1.1,
         "Daily_GHI": 96.3,
         "Daily_radiation": 96.2,
         "_deepnote_index_column": 1
        },
        {
         "month": 1,
         "day": 2,
         "Daily_Temp": 8.41,
         "Daily_Precip": 14.45,
         "Daily_Humidity": 91.4,
         "Daily_Pressure": 927.23,
         "Daily_WindDir": 109.4,
         "Daily_WindSpeed": 1.64,
         "Daily_DNI": 275.8,
         "Daily_GHI": 259.5,
         "Daily_radiation": 146.1,
         "_deepnote_index_column": 2
        },
        {
         "month": 1,
         "day": 3,
         "Daily_Temp": 9.318181818181818,
         "Daily_Precip": 7.427272727272728,
         "Daily_Humidity": 70,
         "Daily_Pressure": 928.7909090909088,
         "Daily_WindDir": 167.36363636363637,
         "Daily_WindSpeed": 1.7363636363636366,
         "Daily_DNI": 471,
         "Daily_GHI": 294.3636363636364,
         "Daily_radiation": 88.27272727272727,
         "_deepnote_index_column": 3
        },
        {
         "month": 1,
         "day": 4,
         "Daily_Temp": 7.529999999999999,
         "Daily_Precip": 13.65,
         "Daily_Humidity": 69,
         "Daily_Pressure": 926.66,
         "Daily_WindDir": 31.7,
         "Daily_WindSpeed": 2.6100000000000003,
         "Daily_DNI": 9.1,
         "Daily_GHI": 96.7,
         "Daily_radiation": 92.3,
         "_deepnote_index_column": 4
        }
       ]
      },
      "text/plain": "   month  day  Daily_Temp  Daily_Precip  Daily_Humidity  Daily_Pressure  \\\n0     12   31   10.980000      9.070000            59.2      929.060000   \n1      1    1   10.570000     14.420000            62.5      925.930000   \n2      1    2    8.410000     14.450000            91.4      927.230000   \n3      1    3    9.318182      7.427273            70.0      928.790909   \n4      1    4    7.530000     13.650000            69.0      926.660000   \n\n   Daily_WindDir  Daily_WindSpeed  Daily_DNI   Daily_GHI  Daily_radiation  \n0     167.300000         1.860000      522.2  324.600000        96.200000  \n1      84.800000         1.520000        1.1   96.300000        96.200000  \n2     109.400000         1.640000      275.8  259.500000       146.100000  \n3     167.363636         1.736364      471.0  294.363636        88.272727  \n4      31.700000         2.610000        9.1   96.700000        92.300000  ",
      "text/html": "<div>\n<style scoped>\n    .dataframe tbody tr th:only-of-type {\n        vertical-align: middle;\n    }\n\n    .dataframe tbody tr th {\n        vertical-align: top;\n    }\n\n    .dataframe thead th {\n        text-align: right;\n    }\n</style>\n<table border=\"1\" class=\"dataframe\">\n  <thead>\n    <tr style=\"text-align: right;\">\n      <th></th>\n      <th>month</th>\n      <th>day</th>\n      <th>Daily_Temp</th>\n      <th>Daily_Precip</th>\n      <th>Daily_Humidity</th>\n      <th>Daily_Pressure</th>\n      <th>Daily_WindDir</th>\n      <th>Daily_WindSpeed</th>\n      <th>Daily_DNI</th>\n      <th>Daily_GHI</th>\n      <th>Daily_radiation</th>\n    </tr>\n  </thead>\n  <tbody>\n    <tr>\n      <th>0</th>\n      <td>12</td>\n      <td>31</td>\n      <td>10.980000</td>\n      <td>9.070000</td>\n      <td>59.2</td>\n      <td>929.060000</td>\n      <td>167.300000</td>\n      <td>1.860000</td>\n      <td>522.2</td>\n      <td>324.600000</td>\n      <td>96.200000</td>\n    </tr>\n    <tr>\n      <th>1</th>\n      <td>1</td>\n      <td>1</td>\n      <td>10.570000</td>\n      <td>14.420000</td>\n      <td>62.5</td>\n      <td>925.930000</td>\n      <td>84.800000</td>\n      <td>1.520000</td>\n      <td>1.1</td>\n      <td>96.300000</td>\n      <td>96.200000</td>\n    </tr>\n    <tr>\n      <th>2</th>\n      <td>1</td>\n      <td>2</td>\n      <td>8.410000</td>\n      <td>14.450000</td>\n      <td>91.4</td>\n      <td>927.230000</td>\n      <td>109.400000</td>\n      <td>1.640000</td>\n      <td>275.8</td>\n      <td>259.500000</td>\n      <td>146.100000</td>\n    </tr>\n    <tr>\n      <th>3</th>\n      <td>1</td>\n      <td>3</td>\n      <td>9.318182</td>\n      <td>7.427273</td>\n      <td>70.0</td>\n      <td>928.790909</td>\n      <td>167.363636</td>\n      <td>1.736364</td>\n      <td>471.0</td>\n      <td>294.363636</td>\n      <td>88.272727</td>\n    </tr>\n    <tr>\n      <th>4</th>\n      <td>1</td>\n      <td>4</td>\n      <td>7.530000</td>\n      <td>13.650000</td>\n      <td>69.0</td>\n      <td>926.660000</td>\n      <td>31.700000</td>\n      <td>2.610000</td>\n      <td>9.1</td>\n      <td>96.700000</td>\n      <td>92.300000</td>\n    </tr>\n  </tbody>\n</table>\n</div>"
     },
     "metadata": {}
    }
   ],
   "execution_count": null
  },
  {
   "cell_type": "markdown",
   "source": "## Model Training and Testing",
   "metadata": {
    "cell_id": "00008-f59f1149-24cf-44c7-b300-3ced6af1151a",
    "deepnote_cell_type": "markdown"
   }
  },
  {
   "cell_type": "code",
   "metadata": {
    "cell_id": "00009-f24112b2-ba3b-4a2e-bbb6-ce1e751b723b",
    "deepnote_to_be_reexecuted": false,
    "source_hash": "c9e8edb7",
    "execution_start": 1640956392999,
    "execution_millis": 736,
    "deepnote_cell_type": "code"
   },
   "source": "# import libraries for algorithms training, and metrics to judge performance\nfrom sklearn.pipeline import Pipeline\nfrom sklearn.preprocessing import StandardScaler\nfrom sklearn.linear_model import LinearRegression\nfrom sklearn.ensemble import RandomForestRegressor\nfrom sklearn.ensemble import GradientBoostingRegressor\nfrom sklearn.model_selection import train_test_split\nfrom sklearn.metrics import mean_squared_error, mean_absolute_error, r2_score",
   "outputs": [],
   "execution_count": null
  },
  {
   "cell_type": "code",
   "metadata": {
    "cell_id": "00010-6fbfba0b-1c0c-4f33-9999-b40061383e31",
    "deepnote_to_be_reexecuted": false,
    "source_hash": "51e25a2c",
    "execution_start": 1640956393746,
    "execution_millis": 31,
    "deepnote_cell_type": "code"
   },
   "source": "# produces a 70%, 15%, 15% split for training, validation and test sets\ntrain_data, validation_data, test_data = np.split(cleaned_df.sample(frac = 1), [int(.7 * len(cleaned_df)), int(.85 * len(cleaned_df))])\n\n# convert dataframes to .csv and save locally\ntrain_data.to_csv('../data/train.csv', header = True, index = False)\nvalidation_data.to_csv('../data/validation.csv', header=True, index = False)\ntest_data.to_csv('../data/test.csv', header = True, index = False)",
   "outputs": [],
   "execution_count": null
  },
  {
   "cell_type": "code",
   "metadata": {
    "cell_id": "00011-ef534a2e-e3f2-4e69-a179-443f108ec682",
    "deepnote_to_be_reexecuted": false,
    "source_hash": "a7f70d40",
    "execution_start": 1640956393827,
    "execution_millis": 0,
    "deepnote_cell_type": "code"
   },
   "source": "# training data\ntrain_df = pd.read_csv('../data/train.csv')\nX_train = train_df.drop(['Daily_radiation'], axis = 1)\ny_train = train_df['Daily_radiation']\n\n# test data\ntest_df = pd.read_csv('../data/test.csv')\nX_test = test_df.drop(['Daily_radiation'], axis = 1)\ny_test = test_df['Daily_radiation']",
   "outputs": [],
   "execution_count": null
  },
  {
   "cell_type": "markdown",
   "source": "### Linear Regression",
   "metadata": {
    "cell_id": "00012-451ac0e9-79aa-4c23-b5a3-ae40214604f2",
    "deepnote_cell_type": "markdown"
   }
  },
  {
   "cell_type": "code",
   "metadata": {
    "cell_id": "00013-d5e21eb0-4a32-41cf-8170-9de40d076ac4",
    "deepnote_to_be_reexecuted": false,
    "source_hash": "bfb1bd8b",
    "execution_start": 1640956393828,
    "execution_millis": 47,
    "deepnote_cell_type": "code"
   },
   "source": "# setup the pipeline steps for linear regression\nsteps = [('scaler', StandardScaler()), ('lr', LinearRegression())]\n\n# create the pipeline\npipeline_lr = Pipeline(steps)\n\n# fit the pipeline to the train set\npipeline_lr.fit(X_train, y_train)\n\n# predict the labels of the test set\ny_pred_lr = pipeline_lr.predict(X_test)",
   "outputs": [],
   "execution_count": null
  },
  {
   "cell_type": "code",
   "metadata": {
    "cell_id": "00014-c1ccc1e8-21ab-48a1-93c9-8eae282e6391",
    "deepnote_to_be_reexecuted": false,
    "source_hash": "72ff6083",
    "execution_start": 1640956393875,
    "execution_millis": 4,
    "deepnote_cell_type": "code"
   },
   "source": "# evaluating algorithm performance\nmse = mean_squared_error(y_test, y_pred_lr, squared = False)\n\nmae = mean_absolute_error(y_test, y_pred_lr)\n\nprint('r2_score: ', r2_score(y_test, y_pred_lr))\n\nprint('Root Mean Squared Error: %.2f' % np.sqrt(mse))\n\nprint('Root Mean Absolute Error: %.2f' % np.sqrt(mae))",
   "outputs": [
    {
     "name": "stdout",
     "text": "r2_score:  0.8258340304101424\nRoot Mean Squared Error: 4.90\nRoot Mean Absolute Error: 4.45\n",
     "output_type": "stream",
     "data": {}
    }
   ],
   "execution_count": null
  },
  {
   "cell_type": "code",
   "metadata": {
    "cell_id": "00015-207fcaba-1c37-4a6d-98f3-4c2f3e297bdd",
    "deepnote_output_heights": [
     568.75
    ],
    "deepnote_to_be_reexecuted": false,
    "source_hash": "f1256de3",
    "execution_start": 1640956393876,
    "execution_millis": 444,
    "deepnote_cell_type": "code"
   },
   "source": "# run the model against the test data presented through a plot\nfig, pX = plt.subplots()\n\npX.scatter(y_test, y_pred_lr, edgecolors = (0, 0, 0))\npX.plot([y_test.min(), y_test.max()], [y_test.min(), y_test.max()], 'm--', lw = 3)\npX.set_xlabel('Actual solar irradiation')\npX.set_ylabel('Predicted solar irradiation')\npX.set_title(\" Linear regression: Verified vs Predicted solar irradiation\")\nplt.show() ",
   "outputs": [
    {
     "data": {
      "text/plain": "<Figure size 1152x864 with 1 Axes>",
      "image/png": "[encoded data removed]"
     },
     "metadata": {
      "image/png": {
       "width": 954,
       "height": 719
      }
     },
     "output_type": "display_data"
    }
   ],
   "execution_count": null
  },
  {
   "cell_type": "code",
   "metadata": {
    "cell_id": "00016-28a808a1-6b9b-44d0-b20b-a9be50a9638a",
    "deepnote_output_heights": [
     null,
     422
    ],
    "deepnote_to_be_reexecuted": false,
    "source_hash": "adf7da37",
    "execution_start": 1640956394325,
    "execution_millis": 876,
    "deepnote_cell_type": "code"
   },
   "source": "sns.jointplot(y_test, y_pred_lr, kind = 'reg')\nplt.show()",
   "outputs": [
    {
     "name": "stderr",
     "text": "/shared-libs/python3.7/py/lib/python3.7/site-packages/seaborn/_decorators.py:43: FutureWarning: Pass the following variables as keyword args: x, y. From version 0.12, the only valid positional argument will be `data`, and passing other arguments without an explicit keyword will result in an error or misinterpretation.\n  FutureWarning\n",
     "output_type": "stream",
     "data": {}
    },
    {
     "data": {
      "text/plain": "<Figure size 432x432 with 3 Axes>",
      "image/png": "[encoded data removed]"
     },
     "metadata": {
      "image/png": {
       "width": 424,
       "height": 420
      }
     },
     "output_type": "display_data"
    }
   ],
   "execution_count": null
  },
  {
   "cell_type": "markdown",
   "source": "### Random Forest Regressor",
   "metadata": {
    "cell_id": "00017-7134af77-12d1-4403-b7b8-db446ef9ebd7",
    "deepnote_cell_type": "markdown"
   }
  },
  {
   "cell_type": "code",
   "metadata": {
    "cell_id": "00018-79b0af46-230f-4ea0-9075-492501d4a2e7",
    "deepnote_to_be_reexecuted": false,
    "source_hash": "e6c210ad",
    "execution_start": 1640956395250,
    "execution_millis": 669,
    "deepnote_cell_type": "code"
   },
   "source": "# setup the pipeline steps for random forest: steps\n\nsteps = [('scaler', StandardScaler()), ('rfr', RandomForestRegressor())]\n\n# create the pipeline: pipeline\npipeline_rfr = Pipeline(steps)\n\n# fit the pipeline to the train set\npipeline_rfr.fit(X_train, y_train)\n\n# predict the labels of the test set\ny_pred_rfr = pipeline_rfr.predict(X_test)",
   "outputs": [],
   "execution_count": null
  },
  {
   "cell_type": "code",
   "metadata": {
    "cell_id": "00019-c77e9a0d-933a-4a9d-bb09-b7e2aca5749b",
    "deepnote_to_be_reexecuted": false,
    "source_hash": "2307f284",
    "execution_start": 1640956395922,
    "execution_millis": 13,
    "deepnote_cell_type": "code"
   },
   "source": "# evaluating algorithm performance\nmse_rf = mean_squared_error(y_test, y_pred_rfr, squared = False)\n\nmae_rf = mean_absolute_error(y_test, y_pred_rfr)\n\nprint('r2_score: ', r2_score(y_test, y_pred_rfr))\n\nprint('Root Mean Squared Error: %.2f' % np.sqrt(mse_rf))\n\nprint('Root Mean Absolute Error: %.2f' % np.sqrt(mae_rf))",
   "outputs": [
    {
     "name": "stdout",
     "text": "r2_score:  0.9403449305029612\nRoot Mean Squared Error: 3.75\nRoot Mean Absolute Error: 3.15\n",
     "output_type": "stream",
     "data": {}
    }
   ],
   "execution_count": null
  },
  {
   "cell_type": "code",
   "metadata": {
    "cell_id": "00020-109deb37-616c-4fce-8089-2c935202012a",
    "deepnote_output_heights": [
     568.75
    ],
    "deepnote_to_be_reexecuted": false,
    "source_hash": "4e326729",
    "execution_start": 1640956395939,
    "execution_millis": 455,
    "deepnote_cell_type": "code"
   },
   "source": "# run the model against the test data presented through a plot\nfig, pX = plt.subplots()\n\npX.scatter(y_test, y_pred_rfr, edgecolors = (0, 0, 0))\npX.plot([y_test.min(), y_test.max()], [y_test.min(), y_test.max()], 'm--', lw = 3)\npX.set_xlabel('Actual solar irradiation')\npX.set_ylabel('Predicted solar irradiation')\npX.set_title(\" Random Forest: Verified vs Predicted solar irradiation\")\nplt.show()",
   "outputs": [
    {
     "data": {
      "text/plain": "<Figure size 1152x864 with 1 Axes>",
      "image/png": "[encoded data removed]"
     },
     "metadata": {
      "image/png": {
       "width": 954,
       "height": 719
      }
     },
     "output_type": "display_data"
    }
   ],
   "execution_count": null
  },
  {
   "cell_type": "code",
   "metadata": {
    "cell_id": "00021-35f9a22a-d777-4a76-99b6-83d531b8d096",
    "deepnote_output_heights": [
     null,
     422
    ],
    "deepnote_to_be_reexecuted": false,
    "source_hash": "adf44e0a",
    "execution_start": 1640956396546,
    "execution_millis": 751,
    "deepnote_cell_type": "code"
   },
   "source": "sns.jointplot(y_test, y_pred_rfr, kind = 'reg')\nplt.show()",
   "outputs": [
    {
     "name": "stderr",
     "text": "/shared-libs/python3.7/py/lib/python3.7/site-packages/seaborn/_decorators.py:43: FutureWarning: Pass the following variables as keyword args: x, y. From version 0.12, the only valid positional argument will be `data`, and passing other arguments without an explicit keyword will result in an error or misinterpretation.\n  FutureWarning\n",
     "output_type": "stream",
     "data": {}
    },
    {
     "data": {
      "text/plain": "<Figure size 432x432 with 3 Axes>",
      "image/png": "[encoded data removed]"
     },
     "metadata": {
      "image/png": {
       "width": 424,
       "height": 420
      }
     },
     "output_type": "display_data"
    }
   ],
   "execution_count": null
  },
  {
   "cell_type": "markdown",
   "source": "### GradientBoosting Regressor",
   "metadata": {
    "cell_id": "00022-ce1b8b32-34d2-4d3b-9752-4c05992dd81a",
    "deepnote_cell_type": "markdown"
   }
  },
  {
   "cell_type": "code",
   "metadata": {
    "cell_id": "00023-b2646b2d-df60-4c39-b5eb-405ba7fe5b28",
    "deepnote_to_be_reexecuted": false,
    "source_hash": "3c9f002a",
    "execution_start": 1640956397350,
    "execution_millis": 223,
    "deepnote_cell_type": "code"
   },
   "source": "# setup the pipeline steps: steps\nsteps = [('scaler', StandardScaler()), ('gbr', GradientBoostingRegressor())]\n\n# create the pipeline: pipeline\npipeline_gbr = Pipeline(steps)\n\n# fit the pipeline to the train set\npipeline_gbr.fit(X_train, y_train)\n\n# predict the labels of the test set\ny_pred_gbr = pipeline_gbr.predict(X_test)",
   "outputs": [],
   "execution_count": null
  },
  {
   "cell_type": "code",
   "metadata": {
    "cell_id": "00024-3e8eb1d1-6e2d-4f22-b56d-badcda2e1e68",
    "deepnote_to_be_reexecuted": false,
    "source_hash": "857e1dfd",
    "execution_start": 1640956397587,
    "execution_millis": 2,
    "deepnote_cell_type": "code"
   },
   "source": "# evaluating algorithm performance\nmse_gr = mean_squared_error(y_test, y_pred_gbr, squared = False)\n\nmae_gr = mean_absolute_error(y_test, y_pred_gbr)\n\nprint('r2_score: ', r2_score(y_test, y_pred_gbr))\n\nprint('Root Mean Squared Error: %.2f' % np.sqrt(mse_gr))\n\nprint('Root Mean Absolute Error: %.2f' % np.sqrt(mae_gr))",
   "outputs": [
    {
     "name": "stdout",
     "text": "r2_score:  0.9363185397827927\nRoot Mean Squared Error: 3.81\nRoot Mean Absolute Error: 3.23\n",
     "output_type": "stream",
     "data": {}
    }
   ],
   "execution_count": null
  },
  {
   "cell_type": "code",
   "metadata": {
    "cell_id": "00025-4bac64ff-0dbe-4274-b442-496a5861c3d6",
    "deepnote_output_heights": [
     568.75
    ],
    "deepnote_to_be_reexecuted": false,
    "source_hash": "3ae66940",
    "execution_start": 1640956397598,
    "execution_millis": 645,
    "deepnote_cell_type": "code"
   },
   "source": "# run the model against the test data presented through a plot\nfig, pX = plt.subplots()\n\npX.scatter(y_test, y_pred_gbr, edgecolors = (0, 0, 0))\npX.plot([y_test.min(), y_test.max()], [y_test.min(), y_test.max()], 'm--', lw = 3)\npX.set_xlabel('Actual solar irradiation')\npX.set_ylabel('Predicted solar irradiation')\npX.set_title(\" Gradient Boost: Verified vs Predicted solar irradiation\")\nplt.show()",
   "outputs": [
    {
     "data": {
      "text/plain": "<Figure size 1152x864 with 1 Axes>",
      "image/png": "[encoded data removed]"
     },
     "metadata": {
      "image/png": {
       "width": 954,
       "height": 719
      }
     },
     "output_type": "display_data"
    }
   ],
   "execution_count": null
  },
  {
   "cell_type": "code",
   "metadata": {
    "cell_id": "00026-e6f3f3ca-d444-4f6c-b841-82042d453071",
    "deepnote_output_heights": [
     null,
     422
    ],
    "deepnote_to_be_reexecuted": false,
    "source_hash": "643a0f35",
    "execution_start": 1640956398206,
    "execution_millis": 860,
    "deepnote_cell_type": "code"
   },
   "source": "sns.jointplot(y_test, y_pred_gbr, kind = 'reg')\nplt.show()",
   "outputs": [
    {
     "name": "stderr",
     "text": "/shared-libs/python3.7/py/lib/python3.7/site-packages/seaborn/_decorators.py:43: FutureWarning: Pass the following variables as keyword args: x, y. From version 0.12, the only valid positional argument will be `data`, and passing other arguments without an explicit keyword will result in an error or misinterpretation.\n  FutureWarning\n",
     "output_type": "stream",
     "data": {}
    },
    {
     "data": {
      "text/plain": "<Figure size 432x432 with 3 Axes>",
      "image/png": "[encoded data removed]"
     },
     "metadata": {
      "image/png": {
       "width": 424,
       "height": 420
      }
     },
     "output_type": "display_data"
    }
   ],
   "execution_count": null
  },
  {
   "cell_type": "markdown",
   "source": "## Model Validation",
   "metadata": {
    "cell_id": "00027-0df2ed56-6f30-46b1-8cf4-3517710054e0",
    "deepnote_cell_type": "markdown"
   }
  },
  {
   "cell_type": "code",
   "metadata": {
    "cell_id": "00028-ce68c258-96fd-4f73-b31d-4f7b8bfd9850",
    "deepnote_to_be_reexecuted": false,
    "source_hash": "45b46064",
    "execution_start": 1640956443388,
    "execution_millis": 14,
    "deepnote_cell_type": "code"
   },
   "source": "# validation data\nval_df = pd.read_csv('../data/validation.csv')\nX_val = val_df.drop(['Daily_radiation'], axis=1)\ny_val = val_df['Daily_radiation']",
   "outputs": [],
   "execution_count": null
  },
  {
   "cell_type": "code",
   "metadata": {
    "cell_id": "00029-c7efbd7e-950e-44a3-9d77-3df4777c0d76",
    "deepnote_to_be_reexecuted": false,
    "source_hash": "24fcbc72",
    "execution_start": 1640956453314,
    "execution_millis": 1,
    "deepnote_cell_type": "code"
   },
   "source": "# validate models\ny_val_lr = pipeline_lr.predict(X_val)\ny_val_rfr = pipeline_rfr.predict(X_val)\ny_val_gbr = pipeline_gbr.predict(X_val)",
   "outputs": [],
   "execution_count": null
  },
  {
   "cell_type": "code",
   "metadata": {
    "cell_id": "00030-cb4e58b3-d85f-478d-b24b-0a9958026587",
    "deepnote_to_be_reexecuted": false,
    "source_hash": "c0cb3597",
    "execution_start": 1640956453315,
    "execution_millis": 9,
    "deepnote_cell_type": "code"
   },
   "source": "# evaluating algorithm performance for linear regression\nmse_lr_val = mean_squared_error(y_val, y_val_lr, squared = False)\n\nmae_lr_val = mean_absolute_error(y_val, y_val_lr)\n\nprint('r2_score: ', r2_score(y_val, y_val_lr))\n\nprint('Linear Regression - Root Mean Squared Error: %.2f' % np.sqrt(mse_lr_val))\n\nprint('Linear Regression - Root Mean Absolute Error: %.2f' % np.sqrt(mse_lr_val))",
   "outputs": [
    {
     "name": "stdout",
     "text": "r2_score:  0.7936255163771293\nLinear Regression - Root Mean Squared Error: 4.92\nLinear Regression - Root Mean Absolute Error: 4.92\n",
     "output_type": "stream",
     "data": {}
    }
   ],
   "execution_count": null
  },
  {
   "cell_type": "code",
   "metadata": {
    "cell_id": "00031-461e1a45-d0d6-4451-8ec6-c5ab69d0ddaa",
    "deepnote_to_be_reexecuted": false,
    "source_hash": "3f55b2b8",
    "execution_start": 1640956453331,
    "execution_millis": 26,
    "deepnote_cell_type": "code"
   },
   "source": "# evaluating algorithm performance for random forest regression\nmse_rf_val = mean_squared_error(y_val, y_val_rfr, squared = False)\n\nmae_rf_val = mean_absolute_error(y_val, y_val_rfr)\n\nprint('r2_score: ', r2_score(y_val, y_val_rfr))\n\nprint('Random Forest - Root Mean Squared Error: %.2f' % np.sqrt(mse_rf_val))\n\nprint('Random Forest - Root Mean Absolute Error: %.2f' % np.sqrt(mse_rf_val))",
   "outputs": [
    {
     "name": "stdout",
     "text": "r2_score:  0.9562691721267235\nRandom Forest - Root Mean Squared Error: 3.34\nRandom Forest - Root Mean Absolute Error: 3.34\n",
     "output_type": "stream",
     "data": {}
    }
   ],
   "execution_count": null
  },
  {
   "cell_type": "code",
   "metadata": {
    "cell_id": "00032-ee666acb-0441-4abc-bc13-27158eb42485",
    "deepnote_to_be_reexecuted": false,
    "source_hash": "5efba71d",
    "execution_start": 1640956453369,
    "deepnote_cell_type": "code"
   },
   "source": "# evaluating algorithm performance for gradient boost regression\nmse_gbr_val = mean_squared_error(y_val, y_val_gbr, squared = False)\n\nmae_gbr_val = mean_absolute_error(y_val, y_val_gbr)\n\nprint('r2_score: ', r2_score(y_val, y_val_gbr))\n\nprint('Gradient Boost - Root Mean Squared Error: %.2f' % np.sqrt(mse_gbr_val))\n\nprint('Gradient Boost - Root Mean Absolute Error: %.2f' % np.sqrt(mae_gbr_val))",
   "outputs": [
    {
     "name": "stdout",
     "text": "r2_score:  0.9580166666827755\nGradient Boost - Root Mean Squared Error: 3.30\nGradient Boost - Root Mean Absolute Error: 2.85\n",
     "output_type": "stream",
     "data": {}
    }
   ],
   "execution_count": null
  },
  {
   "cell_type": "markdown",
   "source": "<a style='text-decoration:none;line-height:16px;display:flex;color:#5B5B62;padding:10px;justify-content:end;' href='https://deepnote.com?utm_source=created-in-deepnote-cell&projectId=0e4e8441-2ef4-4299-9537-9ff4fec216e1' target=\"_blank\">\n<img alt='Created in deepnote.com' style='display:inline;max-height:16px;margin:0px;margin-right:7.5px;' src='data:image/svg+xml;base64,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' > </img>\nCreated in <span style='font-weight:600;margin-left:4px;'>Deepnote</span></a>",
   "metadata": {
    "tags": [],
    "created_in_deepnote_cell": true,
    "deepnote_cell_type": "markdown"
   }
  }
 ],
 "nbformat": 4,
 "nbformat_minor": 5,
 "metadata": {
  "kernelspec": {
   "display_name": "Python 3",
   "language": "python",
   "name": "python3"
  },
  "language_info": {
   "codemirror_mode": {
    "name": "ipython",
    "version": 3
   },
   "file_extension": ".py",
   "mimetype": "text/x-python",
   "name": "python",
   "nbconvert_exporter": "python",
   "pygments_lexer": "ipython3",
   "version": "3.8.8"
  },
  "deepnote_notebook_id": "6fd32c03-e438-4b65-aeda-1b8ad960fb7b",
  "deepnote": {},
  "deepnote_execution_queue": []
 }
}